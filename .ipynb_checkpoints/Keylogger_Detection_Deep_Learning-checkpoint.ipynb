{
 "cells": [
  {
   "cell_type": "markdown",
   "id": "5ad16cb7",
   "metadata": {
    "papermill": {
     "duration": 0.023791,
     "end_time": "2021-12-06T11:54:07.185522",
     "exception": false,
     "start_time": "2021-12-06T11:54:07.161731",
     "status": "completed"
    },
    "tags": []
   },
   "source": [
    "# Keylogging [ IoT Intrusion ] Detection CNN"
   ]
  },
  {
   "cell_type": "markdown",
   "id": "38499747",
   "metadata": {
    "papermill": {
     "duration": 0.022385,
     "end_time": "2021-12-06T11:54:07.231467",
     "exception": false,
     "start_time": "2021-12-06T11:54:07.209082",
     "status": "completed"
    },
    "tags": []
   },
   "source": [
    "# Importing Libraries"
   ]
  },
  {
   "cell_type": "code",
   "execution_count": 1,
   "id": "d1f7455f",
   "metadata": {
    "_cell_guid": "79c7e3d0-c299-4dcb-8224-4455121ee9b0",
    "_uuid": "d629ff2d2480ee46fbb7e2d37f6b5fab8052498a",
    "execution": {
     "iopub.execute_input": "2021-12-06T11:54:07.281852Z",
     "iopub.status.busy": "2021-12-06T11:54:07.280349Z",
     "iopub.status.idle": "2021-12-06T11:54:14.944135Z",
     "shell.execute_reply": "2021-12-06T11:54:14.943082Z",
     "shell.execute_reply.started": "2021-12-06T11:52:50.239284Z"
    },
    "papermill": {
     "duration": 7.690227,
     "end_time": "2021-12-06T11:54:14.944304",
     "exception": false,
     "start_time": "2021-12-06T11:54:07.254077",
     "status": "completed"
    },
    "tags": []
   },
   "outputs": [],
   "source": [
    "import numpy as np\n",
    "import pandas as pd\n",
    "import matplotlib.pyplot as plt\n",
    "import seaborn as sns\n",
    "import plotly.express as px\n",
    "#import libraries\n",
    "from sklearn.model_selection import train_test_split\n",
    "from sklearn.metrics import roc_curve, auc\n",
    "from sklearn import metrics\n",
    "from tensorflow.keras.models import Sequential\n",
    "from tensorflow.keras.layers import Dense, Activation,Dropout\n",
    "from tensorflow.keras.callbacks import ModelCheckpoint, EarlyStopping, ReduceLROnPlateau\n",
    "from tensorflow.keras.optimizers import SGD,Adam\n",
    "import keras\n",
    "# Conv1D + LSTM\n",
    "from keras.layers.convolutional import Conv1D,MaxPooling1D,Conv2D,MaxPooling2D\n",
    "from keras.layers import LSTM\n",
    "from keras.layers import Dense\n",
    "from keras.layers import Flatten\n",
    "\n",
    "from tensorflow.keras import models, layers\n",
    "\n",
    "from tensorflow.keras.applications import EfficientNetB0\n",
    "from tensorflow.keras.applications import EfficientNetB6\n",
    "from tensorflow.keras.applications import InceptionV3\n",
    "\n",
    "from tensorflow.keras.applications import ResNet50"
   ]
  },
  {
   "cell_type": "markdown",
   "id": "8c55b49b",
   "metadata": {
    "papermill": {
     "duration": 0.02254,
     "end_time": "2021-12-06T11:54:14.990173",
     "exception": false,
     "start_time": "2021-12-06T11:54:14.967633",
     "status": "completed"
    },
    "tags": []
   },
   "source": [
    "# Reading Data"
   ]
  },
  {
   "cell_type": "code",
   "execution_count": 2,
   "id": "57e9ff9b",
   "metadata": {
    "execution": {
     "iopub.execute_input": "2021-12-06T11:54:15.039823Z",
     "iopub.status.busy": "2021-12-06T11:54:15.039291Z",
     "iopub.status.idle": "2021-12-06T11:54:23.489663Z",
     "shell.execute_reply": "2021-12-06T11:54:23.490301Z",
     "shell.execute_reply.started": "2021-12-06T11:52:57.541827Z"
    },
    "papermill": {
     "duration": 8.477701,
     "end_time": "2021-12-06T11:54:23.490508",
     "exception": false,
     "start_time": "2021-12-06T11:54:15.012807",
     "status": "completed"
    },
    "tags": []
   },
   "outputs": [
    {
     "name": "stderr",
     "output_type": "stream",
     "text": [
      "/opt/conda/lib/python3.7/site-packages/IPython/core/interactiveshell.py:3441: DtypeWarning: Columns (48,56) have mixed types.Specify dtype option on import or set low_memory=False.\n",
      "  exec(code_obj, self.user_global_ns, self.user_ns)\n"
     ]
    },
    {
     "data": {
      "text/html": [
       "<div>\n",
       "<style scoped>\n",
       "    .dataframe tbody tr th:only-of-type {\n",
       "        vertical-align: middle;\n",
       "    }\n",
       "\n",
       "    .dataframe tbody tr th {\n",
       "        vertical-align: top;\n",
       "    }\n",
       "\n",
       "    .dataframe thead th {\n",
       "        text-align: right;\n",
       "    }\n",
       "</style>\n",
       "<table border=\"1\" class=\"dataframe\">\n",
       "  <thead>\n",
       "    <tr style=\"text-align: right;\">\n",
       "      <th></th>\n",
       "      <th>Unnamed: 0</th>\n",
       "      <th>Flow ID</th>\n",
       "      <th>Source IP</th>\n",
       "      <th>Source Port</th>\n",
       "      <th>Destination IP</th>\n",
       "      <th>Destination Port</th>\n",
       "      <th>Protocol</th>\n",
       "      <th>Timestamp</th>\n",
       "      <th>Flow Duration</th>\n",
       "      <th>Total Fwd Packets</th>\n",
       "      <th>...</th>\n",
       "      <th>min_seg_size_forward</th>\n",
       "      <th>Active Mean</th>\n",
       "      <th>Active Std</th>\n",
       "      <th>Active Max</th>\n",
       "      <th>Active Min</th>\n",
       "      <th>Idle Mean</th>\n",
       "      <th>Idle Std</th>\n",
       "      <th>Idle Max</th>\n",
       "      <th>Idle Min</th>\n",
       "      <th>Class</th>\n",
       "    </tr>\n",
       "  </thead>\n",
       "  <tbody>\n",
       "    <tr>\n",
       "      <th>0</th>\n",
       "      <td>0</td>\n",
       "      <td>10.42.0.211-52.6.25.230-34451-443-6</td>\n",
       "      <td>10.42.0.211</td>\n",
       "      <td>34451.0</td>\n",
       "      <td>52.6.25.230</td>\n",
       "      <td>443.0</td>\n",
       "      <td>6.0</td>\n",
       "      <td>04/08/2017 05:12:36</td>\n",
       "      <td>12140931.0</td>\n",
       "      <td>9.0</td>\n",
       "      <td>...</td>\n",
       "      <td>32.0</td>\n",
       "      <td>0.0</td>\n",
       "      <td>0.0</td>\n",
       "      <td>0.0</td>\n",
       "      <td>0.0</td>\n",
       "      <td>0.0</td>\n",
       "      <td>0.0</td>\n",
       "      <td>0.0</td>\n",
       "      <td>0.0</td>\n",
       "      <td>Benign</td>\n",
       "    </tr>\n",
       "    <tr>\n",
       "      <th>1</th>\n",
       "      <td>1</td>\n",
       "      <td>172.217.3.99-10.42.0.151-443-53892-6</td>\n",
       "      <td>10.42.0.151</td>\n",
       "      <td>53892.0</td>\n",
       "      <td>172.217.3.99</td>\n",
       "      <td>443.0</td>\n",
       "      <td>6.0</td>\n",
       "      <td>04/08/2017 07:55:51</td>\n",
       "      <td>418882.0</td>\n",
       "      <td>102.0</td>\n",
       "      <td>...</td>\n",
       "      <td>32.0</td>\n",
       "      <td>0.0</td>\n",
       "      <td>0.0</td>\n",
       "      <td>0.0</td>\n",
       "      <td>0.0</td>\n",
       "      <td>0.0</td>\n",
       "      <td>0.0</td>\n",
       "      <td>0.0</td>\n",
       "      <td>0.0</td>\n",
       "      <td>Benign</td>\n",
       "    </tr>\n",
       "    <tr>\n",
       "      <th>2</th>\n",
       "      <td>2</td>\n",
       "      <td>172.217.3.98-10.42.0.151-443-50750-6</td>\n",
       "      <td>172.217.3.98</td>\n",
       "      <td>443.0</td>\n",
       "      <td>10.42.0.151</td>\n",
       "      <td>50750.0</td>\n",
       "      <td>6.0</td>\n",
       "      <td>04/08/2017 08:48:19</td>\n",
       "      <td>45.0</td>\n",
       "      <td>2.0</td>\n",
       "      <td>...</td>\n",
       "      <td>32.0</td>\n",
       "      <td>0.0</td>\n",
       "      <td>0.0</td>\n",
       "      <td>0.0</td>\n",
       "      <td>0.0</td>\n",
       "      <td>0.0</td>\n",
       "      <td>0.0</td>\n",
       "      <td>0.0</td>\n",
       "      <td>0.0</td>\n",
       "      <td>Benign</td>\n",
       "    </tr>\n",
       "    <tr>\n",
       "      <th>3</th>\n",
       "      <td>3</td>\n",
       "      <td>10.42.0.211-10.42.0.1-23025-53-17</td>\n",
       "      <td>10.42.0.211</td>\n",
       "      <td>23025.0</td>\n",
       "      <td>10.42.0.1</td>\n",
       "      <td>53.0</td>\n",
       "      <td>17.0</td>\n",
       "      <td>04/08/2017 05:54:10</td>\n",
       "      <td>541699.0</td>\n",
       "      <td>1.0</td>\n",
       "      <td>...</td>\n",
       "      <td>32.0</td>\n",
       "      <td>0.0</td>\n",
       "      <td>0.0</td>\n",
       "      <td>0.0</td>\n",
       "      <td>0.0</td>\n",
       "      <td>0.0</td>\n",
       "      <td>0.0</td>\n",
       "      <td>0.0</td>\n",
       "      <td>0.0</td>\n",
       "      <td>Benign</td>\n",
       "    </tr>\n",
       "    <tr>\n",
       "      <th>4</th>\n",
       "      <td>4</td>\n",
       "      <td>10.42.0.211-123.129.244.226-52602-443-6</td>\n",
       "      <td>10.42.0.211</td>\n",
       "      <td>52602.0</td>\n",
       "      <td>123.129.244.226</td>\n",
       "      <td>443.0</td>\n",
       "      <td>6.0</td>\n",
       "      <td>04/08/2017 08:44:25</td>\n",
       "      <td>7310795.0</td>\n",
       "      <td>3.0</td>\n",
       "      <td>...</td>\n",
       "      <td>20.0</td>\n",
       "      <td>0.0</td>\n",
       "      <td>0.0</td>\n",
       "      <td>0.0</td>\n",
       "      <td>0.0</td>\n",
       "      <td>0.0</td>\n",
       "      <td>0.0</td>\n",
       "      <td>0.0</td>\n",
       "      <td>0.0</td>\n",
       "      <td>Benign</td>\n",
       "    </tr>\n",
       "  </tbody>\n",
       "</table>\n",
       "<p>5 rows × 86 columns</p>\n",
       "</div>"
      ],
      "text/plain": [
       "   Unnamed: 0                                  Flow ID     Source IP  \\\n",
       "0           0      10.42.0.211-52.6.25.230-34451-443-6   10.42.0.211   \n",
       "1           1     172.217.3.99-10.42.0.151-443-53892-6   10.42.0.151   \n",
       "2           2     172.217.3.98-10.42.0.151-443-50750-6  172.217.3.98   \n",
       "3           3        10.42.0.211-10.42.0.1-23025-53-17   10.42.0.211   \n",
       "4           4  10.42.0.211-123.129.244.226-52602-443-6   10.42.0.211   \n",
       "\n",
       "    Source Port   Destination IP   Destination Port   Protocol  \\\n",
       "0       34451.0      52.6.25.230              443.0        6.0   \n",
       "1       53892.0     172.217.3.99              443.0        6.0   \n",
       "2         443.0      10.42.0.151            50750.0        6.0   \n",
       "3       23025.0        10.42.0.1               53.0       17.0   \n",
       "4       52602.0  123.129.244.226              443.0        6.0   \n",
       "\n",
       "             Timestamp   Flow Duration   Total Fwd Packets  ...  \\\n",
       "0  04/08/2017 05:12:36      12140931.0                 9.0  ...   \n",
       "1  04/08/2017 07:55:51        418882.0               102.0  ...   \n",
       "2  04/08/2017 08:48:19            45.0                 2.0  ...   \n",
       "3  04/08/2017 05:54:10        541699.0                 1.0  ...   \n",
       "4  04/08/2017 08:44:25       7310795.0                 3.0  ...   \n",
       "\n",
       "    min_seg_size_forward  Active Mean   Active Std   Active Max   Active Min  \\\n",
       "0                   32.0          0.0          0.0          0.0          0.0   \n",
       "1                   32.0          0.0          0.0          0.0          0.0   \n",
       "2                   32.0          0.0          0.0          0.0          0.0   \n",
       "3                   32.0          0.0          0.0          0.0          0.0   \n",
       "4                   20.0          0.0          0.0          0.0          0.0   \n",
       "\n",
       "   Idle Mean   Idle Std   Idle Max   Idle Min   Class  \n",
       "0        0.0        0.0        0.0        0.0  Benign  \n",
       "1        0.0        0.0        0.0        0.0  Benign  \n",
       "2        0.0        0.0        0.0        0.0  Benign  \n",
       "3        0.0        0.0        0.0        0.0  Benign  \n",
       "4        0.0        0.0        0.0        0.0  Benign  \n",
       "\n",
       "[5 rows x 86 columns]"
      ]
     },
     "execution_count": 2,
     "metadata": {},
     "output_type": "execute_result"
    }
   ],
   "source": [
    "df_dk=pd.read_csv('../input/keylogger-detection/Keylogger_Detection.csv')\n",
    "df_dk.head(5)"
   ]
  },
  {
   "cell_type": "markdown",
   "id": "8c787f55",
   "metadata": {
    "papermill": {
     "duration": 0.023426,
     "end_time": "2021-12-06T11:54:23.538580",
     "exception": false,
     "start_time": "2021-12-06T11:54:23.515154",
     "status": "completed"
    },
    "tags": []
   },
   "source": [
    "# Data Preparation"
   ]
  },
  {
   "cell_type": "code",
   "execution_count": 3,
   "id": "86029e3b",
   "metadata": {
    "execution": {
     "iopub.execute_input": "2021-12-06T11:54:23.591578Z",
     "iopub.status.busy": "2021-12-06T11:54:23.591057Z",
     "iopub.status.idle": "2021-12-06T11:54:23.596423Z",
     "shell.execute_reply": "2021-12-06T11:54:23.596008Z",
     "shell.execute_reply.started": "2021-12-06T11:53:06.430775Z"
    },
    "papermill": {
     "duration": 0.034146,
     "end_time": "2021-12-06T11:54:23.596530",
     "exception": false,
     "start_time": "2021-12-06T11:54:23.562384",
     "status": "completed"
    },
    "tags": []
   },
   "outputs": [
    {
     "data": {
      "text/plain": [
       "Unnamed: 0           int64\n",
       "Flow ID             object\n",
       " Source IP          object\n",
       " Source Port       float64\n",
       " Destination IP     object\n",
       "                    ...   \n",
       "Idle Mean          float64\n",
       " Idle Std          float64\n",
       " Idle Max          float64\n",
       " Idle Min          float64\n",
       "Class               object\n",
       "Length: 86, dtype: object"
      ]
     },
     "execution_count": 3,
     "metadata": {},
     "output_type": "execute_result"
    }
   ],
   "source": [
    "df_dk.dtypes"
   ]
  },
  {
   "cell_type": "code",
   "execution_count": 4,
   "id": "60b49cd4",
   "metadata": {
    "execution": {
     "iopub.execute_input": "2021-12-06T11:54:23.751955Z",
     "iopub.status.busy": "2021-12-06T11:54:23.751063Z",
     "iopub.status.idle": "2021-12-06T11:54:23.879611Z",
     "shell.execute_reply": "2021-12-06T11:54:23.879131Z",
     "shell.execute_reply.started": "2021-12-06T11:53:06.440637Z"
    },
    "papermill": {
     "duration": 0.259301,
     "end_time": "2021-12-06T11:54:23.879739",
     "exception": false,
     "start_time": "2021-12-06T11:54:23.620438",
     "status": "completed"
    },
    "tags": []
   },
   "outputs": [],
   "source": [
    "Class_df = df_dk[\"Class\"]\n",
    "df_num = df_dk.select_dtypes(include=[np.number])\n",
    "df_num = df_num.join(Class_df)"
   ]
  },
  {
   "cell_type": "markdown",
   "id": "d45f7073",
   "metadata": {
    "papermill": {
     "duration": 0.023987,
     "end_time": "2021-12-06T11:54:23.928177",
     "exception": false,
     "start_time": "2021-12-06T11:54:23.904190",
     "status": "completed"
    },
    "tags": []
   },
   "source": [
    "### Removing Columns"
   ]
  },
  {
   "cell_type": "code",
   "execution_count": 5,
   "id": "61dcaba0",
   "metadata": {
    "execution": {
     "iopub.execute_input": "2021-12-06T11:54:23.983014Z",
     "iopub.status.busy": "2021-12-06T11:54:23.981798Z",
     "iopub.status.idle": "2021-12-06T11:54:24.082475Z",
     "shell.execute_reply": "2021-12-06T11:54:24.081949Z",
     "shell.execute_reply.started": "2021-12-06T11:53:06.673127Z"
    },
    "papermill": {
     "duration": 0.129335,
     "end_time": "2021-12-06T11:54:24.082606",
     "exception": false,
     "start_time": "2021-12-06T11:54:23.953271",
     "status": "completed"
    },
    "tags": []
   },
   "outputs": [],
   "source": [
    "df_num.drop('Unnamed: 0', axis=1, inplace=True)"
   ]
  },
  {
   "cell_type": "markdown",
   "id": "2b47bb50",
   "metadata": {
    "papermill": {
     "duration": 0.023975,
     "end_time": "2021-12-06T11:54:24.130701",
     "exception": false,
     "start_time": "2021-12-06T11:54:24.106726",
     "status": "completed"
    },
    "tags": []
   },
   "source": [
    "### Removing nan values"
   ]
  },
  {
   "cell_type": "code",
   "execution_count": 6,
   "id": "97756a31",
   "metadata": {
    "execution": {
     "iopub.execute_input": "2021-12-06T11:54:24.183521Z",
     "iopub.status.busy": "2021-12-06T11:54:24.182536Z",
     "iopub.status.idle": "2021-12-06T11:54:24.564198Z",
     "shell.execute_reply": "2021-12-06T11:54:24.563717Z",
     "shell.execute_reply.started": "2021-12-06T11:53:06.779807Z"
    },
    "papermill": {
     "duration": 0.409751,
     "end_time": "2021-12-06T11:54:24.564332",
     "exception": false,
     "start_time": "2021-12-06T11:54:24.154581",
     "status": "completed"
    },
    "tags": []
   },
   "outputs": [
    {
     "name": "stdout",
     "output_type": "stream",
     "text": [
      "879\n"
     ]
    }
   ],
   "source": [
    "print(df_num.isna().sum().sum())\n",
    "df_num=df_num.dropna()"
   ]
  },
  {
   "cell_type": "code",
   "execution_count": 7,
   "id": "d3e390fb",
   "metadata": {
    "execution": {
     "iopub.execute_input": "2021-12-06T11:54:24.618153Z",
     "iopub.status.busy": "2021-12-06T11:54:24.617504Z",
     "iopub.status.idle": "2021-12-06T11:54:24.925820Z",
     "shell.execute_reply": "2021-12-06T11:54:24.926305Z",
     "shell.execute_reply.started": "2021-12-06T11:53:07.177218Z"
    },
    "papermill": {
     "duration": 0.337585,
     "end_time": "2021-12-06T11:54:24.926483",
     "exception": false,
     "start_time": "2021-12-06T11:54:24.588898",
     "status": "completed"
    },
    "tags": []
   },
   "outputs": [
    {
     "data": {
      "text/html": [
       "<div>\n",
       "<style scoped>\n",
       "    .dataframe tbody tr th:only-of-type {\n",
       "        vertical-align: middle;\n",
       "    }\n",
       "\n",
       "    .dataframe tbody tr th {\n",
       "        vertical-align: top;\n",
       "    }\n",
       "\n",
       "    .dataframe thead th {\n",
       "        text-align: right;\n",
       "    }\n",
       "</style>\n",
       "<table border=\"1\" class=\"dataframe\">\n",
       "  <thead>\n",
       "    <tr style=\"text-align: right;\">\n",
       "      <th></th>\n",
       "      <th>Source Port</th>\n",
       "      <th>Destination Port</th>\n",
       "      <th>Protocol</th>\n",
       "      <th>Flow Duration</th>\n",
       "      <th>Total Fwd Packets</th>\n",
       "      <th>Total Backward Packets</th>\n",
       "      <th>Total Length of Fwd Packets</th>\n",
       "      <th>Total Length of Bwd Packets</th>\n",
       "      <th>Fwd Packet Length Max</th>\n",
       "      <th>Fwd Packet Length Min</th>\n",
       "      <th>...</th>\n",
       "      <th>min_seg_size_forward</th>\n",
       "      <th>Active Mean</th>\n",
       "      <th>Active Std</th>\n",
       "      <th>Active Max</th>\n",
       "      <th>Active Min</th>\n",
       "      <th>Idle Mean</th>\n",
       "      <th>Idle Std</th>\n",
       "      <th>Idle Max</th>\n",
       "      <th>Idle Min</th>\n",
       "      <th>label</th>\n",
       "    </tr>\n",
       "  </thead>\n",
       "  <tbody>\n",
       "    <tr>\n",
       "      <th>498291</th>\n",
       "      <td>57019.0</td>\n",
       "      <td>53.0</td>\n",
       "      <td>17.0</td>\n",
       "      <td>24430.0</td>\n",
       "      <td>1.0</td>\n",
       "      <td>1.0</td>\n",
       "      <td>36.0</td>\n",
       "      <td>94.0</td>\n",
       "      <td>36.0</td>\n",
       "      <td>36.0</td>\n",
       "      <td>...</td>\n",
       "      <td>32.0</td>\n",
       "      <td>0.0</td>\n",
       "      <td>0.0</td>\n",
       "      <td>0.0</td>\n",
       "      <td>0.0</td>\n",
       "      <td>0.0</td>\n",
       "      <td>0.0</td>\n",
       "      <td>0.0</td>\n",
       "      <td>0.0</td>\n",
       "      <td>1</td>\n",
       "    </tr>\n",
       "    <tr>\n",
       "      <th>272175</th>\n",
       "      <td>39775.0</td>\n",
       "      <td>53.0</td>\n",
       "      <td>17.0</td>\n",
       "      <td>76423.0</td>\n",
       "      <td>1.0</td>\n",
       "      <td>1.0</td>\n",
       "      <td>29.0</td>\n",
       "      <td>148.0</td>\n",
       "      <td>29.0</td>\n",
       "      <td>29.0</td>\n",
       "      <td>...</td>\n",
       "      <td>20.0</td>\n",
       "      <td>0.0</td>\n",
       "      <td>0.0</td>\n",
       "      <td>0.0</td>\n",
       "      <td>0.0</td>\n",
       "      <td>0.0</td>\n",
       "      <td>0.0</td>\n",
       "      <td>0.0</td>\n",
       "      <td>0.0</td>\n",
       "      <td>0</td>\n",
       "    </tr>\n",
       "    <tr>\n",
       "      <th>484573</th>\n",
       "      <td>443.0</td>\n",
       "      <td>58045.0</td>\n",
       "      <td>6.0</td>\n",
       "      <td>2143.0</td>\n",
       "      <td>1.0</td>\n",
       "      <td>1.0</td>\n",
       "      <td>0.0</td>\n",
       "      <td>0.0</td>\n",
       "      <td>0.0</td>\n",
       "      <td>0.0</td>\n",
       "      <td>...</td>\n",
       "      <td>32.0</td>\n",
       "      <td>0.0</td>\n",
       "      <td>0.0</td>\n",
       "      <td>0.0</td>\n",
       "      <td>0.0</td>\n",
       "      <td>0.0</td>\n",
       "      <td>0.0</td>\n",
       "      <td>0.0</td>\n",
       "      <td>0.0</td>\n",
       "      <td>0</td>\n",
       "    </tr>\n",
       "    <tr>\n",
       "      <th>34572</th>\n",
       "      <td>32003.0</td>\n",
       "      <td>53.0</td>\n",
       "      <td>17.0</td>\n",
       "      <td>31695.0</td>\n",
       "      <td>1.0</td>\n",
       "      <td>1.0</td>\n",
       "      <td>34.0</td>\n",
       "      <td>50.0</td>\n",
       "      <td>34.0</td>\n",
       "      <td>34.0</td>\n",
       "      <td>...</td>\n",
       "      <td>32.0</td>\n",
       "      <td>0.0</td>\n",
       "      <td>0.0</td>\n",
       "      <td>0.0</td>\n",
       "      <td>0.0</td>\n",
       "      <td>0.0</td>\n",
       "      <td>0.0</td>\n",
       "      <td>0.0</td>\n",
       "      <td>0.0</td>\n",
       "      <td>0</td>\n",
       "    </tr>\n",
       "    <tr>\n",
       "      <th>450965</th>\n",
       "      <td>46228.0</td>\n",
       "      <td>443.0</td>\n",
       "      <td>17.0</td>\n",
       "      <td>2573398.0</td>\n",
       "      <td>176.0</td>\n",
       "      <td>337.0</td>\n",
       "      <td>11337.0</td>\n",
       "      <td>431659.0</td>\n",
       "      <td>1350.0</td>\n",
       "      <td>35.0</td>\n",
       "      <td>...</td>\n",
       "      <td>14.0</td>\n",
       "      <td>0.0</td>\n",
       "      <td>0.0</td>\n",
       "      <td>0.0</td>\n",
       "      <td>0.0</td>\n",
       "      <td>0.0</td>\n",
       "      <td>0.0</td>\n",
       "      <td>0.0</td>\n",
       "      <td>0.0</td>\n",
       "      <td>1</td>\n",
       "    </tr>\n",
       "  </tbody>\n",
       "</table>\n",
       "<p>5 rows × 79 columns</p>\n",
       "</div>"
      ],
      "text/plain": [
       "         Source Port   Destination Port   Protocol   Flow Duration  \\\n",
       "498291       57019.0               53.0       17.0         24430.0   \n",
       "272175       39775.0               53.0       17.0         76423.0   \n",
       "484573         443.0            58045.0        6.0          2143.0   \n",
       "34572        32003.0               53.0       17.0         31695.0   \n",
       "450965       46228.0              443.0       17.0       2573398.0   \n",
       "\n",
       "         Total Fwd Packets   Total Backward Packets  \\\n",
       "498291                 1.0                      1.0   \n",
       "272175                 1.0                      1.0   \n",
       "484573                 1.0                      1.0   \n",
       "34572                  1.0                      1.0   \n",
       "450965               176.0                    337.0   \n",
       "\n",
       "        Total Length of Fwd Packets   Total Length of Bwd Packets  \\\n",
       "498291                         36.0                          94.0   \n",
       "272175                         29.0                         148.0   \n",
       "484573                          0.0                           0.0   \n",
       "34572                          34.0                          50.0   \n",
       "450965                      11337.0                      431659.0   \n",
       "\n",
       "         Fwd Packet Length Max   Fwd Packet Length Min  ...  \\\n",
       "498291                    36.0                    36.0  ...   \n",
       "272175                    29.0                    29.0  ...   \n",
       "484573                     0.0                     0.0  ...   \n",
       "34572                     34.0                    34.0  ...   \n",
       "450965                  1350.0                    35.0  ...   \n",
       "\n",
       "         min_seg_size_forward  Active Mean   Active Std   Active Max  \\\n",
       "498291                   32.0          0.0          0.0          0.0   \n",
       "272175                   20.0          0.0          0.0          0.0   \n",
       "484573                   32.0          0.0          0.0          0.0   \n",
       "34572                    32.0          0.0          0.0          0.0   \n",
       "450965                   14.0          0.0          0.0          0.0   \n",
       "\n",
       "         Active Min  Idle Mean   Idle Std   Idle Max   Idle Min  label  \n",
       "498291          0.0        0.0        0.0        0.0        0.0      1  \n",
       "272175          0.0        0.0        0.0        0.0        0.0      0  \n",
       "484573          0.0        0.0        0.0        0.0        0.0      0  \n",
       "34572           0.0        0.0        0.0        0.0        0.0      0  \n",
       "450965          0.0        0.0        0.0        0.0        0.0      1  \n",
       "\n",
       "[5 rows x 79 columns]"
      ]
     },
     "execution_count": 7,
     "metadata": {},
     "output_type": "execute_result"
    }
   ],
   "source": [
    "df_num[\"label\"]=df_num[\"Class\"]\n",
    "df_num.loc[df_num.label == \"Benign\", 'label'] = 0\n",
    "df_num.loc[df_num.label == \"Keylogger\", 'label'] = 1\n",
    "df_num.drop('Class', axis=1, inplace=True)\n",
    "df_num.sample(5)"
   ]
  },
  {
   "cell_type": "markdown",
   "id": "0bb68a7b",
   "metadata": {
    "papermill": {
     "duration": 0.024914,
     "end_time": "2021-12-06T11:54:24.977476",
     "exception": false,
     "start_time": "2021-12-06T11:54:24.952562",
     "status": "completed"
    },
    "tags": []
   },
   "source": [
    "# Distribution Classes"
   ]
  },
  {
   "cell_type": "code",
   "execution_count": 8,
   "id": "d354eaa4",
   "metadata": {
    "execution": {
     "iopub.execute_input": "2021-12-06T11:54:25.031073Z",
     "iopub.status.busy": "2021-12-06T11:54:25.030327Z",
     "iopub.status.idle": "2021-12-06T11:54:25.190360Z",
     "shell.execute_reply": "2021-12-06T11:54:25.189814Z",
     "shell.execute_reply.started": "2021-12-06T11:53:07.499084Z"
    },
    "papermill": {
     "duration": 0.188058,
     "end_time": "2021-12-06T11:54:25.190495",
     "exception": false,
     "start_time": "2021-12-06T11:54:25.002437",
     "status": "completed"
    },
    "tags": []
   },
   "outputs": [],
   "source": [
    "df_num=df_num.sample(n=200000)"
   ]
  },
  {
   "cell_type": "code",
   "execution_count": 9,
   "id": "a064debd",
   "metadata": {
    "execution": {
     "iopub.execute_input": "2021-12-06T11:54:25.264436Z",
     "iopub.status.busy": "2021-12-06T11:54:25.246790Z",
     "iopub.status.idle": "2021-12-06T11:54:25.271602Z",
     "shell.execute_reply": "2021-12-06T11:54:25.272059Z",
     "shell.execute_reply.started": "2021-12-06T11:53:07.669051Z"
    },
    "papermill": {
     "duration": 0.05542,
     "end_time": "2021-12-06T11:54:25.272201",
     "exception": false,
     "start_time": "2021-12-06T11:54:25.216781",
     "status": "completed"
    },
    "tags": []
   },
   "outputs": [
    {
     "data": {
      "text/plain": [
       "label\n",
       "0    117655\n",
       "1     82345\n",
       "dtype: int64"
      ]
     },
     "execution_count": 9,
     "metadata": {},
     "output_type": "execute_result"
    }
   ],
   "source": [
    "df_num.groupby('label').size()"
   ]
  },
  {
   "cell_type": "markdown",
   "id": "cd7aee48",
   "metadata": {
    "papermill": {
     "duration": 0.025066,
     "end_time": "2021-12-06T11:54:25.322817",
     "exception": false,
     "start_time": "2021-12-06T11:54:25.297751",
     "status": "completed"
    },
    "tags": []
   },
   "source": [
    "# Remove Useless Features"
   ]
  },
  {
   "cell_type": "code",
   "execution_count": 10,
   "id": "e7cc37a9",
   "metadata": {
    "execution": {
     "iopub.execute_input": "2021-12-06T11:54:25.417253Z",
     "iopub.status.busy": "2021-12-06T11:54:25.416308Z",
     "iopub.status.idle": "2021-12-06T11:54:25.899713Z",
     "shell.execute_reply": "2021-12-06T11:54:25.900209Z",
     "shell.execute_reply.started": "2021-12-06T11:53:07.699705Z"
    },
    "papermill": {
     "duration": 0.552565,
     "end_time": "2021-12-06T11:54:25.900370",
     "exception": false,
     "start_time": "2021-12-06T11:54:25.347805",
     "status": "completed"
    },
    "tags": []
   },
   "outputs": [],
   "source": [
    "for col in (df_num.iloc[:,:-1].columns):\n",
    "    if(df_num[col].min()==df_num[col].max()):\n",
    "            df_num.drop(col, axis=1, inplace=True)"
   ]
  },
  {
   "cell_type": "markdown",
   "id": "edcec1ff",
   "metadata": {
    "papermill": {
     "duration": 0.026026,
     "end_time": "2021-12-06T11:54:25.951687",
     "exception": false,
     "start_time": "2021-12-06T11:54:25.925661",
     "status": "completed"
    },
    "tags": []
   },
   "source": [
    "# Feature Scaling"
   ]
  },
  {
   "cell_type": "code",
   "execution_count": 11,
   "id": "9a83b297",
   "metadata": {
    "execution": {
     "iopub.execute_input": "2021-12-06T11:54:26.042388Z",
     "iopub.status.busy": "2021-12-06T11:54:26.041412Z",
     "iopub.status.idle": "2021-12-06T11:54:26.262655Z",
     "shell.execute_reply": "2021-12-06T11:54:26.263104Z",
     "shell.execute_reply.started": "2021-12-06T11:53:08.222905Z"
    },
    "papermill": {
     "duration": 0.285292,
     "end_time": "2021-12-06T11:54:26.263263",
     "exception": false,
     "start_time": "2021-12-06T11:54:25.977971",
     "status": "completed"
    },
    "tags": []
   },
   "outputs": [
    {
     "data": {
      "text/html": [
       "<div>\n",
       "<style scoped>\n",
       "    .dataframe tbody tr th:only-of-type {\n",
       "        vertical-align: middle;\n",
       "    }\n",
       "\n",
       "    .dataframe tbody tr th {\n",
       "        vertical-align: top;\n",
       "    }\n",
       "\n",
       "    .dataframe thead th {\n",
       "        text-align: right;\n",
       "    }\n",
       "</style>\n",
       "<table border=\"1\" class=\"dataframe\">\n",
       "  <thead>\n",
       "    <tr style=\"text-align: right;\">\n",
       "      <th></th>\n",
       "      <th>Source Port</th>\n",
       "      <th>Destination Port</th>\n",
       "      <th>Protocol</th>\n",
       "      <th>Flow Duration</th>\n",
       "      <th>Total Fwd Packets</th>\n",
       "      <th>Total Backward Packets</th>\n",
       "      <th>Total Length of Fwd Packets</th>\n",
       "      <th>Total Length of Bwd Packets</th>\n",
       "      <th>Fwd Packet Length Max</th>\n",
       "      <th>Fwd Packet Length Min</th>\n",
       "      <th>...</th>\n",
       "      <th>min_seg_size_forward</th>\n",
       "      <th>Active Mean</th>\n",
       "      <th>Active Std</th>\n",
       "      <th>Active Max</th>\n",
       "      <th>Active Min</th>\n",
       "      <th>Idle Mean</th>\n",
       "      <th>Idle Std</th>\n",
       "      <th>Idle Max</th>\n",
       "      <th>Idle Min</th>\n",
       "      <th>label</th>\n",
       "    </tr>\n",
       "  </thead>\n",
       "  <tbody>\n",
       "    <tr>\n",
       "      <th>468826</th>\n",
       "      <td>189.783007</td>\n",
       "      <td>1.726554</td>\n",
       "      <td>90.0</td>\n",
       "      <td>0.001855</td>\n",
       "      <td>0.029412</td>\n",
       "      <td>0.000000</td>\n",
       "      <td>0.000633</td>\n",
       "      <td>0.000000</td>\n",
       "      <td>5.414384</td>\n",
       "      <td>0.000000</td>\n",
       "      <td>...</td>\n",
       "      <td>254.999995</td>\n",
       "      <td>0.000000</td>\n",
       "      <td>0.0</td>\n",
       "      <td>0.000000</td>\n",
       "      <td>0.000000</td>\n",
       "      <td>0.000000</td>\n",
       "      <td>0.0</td>\n",
       "      <td>0.000000</td>\n",
       "      <td>0.000000</td>\n",
       "      <td>0</td>\n",
       "    </tr>\n",
       "    <tr>\n",
       "      <th>119615</th>\n",
       "      <td>169.630333</td>\n",
       "      <td>1.726554</td>\n",
       "      <td>90.0</td>\n",
       "      <td>0.000094</td>\n",
       "      <td>0.000000</td>\n",
       "      <td>0.017031</td>\n",
       "      <td>0.000633</td>\n",
       "      <td>0.000000</td>\n",
       "      <td>5.414384</td>\n",
       "      <td>5.414384</td>\n",
       "      <td>...</td>\n",
       "      <td>254.999995</td>\n",
       "      <td>0.000000</td>\n",
       "      <td>0.0</td>\n",
       "      <td>0.000000</td>\n",
       "      <td>0.000000</td>\n",
       "      <td>0.000000</td>\n",
       "      <td>0.0</td>\n",
       "      <td>0.000000</td>\n",
       "      <td>0.000000</td>\n",
       "      <td>1</td>\n",
       "    </tr>\n",
       "    <tr>\n",
       "      <th>13486</th>\n",
       "      <td>200.592840</td>\n",
       "      <td>0.206563</td>\n",
       "      <td>255.0</td>\n",
       "      <td>0.131174</td>\n",
       "      <td>0.000000</td>\n",
       "      <td>0.017031</td>\n",
       "      <td>0.000796</td>\n",
       "      <td>0.001107</td>\n",
       "      <td>6.811644</td>\n",
       "      <td>6.811644</td>\n",
       "      <td>...</td>\n",
       "      <td>254.999995</td>\n",
       "      <td>0.000000</td>\n",
       "      <td>0.0</td>\n",
       "      <td>0.000000</td>\n",
       "      <td>0.000000</td>\n",
       "      <td>0.000000</td>\n",
       "      <td>0.0</td>\n",
       "      <td>0.000000</td>\n",
       "      <td>0.000000</td>\n",
       "      <td>1</td>\n",
       "    </tr>\n",
       "    <tr>\n",
       "      <th>190391</th>\n",
       "      <td>162.812901</td>\n",
       "      <td>0.311793</td>\n",
       "      <td>90.0</td>\n",
       "      <td>35.136480</td>\n",
       "      <td>2.411765</td>\n",
       "      <td>2.980365</td>\n",
       "      <td>0.081720</td>\n",
       "      <td>2.537419</td>\n",
       "      <td>107.589041</td>\n",
       "      <td>0.000000</td>\n",
       "      <td>...</td>\n",
       "      <td>254.999995</td>\n",
       "      <td>9.400861</td>\n",
       "      <td>0.0</td>\n",
       "      <td>5.186015</td>\n",
       "      <td>9.492735</td>\n",
       "      <td>13.044248</td>\n",
       "      <td>0.0</td>\n",
       "      <td>13.044248</td>\n",
       "      <td>13.044248</td>\n",
       "      <td>0</td>\n",
       "    </tr>\n",
       "    <tr>\n",
       "      <th>65668</th>\n",
       "      <td>153.540103</td>\n",
       "      <td>1.726554</td>\n",
       "      <td>90.0</td>\n",
       "      <td>0.028990</td>\n",
       "      <td>0.000000</td>\n",
       "      <td>0.017031</td>\n",
       "      <td>0.000000</td>\n",
       "      <td>0.000000</td>\n",
       "      <td>0.000000</td>\n",
       "      <td>0.000000</td>\n",
       "      <td>...</td>\n",
       "      <td>254.999995</td>\n",
       "      <td>0.000000</td>\n",
       "      <td>0.0</td>\n",
       "      <td>0.000000</td>\n",
       "      <td>0.000000</td>\n",
       "      <td>0.000000</td>\n",
       "      <td>0.0</td>\n",
       "      <td>0.000000</td>\n",
       "      <td>0.000000</td>\n",
       "      <td>0</td>\n",
       "    </tr>\n",
       "  </tbody>\n",
       "</table>\n",
       "<p>5 rows × 68 columns</p>\n",
       "</div>"
      ],
      "text/plain": [
       "         Source Port   Destination Port   Protocol   Flow Duration  \\\n",
       "468826    189.783007           1.726554       90.0        0.001855   \n",
       "119615    169.630333           1.726554       90.0        0.000094   \n",
       "13486     200.592840           0.206563      255.0        0.131174   \n",
       "190391    162.812901           0.311793       90.0       35.136480   \n",
       "65668     153.540103           1.726554       90.0        0.028990   \n",
       "\n",
       "         Total Fwd Packets   Total Backward Packets  \\\n",
       "468826            0.029412                 0.000000   \n",
       "119615            0.000000                 0.017031   \n",
       "13486             0.000000                 0.017031   \n",
       "190391            2.411765                 2.980365   \n",
       "65668             0.000000                 0.017031   \n",
       "\n",
       "        Total Length of Fwd Packets   Total Length of Bwd Packets  \\\n",
       "468826                     0.000633                      0.000000   \n",
       "119615                     0.000633                      0.000000   \n",
       "13486                      0.000796                      0.001107   \n",
       "190391                     0.081720                      2.537419   \n",
       "65668                      0.000000                      0.000000   \n",
       "\n",
       "         Fwd Packet Length Max   Fwd Packet Length Min  ...  \\\n",
       "468826                5.414384                0.000000  ...   \n",
       "119615                5.414384                5.414384  ...   \n",
       "13486                 6.811644                6.811644  ...   \n",
       "190391              107.589041                0.000000  ...   \n",
       "65668                 0.000000                0.000000  ...   \n",
       "\n",
       "         min_seg_size_forward  Active Mean   Active Std   Active Max  \\\n",
       "468826             254.999995     0.000000          0.0     0.000000   \n",
       "119615             254.999995     0.000000          0.0     0.000000   \n",
       "13486              254.999995     0.000000          0.0     0.000000   \n",
       "190391             254.999995     9.400861          0.0     5.186015   \n",
       "65668              254.999995     0.000000          0.0     0.000000   \n",
       "\n",
       "         Active Min  Idle Mean   Idle Std   Idle Max   Idle Min  label  \n",
       "468826     0.000000   0.000000        0.0   0.000000   0.000000      0  \n",
       "119615     0.000000   0.000000        0.0   0.000000   0.000000      1  \n",
       "13486      0.000000   0.000000        0.0   0.000000   0.000000      1  \n",
       "190391     9.492735  13.044248        0.0  13.044248  13.044248      0  \n",
       "65668      0.000000   0.000000        0.0   0.000000   0.000000      0  \n",
       "\n",
       "[5 rows x 68 columns]"
      ]
     },
     "execution_count": 11,
     "metadata": {},
     "output_type": "execute_result"
    }
   ],
   "source": [
    "# Normalization OR Standardization\n",
    "def standardize(df,col):\n",
    "    #df[col]= (df[col]-df[col].mean())/(df[col].std()) # Standardization\n",
    "    df[col]= 255*(df[col]-df[col].min())/(df[col].max()-df[col].min()) #Normalization\n",
    "\n",
    "for i in (df_num.iloc[:,:-1].columns):\n",
    "    standardize (df_num,i)\n",
    "\n",
    "df_num.head()"
   ]
  },
  {
   "cell_type": "code",
   "execution_count": 12,
   "id": "02d7a793",
   "metadata": {
    "execution": {
     "iopub.execute_input": "2021-12-06T11:54:26.320095Z",
     "iopub.status.busy": "2021-12-06T11:54:26.319194Z",
     "iopub.status.idle": "2021-12-06T11:54:27.322111Z",
     "shell.execute_reply": "2021-12-06T11:54:27.321639Z",
     "shell.execute_reply.started": "2021-12-06T11:53:08.491867Z"
    },
    "papermill": {
     "duration": 1.033035,
     "end_time": "2021-12-06T11:54:27.322240",
     "exception": false,
     "start_time": "2021-12-06T11:54:26.289205",
     "status": "completed"
    },
    "tags": []
   },
   "outputs": [
    {
     "name": "stderr",
     "output_type": "stream",
     "text": [
      "/opt/conda/lib/python3.7/site-packages/ipykernel_launcher.py:3: PerformanceWarning: DataFrame is highly fragmented.  This is usually the result of calling `frame.insert` many times, which has poor performance.  Consider joining all columns at once using pd.concat(axis=1) instead.  To get a de-fragmented frame, use `newframe = frame.copy()`\n",
      "  This is separate from the ipykernel package so we can avoid doing imports until\n"
     ]
    },
    {
     "data": {
      "text/plain": [
       "(200000, 1025)"
      ]
     },
     "execution_count": 12,
     "metadata": {},
     "output_type": "execute_result"
    }
   ],
   "source": [
    "for i in range(957):\n",
    "    col=\"A\"+str(i)\n",
    "    df_num[col]=0\n",
    "\n",
    "df_num.shape\n"
   ]
  },
  {
   "cell_type": "code",
   "execution_count": 13,
   "id": "9ec7367f",
   "metadata": {
    "execution": {
     "iopub.execute_input": "2021-12-06T11:54:27.379000Z",
     "iopub.status.busy": "2021-12-06T11:54:27.378223Z",
     "iopub.status.idle": "2021-12-06T11:54:27.380633Z",
     "shell.execute_reply": "2021-12-06T11:54:27.380232Z",
     "shell.execute_reply.started": "2021-12-06T11:53:09.542245Z"
    },
    "papermill": {
     "duration": 0.032249,
     "end_time": "2021-12-06T11:54:27.380736",
     "exception": false,
     "start_time": "2021-12-06T11:54:27.348487",
     "status": "completed"
    },
    "tags": []
   },
   "outputs": [],
   "source": [
    "target=['label']\n",
    "features = [c for c in df_num.columns if c!=\"label\"]"
   ]
  },
  {
   "cell_type": "code",
   "execution_count": 14,
   "id": "d9a316be",
   "metadata": {
    "execution": {
     "iopub.execute_input": "2021-12-06T11:54:27.448834Z",
     "iopub.status.busy": "2021-12-06T11:54:27.448280Z",
     "iopub.status.idle": "2021-12-06T11:54:29.229393Z",
     "shell.execute_reply": "2021-12-06T11:54:29.228825Z",
     "shell.execute_reply.started": "2021-12-06T11:53:09.551968Z"
    },
    "papermill": {
     "duration": 1.821385,
     "end_time": "2021-12-06T11:54:29.229532",
     "exception": false,
     "start_time": "2021-12-06T11:54:27.408147",
     "status": "completed"
    },
    "tags": []
   },
   "outputs": [
    {
     "name": "stdout",
     "output_type": "stream",
     "text": [
      "<class 'numpy.ndarray'>\n"
     ]
    },
    {
     "data": {
      "image/png": "[encoded data removed]",
      "text/plain": [
       "<Figure size 432x288 with 1 Axes>"
      ]
     },
     "metadata": {
      "needs_background": "light"
     },
     "output_type": "display_data"
    }
   ],
   "source": [
    "row_1=df_num[features].iloc[0].to_numpy()\n",
    "row_1.shape\n",
    "row_2=row_1.reshape(32, 32)\n",
    "row_2=row_2.astype(int)\n",
    "print(type(row_2))\n",
    "from matplotlib import pyplot as plt\n",
    "plt.imshow(row_2,cmap='gray')\n",
    "plt.show()"
   ]
  },
  {
   "cell_type": "markdown",
   "id": "b2bdddc0",
   "metadata": {
    "papermill": {
     "duration": 0.027455,
     "end_time": "2021-12-06T11:54:29.284851",
     "exception": false,
     "start_time": "2021-12-06T11:54:29.257396",
     "status": "completed"
    },
    "tags": []
   },
   "source": [
    "# Split DataSet"
   ]
  },
  {
   "cell_type": "code",
   "execution_count": 15,
   "id": "08a69a1c",
   "metadata": {
    "execution": {
     "iopub.execute_input": "2021-12-06T11:54:29.805766Z",
     "iopub.status.busy": "2021-12-06T11:54:29.343788Z",
     "iopub.status.idle": "2021-12-06T11:54:30.648652Z",
     "shell.execute_reply": "2021-12-06T11:54:30.647694Z",
     "shell.execute_reply.started": "2021-12-06T11:53:11.542972Z"
    },
    "papermill": {
     "duration": 1.337297,
     "end_time": "2021-12-06T11:54:30.648804",
     "exception": false,
     "start_time": "2021-12-06T11:54:29.311507",
     "status": "completed"
    },
    "tags": []
   },
   "outputs": [
    {
     "data": {
      "text/plain": [
       "((200000, 1024), (200000, 1))"
      ]
     },
     "execution_count": 15,
     "metadata": {},
     "output_type": "execute_result"
    }
   ],
   "source": [
    "X = df_num[features].values # Features\n",
    "y = df_num[target].values # Target\n",
    "\n",
    "X=X.astype(np.float32)\n",
    "y=y.astype(np.float32)\n",
    "\n",
    "X.shape,y.shape,"
   ]
  },
  {
   "cell_type": "code",
   "execution_count": 16,
   "id": "49508abd",
   "metadata": {
    "execution": {
     "iopub.execute_input": "2021-12-06T11:54:30.713153Z",
     "iopub.status.busy": "2021-12-06T11:54:30.712081Z",
     "iopub.status.idle": "2021-12-06T11:54:32.962282Z",
     "shell.execute_reply": "2021-12-06T11:54:32.963281Z",
     "shell.execute_reply.started": "2021-12-06T11:53:13.016463Z"
    },
    "papermill": {
     "duration": 2.287227,
     "end_time": "2021-12-06T11:54:32.963537",
     "exception": false,
     "start_time": "2021-12-06T11:54:30.676310",
     "status": "completed"
    },
    "tags": []
   },
   "outputs": [],
   "source": [
    "from sklearn.model_selection import train_test_split\n",
    "X_train, X_test, y_train, y_test = train_test_split(X, y, test_size=0.2, random_state=12)"
   ]
  },
  {
   "cell_type": "code",
   "execution_count": 17,
   "id": "c10959f0",
   "metadata": {
    "execution": {
     "iopub.execute_input": "2021-12-06T11:54:33.131200Z",
     "iopub.status.busy": "2021-12-06T11:54:33.130363Z",
     "iopub.status.idle": "2021-12-06T11:54:33.134734Z",
     "shell.execute_reply": "2021-12-06T11:54:33.135344Z",
     "shell.execute_reply.started": "2021-12-06T11:53:15.203191Z"
    },
    "papermill": {
     "duration": 0.106785,
     "end_time": "2021-12-06T11:54:33.135543",
     "exception": false,
     "start_time": "2021-12-06T11:54:33.028758",
     "status": "completed"
    },
    "tags": []
   },
   "outputs": [
    {
     "data": {
      "text/plain": [
       "((160000, 1024), (40000, 1024), (160000, 1), (40000, 1))"
      ]
     },
     "execution_count": 17,
     "metadata": {},
     "output_type": "execute_result"
    }
   ],
   "source": [
    "X_train.shape,X_test.shape,y_train.shape,y_test.shape"
   ]
  },
  {
   "cell_type": "code",
   "execution_count": 18,
   "id": "625ebf19",
   "metadata": {
    "execution": {
     "iopub.execute_input": "2021-12-06T11:54:33.230626Z",
     "iopub.status.busy": "2021-12-06T11:54:33.229763Z",
     "iopub.status.idle": "2021-12-06T11:54:33.233287Z",
     "shell.execute_reply": "2021-12-06T11:54:33.231329Z",
     "shell.execute_reply.started": "2021-12-06T11:53:15.211819Z"
    },
    "papermill": {
     "duration": 0.054821,
     "end_time": "2021-12-06T11:54:33.233449",
     "exception": false,
     "start_time": "2021-12-06T11:54:33.178628",
     "status": "completed"
    },
    "tags": []
   },
   "outputs": [
    {
     "name": "stdout",
     "output_type": "stream",
     "text": [
      "(160000, 32, 32, 1)\n",
      "(40000, 32, 32, 1)\n"
     ]
    }
   ],
   "source": [
    "X_train_cnn = np.reshape(X_train, (X_train.shape[0], 32,32,1))\n",
    "X_test_cnn = np.reshape(X_test, (X_test.shape[0], 32,32,1))\n",
    "print(X_train_cnn.shape)\n",
    "print(X_test_cnn.shape)\n"
   ]
  },
  {
   "cell_type": "markdown",
   "id": "ed2a2ad8",
   "metadata": {
    "papermill": {
     "duration": 0.102975,
     "end_time": "2021-12-06T11:54:33.395474",
     "exception": false,
     "start_time": "2021-12-06T11:54:33.292499",
     "status": "completed"
    },
    "tags": []
   },
   "source": [
    "# Build CNN Model"
   ]
  },
  {
   "cell_type": "code",
   "execution_count": 19,
   "id": "0252b74b",
   "metadata": {
    "execution": {
     "iopub.execute_input": "2021-12-06T11:54:33.495989Z",
     "iopub.status.busy": "2021-12-06T11:54:33.495189Z",
     "iopub.status.idle": "2021-12-06T11:54:33.498343Z",
     "shell.execute_reply": "2021-12-06T11:54:33.498962Z",
     "shell.execute_reply.started": "2021-12-06T11:53:15.223665Z"
    },
    "papermill": {
     "duration": 0.061505,
     "end_time": "2021-12-06T11:54:33.499143",
     "exception": false,
     "start_time": "2021-12-06T11:54:33.437638",
     "status": "completed"
    },
    "tags": []
   },
   "outputs": [],
   "source": [
    "learning_rate=0.0001\n",
    "batch_size=1024\n",
    "epochs = 50\n",
    "\n",
    "model_save = ModelCheckpoint('./Keylogging.h5', \n",
    "                             save_best_only = True, \n",
    "                             save_weights_only = True,\n",
    "                             monitor = 'val_loss', \n",
    "                             mode = 'min', verbose = 1)\n",
    "early_stop = EarlyStopping(monitor = 'val_loss', min_delta = 0.0001, \n",
    "                           patience = 10, mode = 'min', verbose = 1,\n",
    "                           restore_best_weights = True)\n",
    "reduce_lr = ReduceLROnPlateau(monitor = 'val_loss', factor = 0.75, \n",
    "                              patience = 10, min_delta = 0.0001, \n",
    "                              mode = 'min', verbose = 1)"
   ]
  },
  {
   "cell_type": "code",
   "execution_count": 20,
   "id": "bb55926a",
   "metadata": {
    "execution": {
     "iopub.execute_input": "2021-12-06T11:54:33.598484Z",
     "iopub.status.busy": "2021-12-06T11:54:33.597702Z",
     "iopub.status.idle": "2021-12-06T11:54:38.699949Z",
     "shell.execute_reply": "2021-12-06T11:54:38.700588Z",
     "shell.execute_reply.started": "2021-12-06T11:53:15.232751Z"
    },
    "papermill": {
     "duration": 5.156668,
     "end_time": "2021-12-06T11:54:38.700802",
     "exception": false,
     "start_time": "2021-12-06T11:54:33.544134",
     "status": "completed"
    },
    "tags": []
   },
   "outputs": [
    {
     "name": "stderr",
     "output_type": "stream",
     "text": [
      "2021-12-06 11:54:33.715622: I tensorflow/stream_executor/cuda/cuda_gpu_executor.cc:937] successful NUMA node read from SysFS had negative value (-1), but there must be at least one NUMA node, so returning NUMA node zero\n",
      "2021-12-06 11:54:33.717334: I tensorflow/stream_executor/cuda/cuda_gpu_executor.cc:937] successful NUMA node read from SysFS had negative value (-1), but there must be at least one NUMA node, so returning NUMA node zero\n",
      "2021-12-06 11:54:33.718405: I tensorflow/stream_executor/cuda/cuda_gpu_executor.cc:937] successful NUMA node read from SysFS had negative value (-1), but there must be at least one NUMA node, so returning NUMA node zero\n",
      "2021-12-06 11:54:33.719618: I tensorflow/core/platform/cpu_feature_guard.cc:142] This TensorFlow binary is optimized with oneAPI Deep Neural Network Library (oneDNN) to use the following CPU instructions in performance-critical operations:  AVX2 AVX512F FMA\n",
      "To enable them in other operations, rebuild TensorFlow with the appropriate compiler flags.\n",
      "2021-12-06 11:54:33.720806: I tensorflow/stream_executor/cuda/cuda_gpu_executor.cc:937] successful NUMA node read from SysFS had negative value (-1), but there must be at least one NUMA node, so returning NUMA node zero\n",
      "2021-12-06 11:54:33.721854: I tensorflow/stream_executor/cuda/cuda_gpu_executor.cc:937] successful NUMA node read from SysFS had negative value (-1), but there must be at least one NUMA node, so returning NUMA node zero\n",
      "2021-12-06 11:54:33.722893: I tensorflow/stream_executor/cuda/cuda_gpu_executor.cc:937] successful NUMA node read from SysFS had negative value (-1), but there must be at least one NUMA node, so returning NUMA node zero\n",
      "2021-12-06 11:54:35.614542: I tensorflow/stream_executor/cuda/cuda_gpu_executor.cc:937] successful NUMA node read from SysFS had negative value (-1), but there must be at least one NUMA node, so returning NUMA node zero\n",
      "2021-12-06 11:54:35.615343: I tensorflow/stream_executor/cuda/cuda_gpu_executor.cc:937] successful NUMA node read from SysFS had negative value (-1), but there must be at least one NUMA node, so returning NUMA node zero\n",
      "2021-12-06 11:54:35.616020: I tensorflow/stream_executor/cuda/cuda_gpu_executor.cc:937] successful NUMA node read from SysFS had negative value (-1), but there must be at least one NUMA node, so returning NUMA node zero\n",
      "2021-12-06 11:54:35.616622: I tensorflow/core/common_runtime/gpu/gpu_device.cc:1510] Created device /job:localhost/replica:0/task:0/device:GPU:0 with 15385 MB memory:  -> device: 0, name: Tesla P100-PCIE-16GB, pci bus id: 0000:00:04.0, compute capability: 6.0\n"
     ]
    },
    {
     "name": "stdout",
     "output_type": "stream",
     "text": [
      "Downloading data from https://storage.googleapis.com/keras-applications/efficientnetb0_notop.h5\n",
      "16711680/16705208 [==============================] - 0s 0us/step\n",
      "16719872/16705208 [==============================] - 0s 0us/step\n",
      "Model: \"sequential\"\n",
      "_________________________________________________________________\n",
      "Layer (type)                 Output Shape              Param #   \n",
      "=================================================================\n",
      "conv2d (Conv2D)              (None, 32, 32, 3)         30        \n",
      "_________________________________________________________________\n",
      "efficientnetb0 (Functional)  (None, 1280)              4049571   \n",
      "_________________________________________________________________\n",
      "dense (Dense)                (None, 1)                 1281      \n",
      "=================================================================\n",
      "Total params: 4,050,882\n",
      "Trainable params: 4,008,859\n",
      "Non-trainable params: 42,023\n",
      "_________________________________________________________________\n"
     ]
    }
   ],
   "source": [
    "def create_model(): \n",
    "    inputs = layers.Input(shape=(32,32,1))\n",
    "    efficientnet_layers = EfficientNetB0(include_top=False,input_shape=(),weights='imagenet',pooling='avg')\n",
    "    model = Sequential()\n",
    "    \n",
    "    model.add(inputs)\n",
    "    model.add(keras.layers.Conv2D(3,3,activation='relu',padding='same'))\n",
    "    model.add(efficientnet_layers)\n",
    "    #model.add(Dropout(0.3))\n",
    "    model.add(Dense(1, activation=\"sigmoid\"))\n",
    "    \n",
    "    optimizer = Adam(learning_rate=learning_rate)\n",
    "    model.compile(loss='binary_crossentropy', optimizer=optimizer,metrics=[keras.metrics.AUC(name='auc')])\n",
    "\n",
    "    return model\n",
    "\n",
    "model = create_model()\n",
    "model.summary()"
   ]
  },
  {
   "cell_type": "code",
   "execution_count": 21,
   "id": "b24d1732",
   "metadata": {
    "execution": {
     "iopub.execute_input": "2021-12-06T11:54:38.770131Z",
     "iopub.status.busy": "2021-12-06T11:54:38.769173Z",
     "iopub.status.idle": "2021-12-06T11:59:28.883557Z",
     "shell.execute_reply": "2021-12-06T11:59:28.883051Z"
    },
    "papermill": {
     "duration": 290.151014,
     "end_time": "2021-12-06T11:59:28.883697",
     "exception": false,
     "start_time": "2021-12-06T11:54:38.732683",
     "status": "completed"
    },
    "tags": []
   },
   "outputs": [
    {
     "name": "stderr",
     "output_type": "stream",
     "text": [
      "2021-12-06 11:54:38.768689: W tensorflow/core/framework/cpu_allocator_impl.cc:80] Allocation of 655360000 exceeds 10% of free system memory.\n",
      "2021-12-06 11:54:39.448501: W tensorflow/core/framework/cpu_allocator_impl.cc:80] Allocation of 655360000 exceeds 10% of free system memory.\n",
      "2021-12-06 11:54:39.935040: I tensorflow/compiler/mlir/mlir_graph_optimization_pass.cc:185] None of the MLIR Optimization Passes are enabled (registered 2)\n"
     ]
    },
    {
     "name": "stdout",
     "output_type": "stream",
     "text": [
      "Epoch 1/50\n"
     ]
    },
    {
     "name": "stderr",
     "output_type": "stream",
     "text": [
      "2021-12-06 11:54:48.815794: I tensorflow/stream_executor/cuda/cuda_dnn.cc:369] Loaded cuDNN version 8005\n"
     ]
    },
    {
     "name": "stdout",
     "output_type": "stream",
     "text": [
      "156/156 [==============================] - 42s 170ms/step - loss: 0.6775 - auc: 0.5912 - val_loss: 0.6792 - val_auc: 0.4904\n",
      "\n",
      "Epoch 00001: val_loss improved from inf to 0.67918, saving model to ./Keylogging.h5\n",
      "Epoch 2/50\n",
      "156/156 [==============================] - 25s 159ms/step - loss: 0.6512 - auc: 0.6239 - val_loss: 0.6988 - val_auc: 0.4603\n",
      "\n",
      "Epoch 00002: val_loss did not improve from 0.67918\n",
      "Epoch 3/50\n",
      "156/156 [==============================] - 25s 157ms/step - loss: 0.6404 - auc: 0.6396 - val_loss: 0.7406 - val_auc: 0.5161\n",
      "\n",
      "Epoch 00003: val_loss did not improve from 0.67918\n",
      "Epoch 4/50\n",
      "156/156 [==============================] - 24s 156ms/step - loss: 0.6350 - auc: 0.6476 - val_loss: 0.6981 - val_auc: 0.4933\n",
      "\n",
      "Epoch 00004: val_loss did not improve from 0.67918\n",
      "Epoch 5/50\n",
      "156/156 [==============================] - 25s 158ms/step - loss: 0.6298 - auc: 0.6554 - val_loss: 0.7267 - val_auc: 0.4967\n",
      "\n",
      "Epoch 00005: val_loss did not improve from 0.67918\n",
      "Epoch 6/50\n",
      "156/156 [==============================] - 25s 157ms/step - loss: 0.6251 - auc: 0.6630 - val_loss: 0.6858 - val_auc: 0.5777\n",
      "\n",
      "Epoch 00006: val_loss did not improve from 0.67918\n",
      "Epoch 7/50\n",
      "156/156 [==============================] - 25s 158ms/step - loss: 0.6222 - auc: 0.6664 - val_loss: 0.6835 - val_auc: 0.5691\n",
      "\n",
      "Epoch 00007: val_loss did not improve from 0.67918\n",
      "Epoch 8/50\n",
      "156/156 [==============================] - 24s 157ms/step - loss: 0.6187 - auc: 0.6717 - val_loss: 0.7139 - val_auc: 0.5586\n",
      "\n",
      "Epoch 00008: val_loss did not improve from 0.67918\n",
      "Epoch 9/50\n",
      "156/156 [==============================] - 24s 157ms/step - loss: 0.6158 - auc: 0.6768 - val_loss: 0.8063 - val_auc: 0.5202\n",
      "\n",
      "Epoch 00009: val_loss did not improve from 0.67918\n",
      "Epoch 10/50\n",
      "156/156 [==============================] - 25s 157ms/step - loss: 0.6127 - auc: 0.6807 - val_loss: 0.6814 - val_auc: 0.5878\n",
      "\n",
      "Epoch 00010: val_loss did not improve from 0.67918\n",
      "Epoch 11/50\n",
      "156/156 [==============================] - 24s 157ms/step - loss: 0.6092 - auc: 0.6857 - val_loss: 0.7252 - val_auc: 0.5294\n",
      "\n",
      "Epoch 00011: val_loss did not improve from 0.67918\n",
      "Restoring model weights from the end of the best epoch.\n",
      "\n",
      "Epoch 00011: ReduceLROnPlateau reducing learning rate to 7.499999810534064e-05.\n",
      "Epoch 00011: early stopping\n"
     ]
    }
   ],
   "source": [
    "history = model.fit(X_train_cnn,\n",
    "                    y_train,\n",
    "                    batch_size=batch_size,\n",
    "                    steps_per_epoch=X_train.shape[0] // batch_size,\n",
    "                    epochs=epochs,\n",
    "                    validation_data=(X_test_cnn,y_test),\n",
    "                    callbacks = [model_save, early_stop, reduce_lr],)"
   ]
  },
  {
   "cell_type": "markdown",
   "id": "2a6390f9",
   "metadata": {
    "papermill": {
     "duration": 0.746536,
     "end_time": "2021-12-06T11:59:30.103696",
     "exception": false,
     "start_time": "2021-12-06T11:59:29.357160",
     "status": "completed"
    },
    "tags": []
   },
   "source": [
    "# Evaluation"
   ]
  },
  {
   "cell_type": "code",
   "execution_count": 22,
   "id": "136a6fd1",
   "metadata": {
    "execution": {
     "iopub.execute_input": "2021-12-06T11:59:31.056087Z",
     "iopub.status.busy": "2021-12-06T11:59:31.055098Z",
     "iopub.status.idle": "2021-12-06T11:59:35.453810Z",
     "shell.execute_reply": "2021-12-06T11:59:35.454342Z"
    },
    "papermill": {
     "duration": 4.8766,
     "end_time": "2021-12-06T11:59:35.454516",
     "exception": false,
     "start_time": "2021-12-06T11:59:30.577916",
     "status": "completed"
    },
    "tags": []
   },
   "outputs": [
    {
     "name": "stdout",
     "output_type": "stream",
     "text": [
      "AUC: 0.491\n"
     ]
    }
   ],
   "source": [
    "y_pred = model.predict(X_test_cnn, batch_size=512)\n",
    "AUC = metrics.roc_auc_score(y_test,y_pred)\n",
    "print(\"AUC: {:.3f}\".format(AUC))"
   ]
  },
  {
   "cell_type": "code",
   "execution_count": 23,
   "id": "3fa6bb8b",
   "metadata": {
    "execution": {
     "iopub.execute_input": "2021-12-06T11:59:36.410799Z",
     "iopub.status.busy": "2021-12-06T11:59:36.410139Z",
     "iopub.status.idle": "2021-12-06T11:59:36.415615Z",
     "shell.execute_reply": "2021-12-06T11:59:36.415178Z"
    },
    "papermill": {
     "duration": 0.483979,
     "end_time": "2021-12-06T11:59:36.415731",
     "exception": false,
     "start_time": "2021-12-06T11:59:35.931752",
     "status": "completed"
    },
    "tags": []
   },
   "outputs": [],
   "source": [
    "hist_df = pd.DataFrame(history.history)\n",
    "hist_df.to_csv('history.csv')"
   ]
  },
  {
   "cell_type": "markdown",
   "id": "859a4972",
   "metadata": {
    "papermill": {
     "duration": 0.480755,
     "end_time": "2021-12-06T11:59:37.368756",
     "exception": false,
     "start_time": "2021-12-06T11:59:36.888001",
     "status": "completed"
    },
    "tags": []
   },
   "source": [
    "### Training Curves"
   ]
  },
  {
   "cell_type": "code",
   "execution_count": 24,
   "id": "eba9e99e",
   "metadata": {
    "execution": {
     "iopub.execute_input": "2021-12-06T11:59:38.356597Z",
     "iopub.status.busy": "2021-12-06T11:59:38.348441Z",
     "iopub.status.idle": "2021-12-06T11:59:38.532709Z",
     "shell.execute_reply": "2021-12-06T11:59:38.533108Z"
    },
    "papermill": {
     "duration": 0.696049,
     "end_time": "2021-12-06T11:59:38.533250",
     "exception": false,
     "start_time": "2021-12-06T11:59:37.837201",
     "status": "completed"
    },
    "tags": []
   },
   "outputs": [
    {
     "data": {
      "image/png": "[encoded data removed]",
      "text/plain": [
       "<Figure size 1080x360 with 1 Axes>"
      ]
     },
     "metadata": {
      "needs_background": "light"
     },
     "output_type": "display_data"
    }
   ],
   "source": [
    "plt.figure(figsize=(15,5))\n",
    "plt.plot(range(history.epoch[-1]+1),history.history['val_auc'],label='val_auc')\n",
    "plt.plot(range(history.epoch[-1]+1),history.history['auc'],label='auc')\n",
    "plt.title('auc'); plt.xlabel('Epoch'); plt.ylabel('auc');plt.legend(); \n",
    "plt.show()"
   ]
  },
  {
   "cell_type": "code",
   "execution_count": 25,
   "id": "91a46012",
   "metadata": {
    "execution": {
     "iopub.execute_input": "2021-12-06T11:59:39.510615Z",
     "iopub.status.busy": "2021-12-06T11:59:39.499496Z",
     "iopub.status.idle": "2021-12-06T11:59:39.699417Z",
     "shell.execute_reply": "2021-12-06T11:59:39.699787Z"
    },
    "papermill": {
     "duration": 0.696996,
     "end_time": "2021-12-06T11:59:39.699959",
     "exception": false,
     "start_time": "2021-12-06T11:59:39.002963",
     "status": "completed"
    },
    "tags": []
   },
   "outputs": [
    {
     "data": {
      "image/png": "[encoded data removed]",
      "text/plain": [
       "<Figure size 1080x360 with 1 Axes>"
      ]
     },
     "metadata": {
      "needs_background": "light"
     },
     "output_type": "display_data"
    }
   ],
   "source": [
    "plt.figure(figsize=(15,5))\n",
    "plt.plot(range(history.epoch[-1]+1),history.history['val_loss'],label='Val_loss')\n",
    "plt.plot(range(history.epoch[-1]+1),history.history['loss'],label='loss')\n",
    "plt.title('loss'); plt.xlabel('Epoch'); plt.ylabel('loss');plt.legend(); \n",
    "plt.show()"
   ]
  },
  {
   "cell_type": "markdown",
   "id": "e74fad7b",
   "metadata": {
    "papermill": {
     "duration": 0.714288,
     "end_time": "2021-12-06T11:59:40.888297",
     "exception": false,
     "start_time": "2021-12-06T11:59:40.174009",
     "status": "completed"
    },
    "tags": []
   },
   "source": [
    "### ROC Curve"
   ]
  },
  {
   "cell_type": "code",
   "execution_count": 26,
   "id": "39601ab6",
   "metadata": {
    "execution": {
     "iopub.execute_input": "2021-12-06T11:59:41.906839Z",
     "iopub.status.busy": "2021-12-06T11:59:41.905820Z",
     "iopub.status.idle": "2021-12-06T11:59:42.098215Z",
     "shell.execute_reply": "2021-12-06T11:59:42.098835Z"
    },
    "papermill": {
     "duration": 0.672193,
     "end_time": "2021-12-06T11:59:42.099000",
     "exception": false,
     "start_time": "2021-12-06T11:59:41.426807",
     "status": "completed"
    },
    "tags": []
   },
   "outputs": [
    {
     "data": {
      "image/png": "[encoded data removed]",
      "text/plain": [
       "<Figure size 432x288 with 1 Axes>"
      ]
     },
     "metadata": {
      "needs_background": "light"
     },
     "output_type": "display_data"
    }
   ],
   "source": [
    "def generate_results(y_test, y_score):\n",
    "    # print(y_score)\n",
    "    fpr, tpr, _ = roc_curve(y_test, y_score)\n",
    "    roc_auc = auc(fpr, tpr)\n",
    "    plt.figure()\n",
    "    plt.plot(fpr, tpr, color='darkorange',\n",
    "             lw=2, label='ROC curve (area = %0.2f)' % roc_auc)\n",
    "    plt.plot([0, 1], [0, 1], color='navy', lw=2, linestyle='--')\n",
    "    plt.xlim([0.0, 1.0])\n",
    "    plt.ylim([0.0, 1.05])\n",
    "    plt.xlabel('False Positive Rate')\n",
    "    plt.ylabel('True Positive Rate')\n",
    "    plt.title('ROC Curve')\n",
    "    plt.legend(loc=\"lower right\")\n",
    "    plt.show()\n",
    "    \n",
    "generate_results(y_test, y_pred)"
   ]
  },
  {
   "cell_type": "markdown",
   "id": "a1282263",
   "metadata": {
    "papermill": {
     "duration": 0.472592,
     "end_time": "2021-12-06T11:59:43.045769",
     "exception": false,
     "start_time": "2021-12-06T11:59:42.573177",
     "status": "completed"
    },
    "tags": []
   },
   "source": [
    "1. https://medium.com/analytics-vidhya/cnn-based-malware-detection-python-and-tensorflow-717f8de84ee\n",
    "1. https://medium.com/analytics-vidhya/malware-detection-with-deep-learning-state-of-the-art-177c81aa83ea\n"
   ]
  }
 ],
 "metadata": {
  "kernelspec": {
   "display_name": "Python 3 (ipykernel)",
   "language": "python",
   "name": "python3"
  },
  "language_info": {
   "codemirror_mode": {
    "name": "ipython",
    "version": 3
   },
   "file_extension": ".py",
   "mimetype": "text/x-python",
   "name": "python",
   "nbconvert_exporter": "python",
   "pygments_lexer": "ipython3",
   "version": "3.7.4"
  },
  "papermill": {
   "default_parameters": {},
   "duration": 347.146395,
   "end_time": "2021-12-06T11:59:46.248535",
   "environment_variables": {},
   "exception": null,
   "input_path": "__notebook__.ipynb",
   "output_path": "__notebook__.ipynb",
   "parameters": {},
   "start_time": "2021-12-06T11:53:59.102140",
   "version": "2.3.3"
  }
 },
 "nbformat": 4,
 "nbformat_minor": 5
}
