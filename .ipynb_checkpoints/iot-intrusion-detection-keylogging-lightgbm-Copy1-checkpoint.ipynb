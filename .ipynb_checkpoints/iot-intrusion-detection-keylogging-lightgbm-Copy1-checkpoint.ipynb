{
 "cells": [
  {
   "cell_type": "markdown",
   "id": "4c840da0",
   "metadata": {
    "papermill": {
     "duration": 0.026831,
     "end_time": "2022-03-09T16:14:54.582932",
     "exception": false,
     "start_time": "2022-03-09T16:14:54.556101",
     "status": "completed"
    },
    "tags": []
   },
   "source": [
    "# IoT Intrusion Detection [Keylogging] LightGBM"
   ]
  },
  {
   "cell_type": "markdown",
   "id": "b91eb945",
   "metadata": {
    "papermill": {
     "duration": 0.027116,
     "end_time": "2022-03-09T16:14:54.628350",
     "exception": false,
     "start_time": "2022-03-09T16:14:54.601234",
     "status": "completed"
    },
    "tags": []
   },
   "source": [
    "# Importing Libraries"
   ]
  },
  {
   "cell_type": "code",
   "execution_count": 1,
   "id": "d43353bd",
   "metadata": {
    "_cell_guid": "79c7e3d0-c299-4dcb-8224-4455121ee9b0",
    "_uuid": "d629ff2d2480ee46fbb7e2d37f6b5fab8052498a",
    "execution": {
     "iopub.execute_input": "2022-03-09T16:14:54.687142Z",
     "iopub.status.busy": "2022-03-09T16:14:54.685924Z",
     "iopub.status.idle": "2022-03-09T16:14:57.425490Z",
     "shell.execute_reply": "2022-03-09T16:14:57.424769Z",
     "shell.execute_reply.started": "2022-03-06T07:35:46.777274Z"
    },
    "papermill": {
     "duration": 2.770453,
     "end_time": "2022-03-09T16:14:57.425683",
     "exception": false,
     "start_time": "2022-03-09T16:14:54.655230",
     "status": "completed"
    },
    "tags": []
   },
   "outputs": [],
   "source": [
    "import sys\n",
    "sys.path.append('C:\\\\Users\\\\hp\\\\AppData\\\\Local\\\\Programs\\\\Python\\\\Python37\\\\Lib\\\\site-packages')\n",
    "import numpy as np\n",
    "import pandas as pd\n",
    "import matplotlib.pyplot as plt\n",
    "import seaborn as sns\n",
    "import plotly.express as px\n",
    "import lightgbm as lgb\n",
    "from sklearn.metrics import roc_auc_score,accuracy_score\n",
    "from sklearn import metrics\n",
    "from sklearn.metrics import roc_curve, auc"
   ]
  },
  {
   "cell_type": "markdown",
   "id": "bce8065f",
   "metadata": {
    "papermill": {
     "duration": 0.028381,
     "end_time": "2022-03-09T16:14:57.482206",
     "exception": false,
     "start_time": "2022-03-09T16:14:57.453825",
     "status": "completed"
    },
    "tags": []
   },
   "source": [
    "# Reading Data"
   ]
  },
  {
   "cell_type": "code",
   "execution_count": 2,
   "id": "53594188",
   "metadata": {
    "execution": {
     "iopub.execute_input": "2022-03-09T16:14:57.542179Z",
     "iopub.status.busy": "2022-03-09T16:14:57.540759Z",
     "iopub.status.idle": "2022-03-09T16:15:09.246153Z",
     "shell.execute_reply": "2022-03-09T16:15:09.246685Z",
     "shell.execute_reply.started": "2022-03-06T07:35:46.790595Z"
    },
    "papermill": {
     "duration": 11.737064,
     "end_time": "2022-03-09T16:15:09.246856",
     "exception": false,
     "start_time": "2022-03-09T16:14:57.509792",
     "status": "completed"
    },
    "tags": []
   },
   "outputs": [
    {
     "name": "stderr",
     "output_type": "stream",
     "text": [
      "C:\\Users\\HP\\AppData\\Local\\Programs\\Python\\Python37\\opencv\\lib\\site-packages\\IPython\\core\\interactiveshell.py:3524: DtypeWarning: Columns (48,56) have mixed types.Specify dtype option on import or set low_memory=False.\n",
      "  exec(code_obj, self.user_global_ns, self.user_ns)\n"
     ]
    },
    {
     "data": {
      "text/html": [
       "<div>\n",
       "<style scoped>\n",
       "    .dataframe tbody tr th:only-of-type {\n",
       "        vertical-align: middle;\n",
       "    }\n",
       "\n",
       "    .dataframe tbody tr th {\n",
       "        vertical-align: top;\n",
       "    }\n",
       "\n",
       "    .dataframe thead th {\n",
       "        text-align: right;\n",
       "    }\n",
       "</style>\n",
       "<table border=\"1\" class=\"dataframe\">\n",
       "  <thead>\n",
       "    <tr style=\"text-align: right;\">\n",
       "      <th></th>\n",
       "      <th>Unnamed: 0</th>\n",
       "      <th>Flow ID</th>\n",
       "      <th>Source IP</th>\n",
       "      <th>Source Port</th>\n",
       "      <th>Destination IP</th>\n",
       "      <th>Destination Port</th>\n",
       "      <th>Protocol</th>\n",
       "      <th>Timestamp</th>\n",
       "      <th>Flow Duration</th>\n",
       "      <th>Total Fwd Packets</th>\n",
       "      <th>...</th>\n",
       "      <th>min_seg_size_forward</th>\n",
       "      <th>Active Mean</th>\n",
       "      <th>Active Std</th>\n",
       "      <th>Active Max</th>\n",
       "      <th>Active Min</th>\n",
       "      <th>Idle Mean</th>\n",
       "      <th>Idle Std</th>\n",
       "      <th>Idle Max</th>\n",
       "      <th>Idle Min</th>\n",
       "      <th>Class</th>\n",
       "    </tr>\n",
       "  </thead>\n",
       "  <tbody>\n",
       "    <tr>\n",
       "      <th>0</th>\n",
       "      <td>0</td>\n",
       "      <td>10.42.0.211-52.6.25.230-34451-443-6</td>\n",
       "      <td>10.42.0.211</td>\n",
       "      <td>34451.0</td>\n",
       "      <td>52.6.25.230</td>\n",
       "      <td>443.0</td>\n",
       "      <td>6.0</td>\n",
       "      <td>04/08/2017 05:12:36</td>\n",
       "      <td>12140931.0</td>\n",
       "      <td>9.0</td>\n",
       "      <td>...</td>\n",
       "      <td>32.0</td>\n",
       "      <td>0.0</td>\n",
       "      <td>0.0</td>\n",
       "      <td>0.0</td>\n",
       "      <td>0.0</td>\n",
       "      <td>0.0</td>\n",
       "      <td>0.0</td>\n",
       "      <td>0.0</td>\n",
       "      <td>0.0</td>\n",
       "      <td>Benign</td>\n",
       "    </tr>\n",
       "    <tr>\n",
       "      <th>1</th>\n",
       "      <td>1</td>\n",
       "      <td>172.217.3.99-10.42.0.151-443-53892-6</td>\n",
       "      <td>10.42.0.151</td>\n",
       "      <td>53892.0</td>\n",
       "      <td>172.217.3.99</td>\n",
       "      <td>443.0</td>\n",
       "      <td>6.0</td>\n",
       "      <td>04/08/2017 07:55:51</td>\n",
       "      <td>418882.0</td>\n",
       "      <td>102.0</td>\n",
       "      <td>...</td>\n",
       "      <td>32.0</td>\n",
       "      <td>0.0</td>\n",
       "      <td>0.0</td>\n",
       "      <td>0.0</td>\n",
       "      <td>0.0</td>\n",
       "      <td>0.0</td>\n",
       "      <td>0.0</td>\n",
       "      <td>0.0</td>\n",
       "      <td>0.0</td>\n",
       "      <td>Benign</td>\n",
       "    </tr>\n",
       "    <tr>\n",
       "      <th>2</th>\n",
       "      <td>2</td>\n",
       "      <td>172.217.3.98-10.42.0.151-443-50750-6</td>\n",
       "      <td>172.217.3.98</td>\n",
       "      <td>443.0</td>\n",
       "      <td>10.42.0.151</td>\n",
       "      <td>50750.0</td>\n",
       "      <td>6.0</td>\n",
       "      <td>04/08/2017 08:48:19</td>\n",
       "      <td>45.0</td>\n",
       "      <td>2.0</td>\n",
       "      <td>...</td>\n",
       "      <td>32.0</td>\n",
       "      <td>0.0</td>\n",
       "      <td>0.0</td>\n",
       "      <td>0.0</td>\n",
       "      <td>0.0</td>\n",
       "      <td>0.0</td>\n",
       "      <td>0.0</td>\n",
       "      <td>0.0</td>\n",
       "      <td>0.0</td>\n",
       "      <td>Benign</td>\n",
       "    </tr>\n",
       "    <tr>\n",
       "      <th>3</th>\n",
       "      <td>3</td>\n",
       "      <td>10.42.0.211-10.42.0.1-23025-53-17</td>\n",
       "      <td>10.42.0.211</td>\n",
       "      <td>23025.0</td>\n",
       "      <td>10.42.0.1</td>\n",
       "      <td>53.0</td>\n",
       "      <td>17.0</td>\n",
       "      <td>04/08/2017 05:54:10</td>\n",
       "      <td>541699.0</td>\n",
       "      <td>1.0</td>\n",
       "      <td>...</td>\n",
       "      <td>32.0</td>\n",
       "      <td>0.0</td>\n",
       "      <td>0.0</td>\n",
       "      <td>0.0</td>\n",
       "      <td>0.0</td>\n",
       "      <td>0.0</td>\n",
       "      <td>0.0</td>\n",
       "      <td>0.0</td>\n",
       "      <td>0.0</td>\n",
       "      <td>Benign</td>\n",
       "    </tr>\n",
       "    <tr>\n",
       "      <th>4</th>\n",
       "      <td>4</td>\n",
       "      <td>10.42.0.211-123.129.244.226-52602-443-6</td>\n",
       "      <td>10.42.0.211</td>\n",
       "      <td>52602.0</td>\n",
       "      <td>123.129.244.226</td>\n",
       "      <td>443.0</td>\n",
       "      <td>6.0</td>\n",
       "      <td>04/08/2017 08:44:25</td>\n",
       "      <td>7310795.0</td>\n",
       "      <td>3.0</td>\n",
       "      <td>...</td>\n",
       "      <td>20.0</td>\n",
       "      <td>0.0</td>\n",
       "      <td>0.0</td>\n",
       "      <td>0.0</td>\n",
       "      <td>0.0</td>\n",
       "      <td>0.0</td>\n",
       "      <td>0.0</td>\n",
       "      <td>0.0</td>\n",
       "      <td>0.0</td>\n",
       "      <td>Benign</td>\n",
       "    </tr>\n",
       "  </tbody>\n",
       "</table>\n",
       "<p>5 rows × 86 columns</p>\n",
       "</div>"
      ],
      "text/plain": [
       "   Unnamed: 0                                  Flow ID     Source IP  \\\n",
       "0           0      10.42.0.211-52.6.25.230-34451-443-6   10.42.0.211   \n",
       "1           1     172.217.3.99-10.42.0.151-443-53892-6   10.42.0.151   \n",
       "2           2     172.217.3.98-10.42.0.151-443-50750-6  172.217.3.98   \n",
       "3           3        10.42.0.211-10.42.0.1-23025-53-17   10.42.0.211   \n",
       "4           4  10.42.0.211-123.129.244.226-52602-443-6   10.42.0.211   \n",
       "\n",
       "    Source Port   Destination IP   Destination Port   Protocol  \\\n",
       "0       34451.0      52.6.25.230              443.0        6.0   \n",
       "1       53892.0     172.217.3.99              443.0        6.0   \n",
       "2         443.0      10.42.0.151            50750.0        6.0   \n",
       "3       23025.0        10.42.0.1               53.0       17.0   \n",
       "4       52602.0  123.129.244.226              443.0        6.0   \n",
       "\n",
       "             Timestamp   Flow Duration   Total Fwd Packets  ...  \\\n",
       "0  04/08/2017 05:12:36      12140931.0                 9.0  ...   \n",
       "1  04/08/2017 07:55:51        418882.0               102.0  ...   \n",
       "2  04/08/2017 08:48:19            45.0                 2.0  ...   \n",
       "3  04/08/2017 05:54:10        541699.0                 1.0  ...   \n",
       "4  04/08/2017 08:44:25       7310795.0                 3.0  ...   \n",
       "\n",
       "    min_seg_size_forward  Active Mean   Active Std   Active Max   Active Min  \\\n",
       "0                   32.0          0.0          0.0          0.0          0.0   \n",
       "1                   32.0          0.0          0.0          0.0          0.0   \n",
       "2                   32.0          0.0          0.0          0.0          0.0   \n",
       "3                   32.0          0.0          0.0          0.0          0.0   \n",
       "4                   20.0          0.0          0.0          0.0          0.0   \n",
       "\n",
       "   Idle Mean   Idle Std   Idle Max   Idle Min   Class  \n",
       "0        0.0        0.0        0.0        0.0  Benign  \n",
       "1        0.0        0.0        0.0        0.0  Benign  \n",
       "2        0.0        0.0        0.0        0.0  Benign  \n",
       "3        0.0        0.0        0.0        0.0  Benign  \n",
       "4        0.0        0.0        0.0        0.0  Benign  \n",
       "\n",
       "[5 rows x 86 columns]"
      ]
     },
     "execution_count": 2,
     "metadata": {},
     "output_type": "execute_result"
    }
   ],
   "source": [
    "df_dk=pd.read_csv('Keylogger_Detection.csv')\n",
    "df_dk.head(5)"
   ]
  },
  {
   "cell_type": "markdown",
   "id": "80f33340",
   "metadata": {
    "papermill": {
     "duration": 0.028674,
     "end_time": "2022-03-09T16:15:09.304382",
     "exception": false,
     "start_time": "2022-03-09T16:15:09.275708",
     "status": "completed"
    },
    "tags": []
   },
   "source": [
    "# Data Preparation"
   ]
  },
  {
   "cell_type": "code",
   "execution_count": 3,
   "id": "d5d8a6e5",
   "metadata": {
    "execution": {
     "iopub.execute_input": "2022-03-09T16:15:09.371470Z",
     "iopub.status.busy": "2022-03-09T16:15:09.365499Z",
     "iopub.status.idle": "2022-03-09T16:15:09.376815Z",
     "shell.execute_reply": "2022-03-09T16:15:09.376386Z",
     "shell.execute_reply.started": "2022-03-06T07:35:55.137713Z"
    },
    "papermill": {
     "duration": 0.043567,
     "end_time": "2022-03-09T16:15:09.376937",
     "exception": false,
     "start_time": "2022-03-09T16:15:09.333370",
     "status": "completed"
    },
    "tags": []
   },
   "outputs": [
    {
     "data": {
      "text/plain": [
       "Unnamed: 0           int64\n",
       "Flow ID             object\n",
       " Source IP          object\n",
       " Source Port       float64\n",
       " Destination IP     object\n",
       "                    ...   \n",
       "Idle Mean          float64\n",
       " Idle Std          float64\n",
       " Idle Max          float64\n",
       " Idle Min          float64\n",
       "Class               object\n",
       "Length: 86, dtype: object"
      ]
     },
     "execution_count": 3,
     "metadata": {},
     "output_type": "execute_result"
    }
   ],
   "source": [
    "df_dk.dtypes"
   ]
  },
  {
   "cell_type": "code",
   "execution_count": 4,
   "id": "b44c380a",
   "metadata": {
    "execution": {
     "iopub.execute_input": "2022-03-09T16:15:09.487146Z",
     "iopub.status.busy": "2022-03-09T16:15:09.486362Z",
     "iopub.status.idle": "2022-03-09T16:15:09.562564Z",
     "shell.execute_reply": "2022-03-09T16:15:09.561921Z",
     "shell.execute_reply.started": "2022-03-06T07:35:55.148272Z"
    },
    "papermill": {
     "duration": 0.165681,
     "end_time": "2022-03-09T16:15:09.562713",
     "exception": false,
     "start_time": "2022-03-09T16:15:09.397032",
     "status": "completed"
    },
    "tags": []
   },
   "outputs": [],
   "source": [
    "Class_df = df_dk[\"Class\"]\n",
    "df_num = df_dk.select_dtypes(include=[np.number])\n",
    "df_num = df_num.join(Class_df)"
   ]
  },
  {
   "cell_type": "markdown",
   "id": "2b88f195",
   "metadata": {
    "papermill": {
     "duration": 0.028679,
     "end_time": "2022-03-09T16:15:09.620732",
     "exception": false,
     "start_time": "2022-03-09T16:15:09.592053",
     "status": "completed"
    },
    "tags": []
   },
   "source": [
    "### Removing Columns"
   ]
  },
  {
   "cell_type": "code",
   "execution_count": 5,
   "id": "9bb3f8aa",
   "metadata": {
    "execution": {
     "iopub.execute_input": "2022-03-09T16:15:09.738111Z",
     "iopub.status.busy": "2022-03-09T16:15:09.737452Z",
     "iopub.status.idle": "2022-03-09T16:15:09.748316Z",
     "shell.execute_reply": "2022-03-09T16:15:09.747667Z",
     "shell.execute_reply.started": "2022-03-06T07:35:55.613766Z"
    },
    "papermill": {
     "duration": 0.098439,
     "end_time": "2022-03-09T16:15:09.748457",
     "exception": false,
     "start_time": "2022-03-09T16:15:09.650018",
     "status": "completed"
    },
    "tags": []
   },
   "outputs": [],
   "source": [
    "df_num.drop('Unnamed: 0', axis=1, inplace=True)"
   ]
  },
  {
   "cell_type": "markdown",
   "id": "8d1c91f4",
   "metadata": {
    "papermill": {
     "duration": 0.028856,
     "end_time": "2022-03-09T16:15:09.806913",
     "exception": false,
     "start_time": "2022-03-09T16:15:09.778057",
     "status": "completed"
    },
    "tags": []
   },
   "source": [
    "### Removing nan values"
   ]
  },
  {
   "cell_type": "code",
   "execution_count": 6,
   "id": "02d93286",
   "metadata": {
    "execution": {
     "iopub.execute_input": "2022-03-09T16:15:09.870829Z",
     "iopub.status.busy": "2022-03-09T16:15:09.870162Z",
     "iopub.status.idle": "2022-03-09T16:15:10.271417Z",
     "shell.execute_reply": "2022-03-09T16:15:10.270705Z",
     "shell.execute_reply.started": "2022-03-06T07:35:55.772927Z"
    },
    "papermill": {
     "duration": 0.435802,
     "end_time": "2022-03-09T16:15:10.271555",
     "exception": false,
     "start_time": "2022-03-09T16:15:09.835753",
     "status": "completed"
    },
    "tags": []
   },
   "outputs": [
    {
     "name": "stdout",
     "output_type": "stream",
     "text": [
      "879\n"
     ]
    }
   ],
   "source": [
    "print(df_num.isna().sum().sum())\n",
    "df_num=df_num.dropna()"
   ]
  },
  {
   "cell_type": "code",
   "execution_count": 7,
   "id": "8132deb7",
   "metadata": {
    "execution": {
     "iopub.execute_input": "2022-03-09T16:15:10.371697Z",
     "iopub.status.busy": "2022-03-09T16:15:10.335089Z",
     "iopub.status.idle": "2022-03-09T16:15:10.588059Z",
     "shell.execute_reply": "2022-03-09T16:15:10.587493Z",
     "shell.execute_reply.started": "2022-03-06T07:35:56.369053Z"
    },
    "papermill": {
     "duration": 0.287124,
     "end_time": "2022-03-09T16:15:10.588177",
     "exception": false,
     "start_time": "2022-03-09T16:15:10.301053",
     "status": "completed"
    },
    "tags": []
   },
   "outputs": [
    {
     "data": {
      "text/html": [
       "<div>\n",
       "<style scoped>\n",
       "    .dataframe tbody tr th:only-of-type {\n",
       "        vertical-align: middle;\n",
       "    }\n",
       "\n",
       "    .dataframe tbody tr th {\n",
       "        vertical-align: top;\n",
       "    }\n",
       "\n",
       "    .dataframe thead th {\n",
       "        text-align: right;\n",
       "    }\n",
       "</style>\n",
       "<table border=\"1\" class=\"dataframe\">\n",
       "  <thead>\n",
       "    <tr style=\"text-align: right;\">\n",
       "      <th></th>\n",
       "      <th>Source Port</th>\n",
       "      <th>Destination Port</th>\n",
       "      <th>Protocol</th>\n",
       "      <th>Flow Duration</th>\n",
       "      <th>Total Fwd Packets</th>\n",
       "      <th>Total Backward Packets</th>\n",
       "      <th>Total Length of Fwd Packets</th>\n",
       "      <th>Total Length of Bwd Packets</th>\n",
       "      <th>Fwd Packet Length Max</th>\n",
       "      <th>Fwd Packet Length Min</th>\n",
       "      <th>...</th>\n",
       "      <th>min_seg_size_forward</th>\n",
       "      <th>Active Mean</th>\n",
       "      <th>Active Std</th>\n",
       "      <th>Active Max</th>\n",
       "      <th>Active Min</th>\n",
       "      <th>Idle Mean</th>\n",
       "      <th>Idle Std</th>\n",
       "      <th>Idle Max</th>\n",
       "      <th>Idle Min</th>\n",
       "      <th>label</th>\n",
       "    </tr>\n",
       "  </thead>\n",
       "  <tbody>\n",
       "    <tr>\n",
       "      <th>456054</th>\n",
       "      <td>80.0</td>\n",
       "      <td>49817.0</td>\n",
       "      <td>6.0</td>\n",
       "      <td>153006.0</td>\n",
       "      <td>1.0</td>\n",
       "      <td>1.0</td>\n",
       "      <td>0.0</td>\n",
       "      <td>0.0</td>\n",
       "      <td>0.0</td>\n",
       "      <td>0.0</td>\n",
       "      <td>...</td>\n",
       "      <td>32.0</td>\n",
       "      <td>0.0</td>\n",
       "      <td>0.0</td>\n",
       "      <td>0.0</td>\n",
       "      <td>0.0</td>\n",
       "      <td>0.0</td>\n",
       "      <td>0.0</td>\n",
       "      <td>0.0</td>\n",
       "      <td>0.0</td>\n",
       "      <td>0</td>\n",
       "    </tr>\n",
       "    <tr>\n",
       "      <th>216442</th>\n",
       "      <td>7075.0</td>\n",
       "      <td>53.0</td>\n",
       "      <td>17.0</td>\n",
       "      <td>73916.0</td>\n",
       "      <td>1.0</td>\n",
       "      <td>1.0</td>\n",
       "      <td>34.0</td>\n",
       "      <td>97.0</td>\n",
       "      <td>34.0</td>\n",
       "      <td>34.0</td>\n",
       "      <td>...</td>\n",
       "      <td>32.0</td>\n",
       "      <td>0.0</td>\n",
       "      <td>0.0</td>\n",
       "      <td>0.0</td>\n",
       "      <td>0.0</td>\n",
       "      <td>0.0</td>\n",
       "      <td>0.0</td>\n",
       "      <td>0.0</td>\n",
       "      <td>0.0</td>\n",
       "      <td>1</td>\n",
       "    </tr>\n",
       "    <tr>\n",
       "      <th>273754</th>\n",
       "      <td>10939.0</td>\n",
       "      <td>53.0</td>\n",
       "      <td>17.0</td>\n",
       "      <td>31572.0</td>\n",
       "      <td>1.0</td>\n",
       "      <td>1.0</td>\n",
       "      <td>32.0</td>\n",
       "      <td>48.0</td>\n",
       "      <td>32.0</td>\n",
       "      <td>32.0</td>\n",
       "      <td>...</td>\n",
       "      <td>32.0</td>\n",
       "      <td>0.0</td>\n",
       "      <td>0.0</td>\n",
       "      <td>0.0</td>\n",
       "      <td>0.0</td>\n",
       "      <td>0.0</td>\n",
       "      <td>0.0</td>\n",
       "      <td>0.0</td>\n",
       "      <td>0.0</td>\n",
       "      <td>1</td>\n",
       "    </tr>\n",
       "    <tr>\n",
       "      <th>205260</th>\n",
       "      <td>49713.0</td>\n",
       "      <td>443.0</td>\n",
       "      <td>6.0</td>\n",
       "      <td>394895.0</td>\n",
       "      <td>9.0</td>\n",
       "      <td>8.0</td>\n",
       "      <td>628.0</td>\n",
       "      <td>5237.0</td>\n",
       "      <td>237.0</td>\n",
       "      <td>0.0</td>\n",
       "      <td>...</td>\n",
       "      <td>32.0</td>\n",
       "      <td>0.0</td>\n",
       "      <td>0.0</td>\n",
       "      <td>0.0</td>\n",
       "      <td>0.0</td>\n",
       "      <td>0.0</td>\n",
       "      <td>0.0</td>\n",
       "      <td>0.0</td>\n",
       "      <td>0.0</td>\n",
       "      <td>0</td>\n",
       "    </tr>\n",
       "    <tr>\n",
       "      <th>370424</th>\n",
       "      <td>6804.0</td>\n",
       "      <td>53.0</td>\n",
       "      <td>17.0</td>\n",
       "      <td>32355.0</td>\n",
       "      <td>1.0</td>\n",
       "      <td>1.0</td>\n",
       "      <td>33.0</td>\n",
       "      <td>178.0</td>\n",
       "      <td>33.0</td>\n",
       "      <td>33.0</td>\n",
       "      <td>...</td>\n",
       "      <td>20.0</td>\n",
       "      <td>0.0</td>\n",
       "      <td>0.0</td>\n",
       "      <td>0.0</td>\n",
       "      <td>0.0</td>\n",
       "      <td>0.0</td>\n",
       "      <td>0.0</td>\n",
       "      <td>0.0</td>\n",
       "      <td>0.0</td>\n",
       "      <td>0</td>\n",
       "    </tr>\n",
       "  </tbody>\n",
       "</table>\n",
       "<p>5 rows × 79 columns</p>\n",
       "</div>"
      ],
      "text/plain": [
       "         Source Port   Destination Port   Protocol   Flow Duration  \\\n",
       "456054          80.0            49817.0        6.0        153006.0   \n",
       "216442        7075.0               53.0       17.0         73916.0   \n",
       "273754       10939.0               53.0       17.0         31572.0   \n",
       "205260       49713.0              443.0        6.0        394895.0   \n",
       "370424        6804.0               53.0       17.0         32355.0   \n",
       "\n",
       "         Total Fwd Packets   Total Backward Packets  \\\n",
       "456054                 1.0                      1.0   \n",
       "216442                 1.0                      1.0   \n",
       "273754                 1.0                      1.0   \n",
       "205260                 9.0                      8.0   \n",
       "370424                 1.0                      1.0   \n",
       "\n",
       "        Total Length of Fwd Packets   Total Length of Bwd Packets  \\\n",
       "456054                          0.0                           0.0   \n",
       "216442                         34.0                          97.0   \n",
       "273754                         32.0                          48.0   \n",
       "205260                        628.0                        5237.0   \n",
       "370424                         33.0                         178.0   \n",
       "\n",
       "         Fwd Packet Length Max   Fwd Packet Length Min  ...  \\\n",
       "456054                     0.0                     0.0  ...   \n",
       "216442                    34.0                    34.0  ...   \n",
       "273754                    32.0                    32.0  ...   \n",
       "205260                   237.0                     0.0  ...   \n",
       "370424                    33.0                    33.0  ...   \n",
       "\n",
       "         min_seg_size_forward  Active Mean   Active Std   Active Max  \\\n",
       "456054                   32.0          0.0          0.0          0.0   \n",
       "216442                   32.0          0.0          0.0          0.0   \n",
       "273754                   32.0          0.0          0.0          0.0   \n",
       "205260                   32.0          0.0          0.0          0.0   \n",
       "370424                   20.0          0.0          0.0          0.0   \n",
       "\n",
       "         Active Min  Idle Mean   Idle Std   Idle Max   Idle Min  label  \n",
       "456054          0.0        0.0        0.0        0.0        0.0      0  \n",
       "216442          0.0        0.0        0.0        0.0        0.0      1  \n",
       "273754          0.0        0.0        0.0        0.0        0.0      1  \n",
       "205260          0.0        0.0        0.0        0.0        0.0      0  \n",
       "370424          0.0        0.0        0.0        0.0        0.0      0  \n",
       "\n",
       "[5 rows x 79 columns]"
      ]
     },
     "execution_count": 7,
     "metadata": {},
     "output_type": "execute_result"
    }
   ],
   "source": [
    "df_num[\"label\"]=df_num[\"Class\"]\n",
    "df_num.loc[df_num.label == \"Benign\", 'label'] = 0\n",
    "df_num.loc[df_num.label == \"Keylogger\", 'label'] = 1\n",
    "df_num.drop('Class', axis=1, inplace=True)\n",
    "df_num.sample(5)"
   ]
  },
  {
   "cell_type": "markdown",
   "id": "7ab9580c",
   "metadata": {
    "papermill": {
     "duration": 0.019667,
     "end_time": "2022-03-09T16:15:10.628335",
     "exception": false,
     "start_time": "2022-03-09T16:15:10.608668",
     "status": "completed"
    },
    "tags": []
   },
   "source": [
    "# Distribution Classes"
   ]
  },
  {
   "cell_type": "code",
   "execution_count": 8,
   "id": "f2079ba1",
   "metadata": {
    "execution": {
     "iopub.execute_input": "2022-03-09T16:15:10.672608Z",
     "iopub.status.busy": "2022-03-09T16:15:10.672088Z",
     "iopub.status.idle": "2022-03-09T16:15:10.705299Z",
     "shell.execute_reply": "2022-03-09T16:15:10.705691Z",
     "shell.execute_reply.started": "2022-03-06T07:35:56.77589Z"
    },
    "papermill": {
     "duration": 0.057302,
     "end_time": "2022-03-09T16:15:10.705851",
     "exception": false,
     "start_time": "2022-03-09T16:15:10.648549",
     "status": "completed"
    },
    "tags": []
   },
   "outputs": [
    {
     "data": {
      "text/plain": [
       "label\n",
       "0    308813\n",
       "1    214782\n",
       "dtype: int64"
      ]
     },
     "execution_count": 8,
     "metadata": {},
     "output_type": "execute_result"
    }
   ],
   "source": [
    "df_num.groupby('label').size()"
   ]
  },
  {
   "cell_type": "markdown",
   "id": "20f8c29d",
   "metadata": {
    "papermill": {
     "duration": 0.020871,
     "end_time": "2022-03-09T16:15:10.747779",
     "exception": false,
     "start_time": "2022-03-09T16:15:10.726908",
     "status": "completed"
    },
    "tags": []
   },
   "source": [
    "# Remove Useless Features"
   ]
  },
  {
   "cell_type": "code",
   "execution_count": 9,
   "id": "d151433c",
   "metadata": {
    "execution": {
     "iopub.execute_input": "2022-03-09T16:15:10.792336Z",
     "iopub.status.busy": "2022-03-09T16:15:10.791785Z",
     "iopub.status.idle": "2022-03-09T16:15:11.725526Z",
     "shell.execute_reply": "2022-03-09T16:15:11.725914Z",
     "shell.execute_reply.started": "2022-03-06T07:35:56.842981Z"
    },
    "papermill": {
     "duration": 0.957266,
     "end_time": "2022-03-09T16:15:11.726075",
     "exception": false,
     "start_time": "2022-03-09T16:15:10.768809",
     "status": "completed"
    },
    "tags": []
   },
   "outputs": [],
   "source": [
    "for col in (df_num.iloc[:,:-1].columns):\n",
    "    if(df_num[col].min()==df_num[col].max()):\n",
    "            df_num.drop(col, axis=1, inplace=True)"
   ]
  },
  {
   "cell_type": "markdown",
   "id": "9483a12e",
   "metadata": {
    "papermill": {
     "duration": 0.019833,
     "end_time": "2022-03-09T16:15:11.765906",
     "exception": false,
     "start_time": "2022-03-09T16:15:11.746073",
     "status": "completed"
    },
    "tags": []
   },
   "source": [
    "# Feature Scaling"
   ]
  },
  {
   "cell_type": "code",
   "execution_count": 10,
   "id": "1af147a7",
   "metadata": {
    "execution": {
     "iopub.execute_input": "2022-03-09T16:15:11.810711Z",
     "iopub.status.busy": "2022-03-09T16:15:11.809981Z",
     "iopub.status.idle": "2022-03-09T16:15:12.156978Z",
     "shell.execute_reply": "2022-03-09T16:15:12.157452Z",
     "shell.execute_reply.started": "2022-03-06T07:35:58.915334Z"
    },
    "papermill": {
     "duration": 0.371797,
     "end_time": "2022-03-09T16:15:12.157597",
     "exception": false,
     "start_time": "2022-03-09T16:15:11.785800",
     "status": "completed"
    },
    "tags": []
   },
   "outputs": [
    {
     "data": {
      "text/html": [
       "<div>\n",
       "<style scoped>\n",
       "    .dataframe tbody tr th:only-of-type {\n",
       "        vertical-align: middle;\n",
       "    }\n",
       "\n",
       "    .dataframe tbody tr th {\n",
       "        vertical-align: top;\n",
       "    }\n",
       "\n",
       "    .dataframe thead th {\n",
       "        text-align: right;\n",
       "    }\n",
       "</style>\n",
       "<table border=\"1\" class=\"dataframe\">\n",
       "  <thead>\n",
       "    <tr style=\"text-align: right;\">\n",
       "      <th></th>\n",
       "      <th>Source Port</th>\n",
       "      <th>Destination Port</th>\n",
       "      <th>Protocol</th>\n",
       "      <th>Flow Duration</th>\n",
       "      <th>Total Fwd Packets</th>\n",
       "      <th>Total Backward Packets</th>\n",
       "      <th>Total Length of Fwd Packets</th>\n",
       "      <th>Total Length of Bwd Packets</th>\n",
       "      <th>Fwd Packet Length Max</th>\n",
       "      <th>Fwd Packet Length Min</th>\n",
       "      <th>...</th>\n",
       "      <th>min_seg_size_forward</th>\n",
       "      <th>Active Mean</th>\n",
       "      <th>Active Std</th>\n",
       "      <th>Active Max</th>\n",
       "      <th>Active Min</th>\n",
       "      <th>Idle Mean</th>\n",
       "      <th>Idle Std</th>\n",
       "      <th>Idle Max</th>\n",
       "      <th>Idle Min</th>\n",
       "      <th>label</th>\n",
       "    </tr>\n",
       "  </thead>\n",
       "  <tbody>\n",
       "    <tr>\n",
       "      <th>0</th>\n",
       "      <td>-0.210447</td>\n",
       "      <td>-0.368579</td>\n",
       "      <td>-0.468868</td>\n",
       "      <td>0.042412</td>\n",
       "      <td>-0.004811</td>\n",
       "      <td>-0.036722</td>\n",
       "      <td>-0.013233</td>\n",
       "      <td>-0.038629</td>\n",
       "      <td>-0.021233</td>\n",
       "      <td>-0.212203</td>\n",
       "      <td>...</td>\n",
       "      <td>0.004137</td>\n",
       "      <td>-0.183877</td>\n",
       "      <td>-0.063066</td>\n",
       "      <td>-0.175005</td>\n",
       "      <td>-0.173854</td>\n",
       "      <td>-0.290551</td>\n",
       "      <td>-0.121636</td>\n",
       "      <td>-0.296481</td>\n",
       "      <td>-0.277622</td>\n",
       "      <td>0</td>\n",
       "    </tr>\n",
       "    <tr>\n",
       "      <th>1</th>\n",
       "      <td>0.828487</td>\n",
       "      <td>-0.368579</td>\n",
       "      <td>-0.468868</td>\n",
       "      <td>-0.465677</td>\n",
       "      <td>0.945480</td>\n",
       "      <td>0.575336</td>\n",
       "      <td>-0.004001</td>\n",
       "      <td>0.556642</td>\n",
       "      <td>0.815442</td>\n",
       "      <td>-0.212203</td>\n",
       "      <td>...</td>\n",
       "      <td>0.004137</td>\n",
       "      <td>-0.183877</td>\n",
       "      <td>-0.063066</td>\n",
       "      <td>-0.175005</td>\n",
       "      <td>-0.173854</td>\n",
       "      <td>-0.290551</td>\n",
       "      <td>-0.121636</td>\n",
       "      <td>-0.296481</td>\n",
       "      <td>-0.277622</td>\n",
       "      <td>0</td>\n",
       "    </tr>\n",
       "    <tr>\n",
       "      <th>2</th>\n",
       "      <td>-2.027848</td>\n",
       "      <td>2.839488</td>\n",
       "      <td>-0.468868</td>\n",
       "      <td>-0.483831</td>\n",
       "      <td>-0.076338</td>\n",
       "      <td>-0.055364</td>\n",
       "      <td>-0.018437</td>\n",
       "      <td>-0.046536</td>\n",
       "      <td>-0.435509</td>\n",
       "      <td>-0.212203</td>\n",
       "      <td>...</td>\n",
       "      <td>0.004137</td>\n",
       "      <td>-0.183877</td>\n",
       "      <td>-0.063066</td>\n",
       "      <td>-0.175005</td>\n",
       "      <td>-0.173854</td>\n",
       "      <td>-0.290551</td>\n",
       "      <td>-0.121636</td>\n",
       "      <td>-0.296481</td>\n",
       "      <td>-0.277622</td>\n",
       "      <td>0</td>\n",
       "    </tr>\n",
       "    <tr>\n",
       "      <th>3</th>\n",
       "      <td>-0.821057</td>\n",
       "      <td>-0.393449</td>\n",
       "      <td>2.036972</td>\n",
       "      <td>-0.460353</td>\n",
       "      <td>-0.086556</td>\n",
       "      <td>-0.052257</td>\n",
       "      <td>-0.018736</td>\n",
       "      <td>-0.046050</td>\n",
       "      <td>-0.478832</td>\n",
       "      <td>0.522899</td>\n",
       "      <td>...</td>\n",
       "      <td>0.004137</td>\n",
       "      <td>-0.183877</td>\n",
       "      <td>-0.063066</td>\n",
       "      <td>-0.175005</td>\n",
       "      <td>-0.173854</td>\n",
       "      <td>-0.290551</td>\n",
       "      <td>-0.121636</td>\n",
       "      <td>-0.296481</td>\n",
       "      <td>-0.277622</td>\n",
       "      <td>0</td>\n",
       "    </tr>\n",
       "    <tr>\n",
       "      <th>4</th>\n",
       "      <td>0.759549</td>\n",
       "      <td>-0.368579</td>\n",
       "      <td>-0.468868</td>\n",
       "      <td>-0.166949</td>\n",
       "      <td>-0.066120</td>\n",
       "      <td>-0.055364</td>\n",
       "      <td>-0.019463</td>\n",
       "      <td>-0.046536</td>\n",
       "      <td>-0.584432</td>\n",
       "      <td>-0.212203</td>\n",
       "      <td>...</td>\n",
       "      <td>0.004135</td>\n",
       "      <td>-0.183877</td>\n",
       "      <td>-0.063066</td>\n",
       "      <td>-0.175005</td>\n",
       "      <td>-0.173854</td>\n",
       "      <td>-0.290551</td>\n",
       "      <td>-0.121636</td>\n",
       "      <td>-0.296481</td>\n",
       "      <td>-0.277622</td>\n",
       "      <td>0</td>\n",
       "    </tr>\n",
       "  </tbody>\n",
       "</table>\n",
       "<p>5 rows × 68 columns</p>\n",
       "</div>"
      ],
      "text/plain": [
       "    Source Port   Destination Port   Protocol   Flow Duration  \\\n",
       "0     -0.210447          -0.368579  -0.468868        0.042412   \n",
       "1      0.828487          -0.368579  -0.468868       -0.465677   \n",
       "2     -2.027848           2.839488  -0.468868       -0.483831   \n",
       "3     -0.821057          -0.393449   2.036972       -0.460353   \n",
       "4      0.759549          -0.368579  -0.468868       -0.166949   \n",
       "\n",
       "    Total Fwd Packets   Total Backward Packets  Total Length of Fwd Packets  \\\n",
       "0           -0.004811                -0.036722                    -0.013233   \n",
       "1            0.945480                 0.575336                    -0.004001   \n",
       "2           -0.076338                -0.055364                    -0.018437   \n",
       "3           -0.086556                -0.052257                    -0.018736   \n",
       "4           -0.066120                -0.055364                    -0.019463   \n",
       "\n",
       "    Total Length of Bwd Packets   Fwd Packet Length Max  \\\n",
       "0                     -0.038629               -0.021233   \n",
       "1                      0.556642                0.815442   \n",
       "2                     -0.046536               -0.435509   \n",
       "3                     -0.046050               -0.478832   \n",
       "4                     -0.046536               -0.584432   \n",
       "\n",
       "    Fwd Packet Length Min  ...   min_seg_size_forward  Active Mean  \\\n",
       "0               -0.212203  ...               0.004137    -0.183877   \n",
       "1               -0.212203  ...               0.004137    -0.183877   \n",
       "2               -0.212203  ...               0.004137    -0.183877   \n",
       "3                0.522899  ...               0.004137    -0.183877   \n",
       "4               -0.212203  ...               0.004135    -0.183877   \n",
       "\n",
       "    Active Std   Active Max   Active Min  Idle Mean   Idle Std   Idle Max  \\\n",
       "0    -0.063066    -0.175005    -0.173854  -0.290551  -0.121636  -0.296481   \n",
       "1    -0.063066    -0.175005    -0.173854  -0.290551  -0.121636  -0.296481   \n",
       "2    -0.063066    -0.175005    -0.173854  -0.290551  -0.121636  -0.296481   \n",
       "3    -0.063066    -0.175005    -0.173854  -0.290551  -0.121636  -0.296481   \n",
       "4    -0.063066    -0.175005    -0.173854  -0.290551  -0.121636  -0.296481   \n",
       "\n",
       "    Idle Min  label  \n",
       "0  -0.277622      0  \n",
       "1  -0.277622      0  \n",
       "2  -0.277622      0  \n",
       "3  -0.277622      0  \n",
       "4  -0.277622      0  \n",
       "\n",
       "[5 rows x 68 columns]"
      ]
     },
     "execution_count": 10,
     "metadata": {},
     "output_type": "execute_result"
    }
   ],
   "source": [
    "# Normalization OR Standardization\n",
    "def standardize(df,col):\n",
    "    df[col]= (df[col]-df[col].mean())/(df[col].std()) # Standardization\n",
    "    #df[col]= (df[col]-df[col].min())/(df[col].max()-df[col].min()) #Normalization\n",
    "\n",
    "for i in (df_num.iloc[:,:-1].columns):\n",
    "    standardize (df_num,i)\n",
    "\n",
    "df_num.head()"
   ]
  },
  {
   "cell_type": "code",
   "execution_count": 11,
   "id": "9b5a35ab",
   "metadata": {
    "execution": {
     "iopub.execute_input": "2022-03-09T16:15:12.204115Z",
     "iopub.status.busy": "2022-03-09T16:15:12.203571Z",
     "iopub.status.idle": "2022-03-09T16:15:12.208003Z",
     "shell.execute_reply": "2022-03-09T16:15:12.208401Z",
     "shell.execute_reply.started": "2022-03-06T07:35:59.51323Z"
    },
    "papermill": {
     "duration": 0.029198,
     "end_time": "2022-03-09T16:15:12.208547",
     "exception": false,
     "start_time": "2022-03-09T16:15:12.179349",
     "status": "completed"
    },
    "tags": []
   },
   "outputs": [],
   "source": [
    "target=['label']\n",
    "features = [c for c in df_num.columns if c!=\"label\"]"
   ]
  },
  {
   "cell_type": "markdown",
   "id": "857528da",
   "metadata": {
    "papermill": {
     "duration": 0.020406,
     "end_time": "2022-03-09T16:15:12.250093",
     "exception": false,
     "start_time": "2022-03-09T16:15:12.229687",
     "status": "completed"
    },
    "tags": []
   },
   "source": [
    "# Split DataSet"
   ]
  },
  {
   "cell_type": "code",
   "execution_count": 12,
   "id": "2e8014f1",
   "metadata": {
    "execution": {
     "iopub.execute_input": "2022-03-09T16:15:12.295706Z",
     "iopub.status.busy": "2022-03-09T16:15:12.295146Z",
     "iopub.status.idle": "2022-03-09T16:15:12.406466Z",
     "shell.execute_reply": "2022-03-09T16:15:12.405895Z",
     "shell.execute_reply.started": "2022-03-06T07:35:59.520141Z"
    },
    "papermill": {
     "duration": 0.13597,
     "end_time": "2022-03-09T16:15:12.406597",
     "exception": false,
     "start_time": "2022-03-09T16:15:12.270627",
     "status": "completed"
    },
    "tags": []
   },
   "outputs": [
    {
     "data": {
      "text/plain": [
       "((523595, 67), (523595, 1))"
      ]
     },
     "execution_count": 12,
     "metadata": {},
     "output_type": "execute_result"
    }
   ],
   "source": [
    "X = df_num[features].values # Features\n",
    "y = df_num[target].values # Target\n",
    "\n",
    "X=X.astype(np.float32)\n",
    "y=y.astype(np.float32)\n",
    "\n",
    "X.shape,y.shape,"
   ]
  },
  {
   "cell_type": "code",
   "execution_count": 13,
   "id": "10ffdd79",
   "metadata": {
    "execution": {
     "iopub.execute_input": "2022-03-09T16:15:12.465327Z",
     "iopub.status.busy": "2022-03-09T16:15:12.454314Z",
     "iopub.status.idle": "2022-03-09T16:15:12.778184Z",
     "shell.execute_reply": "2022-03-09T16:15:12.777603Z",
     "shell.execute_reply.started": "2022-03-06T07:35:59.804336Z"
    },
    "papermill": {
     "duration": 0.350344,
     "end_time": "2022-03-09T16:15:12.778320",
     "exception": false,
     "start_time": "2022-03-09T16:15:12.427976",
     "status": "completed"
    },
    "tags": []
   },
   "outputs": [],
   "source": [
    "from sklearn.model_selection import train_test_split\n",
    "X_train, X_test, y_train, y_test = train_test_split(X, y, test_size=0.2, random_state=42)"
   ]
  },
  {
   "cell_type": "code",
   "execution_count": 14,
   "id": "d013e050",
   "metadata": {
    "execution": {
     "iopub.execute_input": "2022-03-09T16:15:12.847134Z",
     "iopub.status.busy": "2022-03-09T16:15:12.846545Z",
     "iopub.status.idle": "2022-03-09T16:15:12.851351Z",
     "shell.execute_reply": "2022-03-09T16:15:12.851865Z",
     "shell.execute_reply.started": "2022-03-06T07:36:00.460281Z"
    },
    "papermill": {
     "duration": 0.042027,
     "end_time": "2022-03-09T16:15:12.852068",
     "exception": false,
     "start_time": "2022-03-09T16:15:12.810041",
     "status": "completed"
    },
    "tags": []
   },
   "outputs": [
    {
     "data": {
      "text/plain": [
       "((418876, 67), (104719, 67), (418876, 1), (104719, 1))"
      ]
     },
     "execution_count": 14,
     "metadata": {},
     "output_type": "execute_result"
    }
   ],
   "source": [
    "X_train.shape,X_test.shape,y_train.shape,y_test.shape"
   ]
  },
  {
   "cell_type": "code",
   "execution_count": 15,
   "id": "cb0beb5f",
   "metadata": {
    "execution": {
     "iopub.execute_input": "2022-03-09T16:15:12.923163Z",
     "iopub.status.busy": "2022-03-09T16:15:12.922438Z",
     "iopub.status.idle": "2022-03-09T16:15:12.925186Z",
     "shell.execute_reply": "2022-03-09T16:15:12.924546Z",
     "shell.execute_reply.started": "2022-03-06T07:36:00.470651Z"
    },
    "papermill": {
     "duration": 0.040021,
     "end_time": "2022-03-09T16:15:12.925326",
     "exception": false,
     "start_time": "2022-03-09T16:15:12.885305",
     "status": "completed"
    },
    "tags": []
   },
   "outputs": [],
   "source": [
    "lgb_train = lgb.Dataset(X_train, y_train,feature_name=features)\n",
    "lgb_valid = lgb.Dataset(X_test, y_test,feature_name=features)"
   ]
  },
  {
   "cell_type": "markdown",
   "id": "d1ee066f",
   "metadata": {
    "papermill": {
     "duration": 0.03209,
     "end_time": "2022-03-09T16:15:12.989812",
     "exception": false,
     "start_time": "2022-03-09T16:15:12.957722",
     "status": "completed"
    },
    "tags": []
   },
   "source": [
    "# Build Model"
   ]
  },
  {
   "cell_type": "code",
   "execution_count": 16,
   "id": "c3e265a7",
   "metadata": {
    "execution": {
     "iopub.execute_input": "2022-03-09T16:15:13.061919Z",
     "iopub.status.busy": "2022-03-09T16:15:13.061261Z",
     "iopub.status.idle": "2022-03-09T16:26:30.105342Z",
     "shell.execute_reply": "2022-03-09T16:26:30.106122Z"
    },
    "papermill": {
     "duration": 677.084586,
     "end_time": "2022-03-09T16:26:30.106510",
     "exception": false,
     "start_time": "2022-03-09T16:15:13.021924",
     "status": "completed"
    },
    "tags": []
   },
   "outputs": [
    {
     "name": "stderr",
     "output_type": "stream",
     "text": [
      "C:\\Users\\HP\\AppData\\Local\\Programs\\Python\\Python37\\opencv\\lib\\site-packages\\lightgbm\\engine.py:181: UserWarning: 'early_stopping_rounds' argument is deprecated and will be removed in a future release of LightGBM. Pass 'early_stopping()' callback via 'callbacks' argument instead.\n",
      "  _log_warning(\"'early_stopping_rounds' argument is deprecated and will be removed in a future release of LightGBM. \"\n",
      "C:\\Users\\HP\\AppData\\Local\\Programs\\Python\\Python37\\opencv\\lib\\site-packages\\lightgbm\\engine.py:239: UserWarning: 'verbose_eval' argument is deprecated and will be removed in a future release of LightGBM. Pass 'log_evaluation()' callback via 'callbacks' argument instead.\n",
      "  _log_warning(\"'verbose_eval' argument is deprecated and will be removed in a future release of LightGBM. \"\n",
      "C:\\Users\\HP\\AppData\\Local\\Programs\\Python\\Python37\\opencv\\lib\\site-packages\\lightgbm\\basic.py:179: UserWarning: Converting column-vector to 1d array\n",
      "  _log_warning('Converting column-vector to 1d array')\n"
     ]
    },
    {
     "name": "stdout",
     "output_type": "stream",
     "text": [
      "[LightGBM] [Warning] Found whitespace in feature_names, replace with underlines\n",
      "[LightGBM] [Info] Number of positive: 171835, number of negative: 247041\n",
      "[LightGBM] [Warning] Auto-choosing col-wise multi-threading, the overhead of testing was 0.422880 seconds.\n",
      "You can set `force_col_wise=true` to remove the overhead.\n",
      "[LightGBM] [Info] Total Bins 44105\n",
      "[LightGBM] [Info] Number of data points in the train set: 418876, number of used features: 67\n",
      "[LightGBM] [Warning] Found whitespace in feature_names, replace with underlines\n",
      "[LightGBM] [Info] [binary:BoostFromScore]: pavg=0.410229 -> initscore=-0.363020\n",
      "[LightGBM] [Info] Start training from score -0.363020\n",
      "Training until validation scores don't improve for 10 rounds\n",
      "[100]\ttraining's auc: 0.792277\tvalid_1's auc: 0.786866\n",
      "[200]\ttraining's auc: 0.832535\tvalid_1's auc: 0.822626\n",
      "[300]\ttraining's auc: 0.857687\tvalid_1's auc: 0.844797\n",
      "[400]\ttraining's auc: 0.877235\tvalid_1's auc: 0.862485\n",
      "[500]\ttraining's auc: 0.892568\tvalid_1's auc: 0.876049\n",
      "[600]\ttraining's auc: 0.905287\tvalid_1's auc: 0.887577\n",
      "[700]\ttraining's auc: 0.915151\tvalid_1's auc: 0.89654\n",
      "[800]\ttraining's auc: 0.923825\tvalid_1's auc: 0.904644\n",
      "[900]\ttraining's auc: 0.931232\tvalid_1's auc: 0.91151\n",
      "[1000]\ttraining's auc: 0.937661\tvalid_1's auc: 0.917593\n",
      "[1100]\ttraining's auc: 0.943167\tvalid_1's auc: 0.922762\n",
      "[1200]\ttraining's auc: 0.948435\tvalid_1's auc: 0.927942\n",
      "[1300]\ttraining's auc: 0.952355\tvalid_1's auc: 0.931841\n",
      "[1400]\ttraining's auc: 0.955864\tvalid_1's auc: 0.93543\n",
      "[1500]\ttraining's auc: 0.959201\tvalid_1's auc: 0.939007\n",
      "[1600]\ttraining's auc: 0.962391\tvalid_1's auc: 0.942361\n",
      "[1700]\ttraining's auc: 0.965549\tvalid_1's auc: 0.945599\n",
      "[1800]\ttraining's auc: 0.968492\tvalid_1's auc: 0.948621\n",
      "[1900]\ttraining's auc: 0.970653\tvalid_1's auc: 0.951076\n",
      "[2000]\ttraining's auc: 0.972805\tvalid_1's auc: 0.953501\n",
      "[2100]\ttraining's auc: 0.974794\tvalid_1's auc: 0.955744\n",
      "[2200]\ttraining's auc: 0.976725\tvalid_1's auc: 0.957943\n",
      "[2300]\ttraining's auc: 0.978125\tvalid_1's auc: 0.95954\n",
      "[2400]\ttraining's auc: 0.979335\tvalid_1's auc: 0.960924\n",
      "[2500]\ttraining's auc: 0.980642\tvalid_1's auc: 0.9625\n",
      "[2600]\ttraining's auc: 0.981874\tvalid_1's auc: 0.963989\n",
      "[2700]\ttraining's auc: 0.983045\tvalid_1's auc: 0.965413\n",
      "[2800]\ttraining's auc: 0.984203\tvalid_1's auc: 0.966817\n",
      "[2900]\ttraining's auc: 0.98521\tvalid_1's auc: 0.968114\n",
      "[3000]\ttraining's auc: 0.986133\tvalid_1's auc: 0.969337\n",
      "[3100]\ttraining's auc: 0.987097\tvalid_1's auc: 0.970607\n",
      "[3200]\ttraining's auc: 0.987865\tvalid_1's auc: 0.971598\n",
      "[3300]\ttraining's auc: 0.988538\tvalid_1's auc: 0.972515\n",
      "[3400]\ttraining's auc: 0.989324\tvalid_1's auc: 0.973526\n",
      "[3500]\ttraining's auc: 0.989975\tvalid_1's auc: 0.974454\n",
      "[3600]\ttraining's auc: 0.990625\tvalid_1's auc: 0.975362\n",
      "[3700]\ttraining's auc: 0.991145\tvalid_1's auc: 0.976131\n",
      "[3800]\ttraining's auc: 0.99171\tvalid_1's auc: 0.976948\n",
      "[3900]\ttraining's auc: 0.99218\tvalid_1's auc: 0.977642\n",
      "[4000]\ttraining's auc: 0.992495\tvalid_1's auc: 0.978141\n",
      "[4100]\ttraining's auc: 0.992875\tvalid_1's auc: 0.9787\n",
      "[4200]\ttraining's auc: 0.993178\tvalid_1's auc: 0.979199\n",
      "[4300]\ttraining's auc: 0.993537\tvalid_1's auc: 0.979746\n",
      "[4400]\ttraining's auc: 0.99392\tvalid_1's auc: 0.980344\n",
      "[4500]\ttraining's auc: 0.994243\tvalid_1's auc: 0.980907\n",
      "[4600]\ttraining's auc: 0.994571\tvalid_1's auc: 0.981434\n",
      "[4700]\ttraining's auc: 0.994902\tvalid_1's auc: 0.981955\n",
      "[4800]\ttraining's auc: 0.995185\tvalid_1's auc: 0.982412\n",
      "[4900]\ttraining's auc: 0.995467\tvalid_1's auc: 0.982891\n",
      "[5000]\ttraining's auc: 0.995676\tvalid_1's auc: 0.983254\n",
      "[5100]\ttraining's auc: 0.995884\tvalid_1's auc: 0.983684\n",
      "[5200]\ttraining's auc: 0.996187\tvalid_1's auc: 0.984227\n",
      "[5300]\ttraining's auc: 0.996447\tvalid_1's auc: 0.9847\n",
      "[5400]\ttraining's auc: 0.996688\tvalid_1's auc: 0.985142\n",
      "[5500]\ttraining's auc: 0.996882\tvalid_1's auc: 0.985526\n",
      "[5600]\ttraining's auc: 0.997079\tvalid_1's auc: 0.985884\n",
      "[5700]\ttraining's auc: 0.997236\tvalid_1's auc: 0.986202\n",
      "[5800]\ttraining's auc: 0.997397\tvalid_1's auc: 0.986521\n",
      "[5900]\ttraining's auc: 0.997527\tvalid_1's auc: 0.98678\n",
      "[6000]\ttraining's auc: 0.997668\tvalid_1's auc: 0.987081\n",
      "[6100]\ttraining's auc: 0.997796\tvalid_1's auc: 0.987351\n",
      "[6200]\ttraining's auc: 0.997895\tvalid_1's auc: 0.98758\n",
      "[6300]\ttraining's auc: 0.998007\tvalid_1's auc: 0.987808\n",
      "[6400]\ttraining's auc: 0.998111\tvalid_1's auc: 0.988047\n",
      "[6500]\ttraining's auc: 0.998211\tvalid_1's auc: 0.988256\n",
      "[6600]\ttraining's auc: 0.998297\tvalid_1's auc: 0.988473\n",
      "Early stopping, best iteration is:\n",
      "[6593]\ttraining's auc: 0.998297\tvalid_1's auc: 0.988476\n"
     ]
    }
   ],
   "source": [
    "params= {\n",
    "        'objective': 'binary',\n",
    "        'metric': 'auc',\n",
    "        'seed': 42,\n",
    "        'learning_rate': 0.05,\n",
    "        'max_bin': 850,\n",
    "        'num_leaves': 70\n",
    "        }\n",
    "\n",
    "model = lgb.train(params, \n",
    "                  lgb_train,\n",
    "                  valid_sets=[lgb_train, lgb_valid],\n",
    "                  verbose_eval=100,\n",
    "                  num_boost_round=10000,\n",
    "                  early_stopping_rounds=10\n",
    "                )"
   ]
  },
  {
   "cell_type": "markdown",
   "id": "2370614b",
   "metadata": {
    "papermill": {
     "duration": 0.059032,
     "end_time": "2022-03-09T16:26:30.226019",
     "exception": false,
     "start_time": "2022-03-09T16:26:30.166987",
     "status": "completed"
    },
    "tags": []
   },
   "source": [
    "# Evaluation"
   ]
  },
  {
   "cell_type": "code",
   "execution_count": 17,
   "id": "f3189c6e",
   "metadata": {
    "execution": {
     "iopub.execute_input": "2022-03-09T16:26:30.344120Z",
     "iopub.status.busy": "2022-03-09T16:26:30.330602Z",
     "iopub.status.idle": "2022-03-09T16:27:06.868648Z",
     "shell.execute_reply": "2022-03-09T16:27:06.869202Z"
    },
    "papermill": {
     "duration": 36.583054,
     "end_time": "2022-03-09T16:27:06.869374",
     "exception": false,
     "start_time": "2022-03-09T16:26:30.286320",
     "status": "completed"
    },
    "tags": []
   },
   "outputs": [
    {
     "name": "stdout",
     "output_type": "stream",
     "text": [
      "AUC: 0.988\n"
     ]
    }
   ],
   "source": [
    "y_pred = model.predict(X_test)\n",
    "AUC = metrics.roc_auc_score(y_test,y_pred)\n",
    "print(\"AUC: {:.3f}\".format(AUC))"
   ]
  },
  {
   "cell_type": "markdown",
   "id": "e763811f",
   "metadata": {
    "papermill": {
     "duration": 0.059103,
     "end_time": "2022-03-09T16:27:06.987927",
     "exception": false,
     "start_time": "2022-03-09T16:27:06.928824",
     "status": "completed"
    },
    "tags": []
   },
   "source": [
    "### ROC Curve"
   ]
  },
  {
   "cell_type": "code",
   "execution_count": 18,
   "id": "05de72c6",
   "metadata": {
    "execution": {
     "iopub.execute_input": "2022-03-09T16:27:07.111435Z",
     "iopub.status.busy": "2022-03-09T16:27:07.110612Z",
     "iopub.status.idle": "2022-03-09T16:27:07.353347Z",
     "shell.execute_reply": "2022-03-09T16:27:07.352681Z"
    },
    "papermill": {
     "duration": 0.306431,
     "end_time": "2022-03-09T16:27:07.353488",
     "exception": false,
     "start_time": "2022-03-09T16:27:07.047057",
     "status": "completed"
    },
    "tags": []
   },
   "outputs": [
    {
     "data": {
      "image/png": "[encoded data removed]",
      "text/plain": [
       "<Figure size 432x288 with 1 Axes>"
      ]
     },
     "metadata": {
      "needs_background": "light"
     },
     "output_type": "display_data"
    }
   ],
   "source": [
    "def generate_results(y_test, y_score):\n",
    "    # print(y_score)\n",
    "    fpr, tpr, _ = roc_curve(y_test, y_score)\n",
    "    roc_auc = auc(fpr, tpr)\n",
    "    plt.figure()\n",
    "    plt.plot(fpr, tpr, color='darkorange',\n",
    "             lw=2, label='ROC curve (area = %0.2f)' % roc_auc)\n",
    "    plt.plot([0, 1], [0, 1], color='navy', lw=2, linestyle='--')\n",
    "    plt.xlim([0.0, 1.0])\n",
    "    plt.ylim([0.0, 1.05])\n",
    "    plt.xlabel('False Positive Rate')\n",
    "    plt.ylabel('True Positive Rate')\n",
    "    plt.title('ROC Curve')\n",
    "    plt.legend(loc=\"lower right\")\n",
    "    plt.show()\n",
    "    \n",
    "generate_results(y_test, y_pred)"
   ]
  },
  {
   "cell_type": "markdown",
   "id": "d7a60495",
   "metadata": {
    "papermill": {
     "duration": 0.06055,
     "end_time": "2022-03-09T16:27:07.474208",
     "exception": false,
     "start_time": "2022-03-09T16:27:07.413658",
     "status": "completed"
    },
    "tags": []
   },
   "source": [
    "### Feature importance"
   ]
  },
  {
   "cell_type": "code",
   "execution_count": 19,
   "id": "369735b1",
   "metadata": {
    "execution": {
     "iopub.execute_input": "2022-03-09T16:27:07.622683Z",
     "iopub.status.busy": "2022-03-09T16:27:07.621977Z",
     "iopub.status.idle": "2022-03-09T16:27:08.236401Z",
     "shell.execute_reply": "2022-03-09T16:27:08.235731Z"
    },
    "papermill": {
     "duration": 0.700565,
     "end_time": "2022-03-09T16:27:08.236540",
     "exception": false,
     "start_time": "2022-03-09T16:27:07.535975",
     "status": "completed"
    },
    "tags": []
   },
   "outputs": [
    {
     "data": {
      "image/png": "[encoded data removed]",
      "text/plain": [
       "<Figure size 1440x720 with 1 Axes>"
      ]
     },
     "metadata": {
      "needs_background": "light"
     },
     "output_type": "display_data"
    }
   ],
   "source": [
    "fig, ax = plt.subplots(figsize=(20, 10))\n",
    "lgb.plot_importance(model, max_num_features=30, ax=ax)\n",
    "plt.title(\"LightGBM - Feature Importance\");"
   ]
  },
  {
   "cell_type": "code",
   "execution_count": null,
   "id": "f1b90da9",
   "metadata": {},
   "outputs": [],
   "source": []
  }
 ],
 "metadata": {
  "kernelspec": {
   "display_name": "Python 3 (ipykernel)",
   "language": "python",
   "name": "python3"
  },
  "language_info": {
   "codemirror_mode": {
    "name": "ipython",
    "version": 3
   },
   "file_extension": ".py",
   "mimetype": "text/x-python",
   "name": "python",
   "nbconvert_exporter": "python",
   "pygments_lexer": "ipython3",
   "version": "3.7.4"
  },
  "papermill": {
   "default_parameters": {},
   "duration": 743.882667,
   "end_time": "2022-03-09T16:27:09.719579",
   "environment_variables": {},
   "exception": null,
   "input_path": "__notebook__.ipynb",
   "output_path": "__notebook__.ipynb",
   "parameters": {},
   "start_time": "2022-03-09T16:14:45.836912",
   "version": "2.3.3"
  }
 },
 "nbformat": 4,
 "nbformat_minor": 5
}
