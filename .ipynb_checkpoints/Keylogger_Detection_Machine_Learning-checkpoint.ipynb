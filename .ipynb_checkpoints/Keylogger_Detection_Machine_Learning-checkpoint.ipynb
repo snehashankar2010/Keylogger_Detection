{
 "cells": [
  {
   "cell_type": "markdown",
   "id": "5ad16cb7",
   "metadata": {
    "papermill": {
     "duration": 0.023791,
     "end_time": "2021-12-06T11:54:07.185522",
     "exception": false,
     "start_time": "2021-12-06T11:54:07.161731",
     "status": "completed"
    },
    "tags": []
   },
   "source": [
    "# Keylogging [ IoT Intrusion ] Detection Machine Learning"
   ]
  },
  {
   "cell_type": "markdown",
   "id": "38499747",
   "metadata": {
    "papermill": {
     "duration": 0.022385,
     "end_time": "2021-12-06T11:54:07.231467",
     "exception": false,
     "start_time": "2021-12-06T11:54:07.209082",
     "status": "completed"
    },
    "tags": []
   },
   "source": [
    "# Importing Libraries"
   ]
  },
  {
   "cell_type": "code",
   "execution_count": 1,
   "id": "d1f7455f",
   "metadata": {
    "_cell_guid": "79c7e3d0-c299-4dcb-8224-4455121ee9b0",
    "_uuid": "d629ff2d2480ee46fbb7e2d37f6b5fab8052498a",
    "execution": {
     "iopub.execute_input": "2021-12-06T11:54:07.281852Z",
     "iopub.status.busy": "2021-12-06T11:54:07.280349Z",
     "iopub.status.idle": "2021-12-06T11:54:14.944135Z",
     "shell.execute_reply": "2021-12-06T11:54:14.943082Z",
     "shell.execute_reply.started": "2021-12-06T11:52:50.239284Z"
    },
    "papermill": {
     "duration": 7.690227,
     "end_time": "2021-12-06T11:54:14.944304",
     "exception": false,
     "start_time": "2021-12-06T11:54:07.254077",
     "status": "completed"
    },
    "tags": []
   },
   "outputs": [],
   "source": [
    "import sys\n",
    "sys.path.append('C:\\\\Users\\\\hp\\\\AppData\\\\Local\\\\Programs\\\\Python\\\\Python37\\\\Lib\\\\site-packages')\n",
    "import numpy as np\n",
    "import pandas as pd\n",
    "import matplotlib.pyplot as plt\n",
    "import seaborn as sns\n",
    "import plotly.express as px\n",
    "#import libraries\n",
    "from sklearn.model_selection import train_test_split\n",
    "from sklearn.metrics import roc_curve, auc\n",
    "from sklearn import metrics\n",
    "from tensorflow.keras.models import Sequential\n",
    "from tensorflow.keras.layers import Dense, Activation,Dropout\n",
    "from tensorflow.keras.callbacks import ModelCheckpoint, EarlyStopping, ReduceLROnPlateau\n",
    "from tensorflow.keras.optimizers import SGD,Adam\n",
    "import keras\n",
    "# Conv1D + LSTM\n",
    "from keras.layers.convolutional import Conv1D,MaxPooling1D,Conv2D,MaxPooling2D\n",
    "from keras.layers import LSTM\n",
    "from keras.layers import Dense\n",
    "from keras.layers import Flatten\n",
    "\n",
    "from tensorflow.keras import models, layers\n",
    "\n",
    "from tensorflow.keras.applications import EfficientNetB0\n",
    "from tensorflow.keras.applications import EfficientNetB6\n",
    "from tensorflow.keras.applications import InceptionV3\n",
    "\n",
    "from tensorflow.keras.applications import ResNet50"
   ]
  },
  {
   "cell_type": "markdown",
   "id": "8c55b49b",
   "metadata": {
    "papermill": {
     "duration": 0.02254,
     "end_time": "2021-12-06T11:54:14.990173",
     "exception": false,
     "start_time": "2021-12-06T11:54:14.967633",
     "status": "completed"
    },
    "tags": []
   },
   "source": [
    "# Reading Data"
   ]
  },
  {
   "cell_type": "code",
   "execution_count": 2,
   "id": "57e9ff9b",
   "metadata": {
    "execution": {
     "iopub.execute_input": "2021-12-06T11:54:15.039823Z",
     "iopub.status.busy": "2021-12-06T11:54:15.039291Z",
     "iopub.status.idle": "2021-12-06T11:54:23.489663Z",
     "shell.execute_reply": "2021-12-06T11:54:23.490301Z",
     "shell.execute_reply.started": "2021-12-06T11:52:57.541827Z"
    },
    "papermill": {
     "duration": 8.477701,
     "end_time": "2021-12-06T11:54:23.490508",
     "exception": false,
     "start_time": "2021-12-06T11:54:15.012807",
     "status": "completed"
    },
    "tags": []
   },
   "outputs": [
    {
     "name": "stderr",
     "output_type": "stream",
     "text": [
      "C:\\Users\\HP\\AppData\\Local\\Programs\\Python\\Python37\\opencv\\lib\\site-packages\\IPython\\core\\interactiveshell.py:3524: DtypeWarning: Columns (48,56) have mixed types.Specify dtype option on import or set low_memory=False.\n",
      "  exec(code_obj, self.user_global_ns, self.user_ns)\n"
     ]
    },
    {
     "data": {
      "text/html": [
       "<div>\n",
       "<style scoped>\n",
       "    .dataframe tbody tr th:only-of-type {\n",
       "        vertical-align: middle;\n",
       "    }\n",
       "\n",
       "    .dataframe tbody tr th {\n",
       "        vertical-align: top;\n",
       "    }\n",
       "\n",
       "    .dataframe thead th {\n",
       "        text-align: right;\n",
       "    }\n",
       "</style>\n",
       "<table border=\"1\" class=\"dataframe\">\n",
       "  <thead>\n",
       "    <tr style=\"text-align: right;\">\n",
       "      <th></th>\n",
       "      <th>Unnamed: 0</th>\n",
       "      <th>Flow ID</th>\n",
       "      <th>Source IP</th>\n",
       "      <th>Source Port</th>\n",
       "      <th>Destination IP</th>\n",
       "      <th>Destination Port</th>\n",
       "      <th>Protocol</th>\n",
       "      <th>Timestamp</th>\n",
       "      <th>Flow Duration</th>\n",
       "      <th>Total Fwd Packets</th>\n",
       "      <th>...</th>\n",
       "      <th>min_seg_size_forward</th>\n",
       "      <th>Active Mean</th>\n",
       "      <th>Active Std</th>\n",
       "      <th>Active Max</th>\n",
       "      <th>Active Min</th>\n",
       "      <th>Idle Mean</th>\n",
       "      <th>Idle Std</th>\n",
       "      <th>Idle Max</th>\n",
       "      <th>Idle Min</th>\n",
       "      <th>Class</th>\n",
       "    </tr>\n",
       "  </thead>\n",
       "  <tbody>\n",
       "    <tr>\n",
       "      <th>0</th>\n",
       "      <td>0</td>\n",
       "      <td>10.42.0.211-52.6.25.230-34451-443-6</td>\n",
       "      <td>10.42.0.211</td>\n",
       "      <td>34451.0</td>\n",
       "      <td>52.6.25.230</td>\n",
       "      <td>443.0</td>\n",
       "      <td>6.0</td>\n",
       "      <td>04/08/2017 05:12:36</td>\n",
       "      <td>12140931.0</td>\n",
       "      <td>9.0</td>\n",
       "      <td>...</td>\n",
       "      <td>32.0</td>\n",
       "      <td>0.0</td>\n",
       "      <td>0.0</td>\n",
       "      <td>0.0</td>\n",
       "      <td>0.0</td>\n",
       "      <td>0.0</td>\n",
       "      <td>0.0</td>\n",
       "      <td>0.0</td>\n",
       "      <td>0.0</td>\n",
       "      <td>Benign</td>\n",
       "    </tr>\n",
       "    <tr>\n",
       "      <th>1</th>\n",
       "      <td>1</td>\n",
       "      <td>172.217.3.99-10.42.0.151-443-53892-6</td>\n",
       "      <td>10.42.0.151</td>\n",
       "      <td>53892.0</td>\n",
       "      <td>172.217.3.99</td>\n",
       "      <td>443.0</td>\n",
       "      <td>6.0</td>\n",
       "      <td>04/08/2017 07:55:51</td>\n",
       "      <td>418882.0</td>\n",
       "      <td>102.0</td>\n",
       "      <td>...</td>\n",
       "      <td>32.0</td>\n",
       "      <td>0.0</td>\n",
       "      <td>0.0</td>\n",
       "      <td>0.0</td>\n",
       "      <td>0.0</td>\n",
       "      <td>0.0</td>\n",
       "      <td>0.0</td>\n",
       "      <td>0.0</td>\n",
       "      <td>0.0</td>\n",
       "      <td>Benign</td>\n",
       "    </tr>\n",
       "    <tr>\n",
       "      <th>2</th>\n",
       "      <td>2</td>\n",
       "      <td>172.217.3.98-10.42.0.151-443-50750-6</td>\n",
       "      <td>172.217.3.98</td>\n",
       "      <td>443.0</td>\n",
       "      <td>10.42.0.151</td>\n",
       "      <td>50750.0</td>\n",
       "      <td>6.0</td>\n",
       "      <td>04/08/2017 08:48:19</td>\n",
       "      <td>45.0</td>\n",
       "      <td>2.0</td>\n",
       "      <td>...</td>\n",
       "      <td>32.0</td>\n",
       "      <td>0.0</td>\n",
       "      <td>0.0</td>\n",
       "      <td>0.0</td>\n",
       "      <td>0.0</td>\n",
       "      <td>0.0</td>\n",
       "      <td>0.0</td>\n",
       "      <td>0.0</td>\n",
       "      <td>0.0</td>\n",
       "      <td>Benign</td>\n",
       "    </tr>\n",
       "    <tr>\n",
       "      <th>3</th>\n",
       "      <td>3</td>\n",
       "      <td>10.42.0.211-10.42.0.1-23025-53-17</td>\n",
       "      <td>10.42.0.211</td>\n",
       "      <td>23025.0</td>\n",
       "      <td>10.42.0.1</td>\n",
       "      <td>53.0</td>\n",
       "      <td>17.0</td>\n",
       "      <td>04/08/2017 05:54:10</td>\n",
       "      <td>541699.0</td>\n",
       "      <td>1.0</td>\n",
       "      <td>...</td>\n",
       "      <td>32.0</td>\n",
       "      <td>0.0</td>\n",
       "      <td>0.0</td>\n",
       "      <td>0.0</td>\n",
       "      <td>0.0</td>\n",
       "      <td>0.0</td>\n",
       "      <td>0.0</td>\n",
       "      <td>0.0</td>\n",
       "      <td>0.0</td>\n",
       "      <td>Benign</td>\n",
       "    </tr>\n",
       "    <tr>\n",
       "      <th>4</th>\n",
       "      <td>4</td>\n",
       "      <td>10.42.0.211-123.129.244.226-52602-443-6</td>\n",
       "      <td>10.42.0.211</td>\n",
       "      <td>52602.0</td>\n",
       "      <td>123.129.244.226</td>\n",
       "      <td>443.0</td>\n",
       "      <td>6.0</td>\n",
       "      <td>04/08/2017 08:44:25</td>\n",
       "      <td>7310795.0</td>\n",
       "      <td>3.0</td>\n",
       "      <td>...</td>\n",
       "      <td>20.0</td>\n",
       "      <td>0.0</td>\n",
       "      <td>0.0</td>\n",
       "      <td>0.0</td>\n",
       "      <td>0.0</td>\n",
       "      <td>0.0</td>\n",
       "      <td>0.0</td>\n",
       "      <td>0.0</td>\n",
       "      <td>0.0</td>\n",
       "      <td>Benign</td>\n",
       "    </tr>\n",
       "  </tbody>\n",
       "</table>\n",
       "<p>5 rows × 86 columns</p>\n",
       "</div>"
      ],
      "text/plain": [
       "   Unnamed: 0                                  Flow ID     Source IP  \\\n",
       "0           0      10.42.0.211-52.6.25.230-34451-443-6   10.42.0.211   \n",
       "1           1     172.217.3.99-10.42.0.151-443-53892-6   10.42.0.151   \n",
       "2           2     172.217.3.98-10.42.0.151-443-50750-6  172.217.3.98   \n",
       "3           3        10.42.0.211-10.42.0.1-23025-53-17   10.42.0.211   \n",
       "4           4  10.42.0.211-123.129.244.226-52602-443-6   10.42.0.211   \n",
       "\n",
       "    Source Port   Destination IP   Destination Port   Protocol  \\\n",
       "0       34451.0      52.6.25.230              443.0        6.0   \n",
       "1       53892.0     172.217.3.99              443.0        6.0   \n",
       "2         443.0      10.42.0.151            50750.0        6.0   \n",
       "3       23025.0        10.42.0.1               53.0       17.0   \n",
       "4       52602.0  123.129.244.226              443.0        6.0   \n",
       "\n",
       "             Timestamp   Flow Duration   Total Fwd Packets  ...  \\\n",
       "0  04/08/2017 05:12:36      12140931.0                 9.0  ...   \n",
       "1  04/08/2017 07:55:51        418882.0               102.0  ...   \n",
       "2  04/08/2017 08:48:19            45.0                 2.0  ...   \n",
       "3  04/08/2017 05:54:10        541699.0                 1.0  ...   \n",
       "4  04/08/2017 08:44:25       7310795.0                 3.0  ...   \n",
       "\n",
       "    min_seg_size_forward  Active Mean   Active Std   Active Max   Active Min  \\\n",
       "0                   32.0          0.0          0.0          0.0          0.0   \n",
       "1                   32.0          0.0          0.0          0.0          0.0   \n",
       "2                   32.0          0.0          0.0          0.0          0.0   \n",
       "3                   32.0          0.0          0.0          0.0          0.0   \n",
       "4                   20.0          0.0          0.0          0.0          0.0   \n",
       "\n",
       "   Idle Mean   Idle Std   Idle Max   Idle Min   Class  \n",
       "0        0.0        0.0        0.0        0.0  Benign  \n",
       "1        0.0        0.0        0.0        0.0  Benign  \n",
       "2        0.0        0.0        0.0        0.0  Benign  \n",
       "3        0.0        0.0        0.0        0.0  Benign  \n",
       "4        0.0        0.0        0.0        0.0  Benign  \n",
       "\n",
       "[5 rows x 86 columns]"
      ]
     },
     "execution_count": 2,
     "metadata": {},
     "output_type": "execute_result"
    }
   ],
   "source": [
    "df_dk=pd.read_csv('Keylogger_Detection.csv')\n",
    "df_dk.head(5)"
   ]
  },
  {
   "cell_type": "markdown",
   "id": "8c787f55",
   "metadata": {
    "papermill": {
     "duration": 0.023426,
     "end_time": "2021-12-06T11:54:23.538580",
     "exception": false,
     "start_time": "2021-12-06T11:54:23.515154",
     "status": "completed"
    },
    "tags": []
   },
   "source": [
    "# Data Preparation"
   ]
  },
  {
   "cell_type": "code",
   "execution_count": 3,
   "id": "86029e3b",
   "metadata": {
    "execution": {
     "iopub.execute_input": "2021-12-06T11:54:23.591578Z",
     "iopub.status.busy": "2021-12-06T11:54:23.591057Z",
     "iopub.status.idle": "2021-12-06T11:54:23.596423Z",
     "shell.execute_reply": "2021-12-06T11:54:23.596008Z",
     "shell.execute_reply.started": "2021-12-06T11:53:06.430775Z"
    },
    "papermill": {
     "duration": 0.034146,
     "end_time": "2021-12-06T11:54:23.596530",
     "exception": false,
     "start_time": "2021-12-06T11:54:23.562384",
     "status": "completed"
    },
    "tags": []
   },
   "outputs": [
    {
     "data": {
      "text/plain": [
       "Unnamed: 0           int64\n",
       "Flow ID             object\n",
       " Source IP          object\n",
       " Source Port       float64\n",
       " Destination IP     object\n",
       "                    ...   \n",
       "Idle Mean          float64\n",
       " Idle Std          float64\n",
       " Idle Max          float64\n",
       " Idle Min          float64\n",
       "Class               object\n",
       "Length: 86, dtype: object"
      ]
     },
     "execution_count": 3,
     "metadata": {},
     "output_type": "execute_result"
    }
   ],
   "source": [
    "df_dk.dtypes"
   ]
  },
  {
   "cell_type": "code",
   "execution_count": 4,
   "id": "60b49cd4",
   "metadata": {
    "execution": {
     "iopub.execute_input": "2021-12-06T11:54:23.751955Z",
     "iopub.status.busy": "2021-12-06T11:54:23.751063Z",
     "iopub.status.idle": "2021-12-06T11:54:23.879611Z",
     "shell.execute_reply": "2021-12-06T11:54:23.879131Z",
     "shell.execute_reply.started": "2021-12-06T11:53:06.440637Z"
    },
    "papermill": {
     "duration": 0.259301,
     "end_time": "2021-12-06T11:54:23.879739",
     "exception": false,
     "start_time": "2021-12-06T11:54:23.620438",
     "status": "completed"
    },
    "tags": []
   },
   "outputs": [],
   "source": [
    "Class_df = df_dk[\"Class\"]\n",
    "df_num = df_dk.select_dtypes(include=[np.number])\n",
    "df_num = df_num.join(Class_df)"
   ]
  },
  {
   "cell_type": "markdown",
   "id": "d45f7073",
   "metadata": {
    "papermill": {
     "duration": 0.023987,
     "end_time": "2021-12-06T11:54:23.928177",
     "exception": false,
     "start_time": "2021-12-06T11:54:23.904190",
     "status": "completed"
    },
    "tags": []
   },
   "source": [
    "### Removing Columns"
   ]
  },
  {
   "cell_type": "code",
   "execution_count": 5,
   "id": "61dcaba0",
   "metadata": {
    "execution": {
     "iopub.execute_input": "2021-12-06T11:54:23.983014Z",
     "iopub.status.busy": "2021-12-06T11:54:23.981798Z",
     "iopub.status.idle": "2021-12-06T11:54:24.082475Z",
     "shell.execute_reply": "2021-12-06T11:54:24.081949Z",
     "shell.execute_reply.started": "2021-12-06T11:53:06.673127Z"
    },
    "papermill": {
     "duration": 0.129335,
     "end_time": "2021-12-06T11:54:24.082606",
     "exception": false,
     "start_time": "2021-12-06T11:54:23.953271",
     "status": "completed"
    },
    "tags": []
   },
   "outputs": [],
   "source": [
    "df_num.drop('Unnamed: 0', axis=1, inplace=True)"
   ]
  },
  {
   "cell_type": "markdown",
   "id": "2b47bb50",
   "metadata": {
    "papermill": {
     "duration": 0.023975,
     "end_time": "2021-12-06T11:54:24.130701",
     "exception": false,
     "start_time": "2021-12-06T11:54:24.106726",
     "status": "completed"
    },
    "tags": []
   },
   "source": [
    "### Removing nan values"
   ]
  },
  {
   "cell_type": "code",
   "execution_count": 6,
   "id": "97756a31",
   "metadata": {
    "execution": {
     "iopub.execute_input": "2021-12-06T11:54:24.183521Z",
     "iopub.status.busy": "2021-12-06T11:54:24.182536Z",
     "iopub.status.idle": "2021-12-06T11:54:24.564198Z",
     "shell.execute_reply": "2021-12-06T11:54:24.563717Z",
     "shell.execute_reply.started": "2021-12-06T11:53:06.779807Z"
    },
    "papermill": {
     "duration": 0.409751,
     "end_time": "2021-12-06T11:54:24.564332",
     "exception": false,
     "start_time": "2021-12-06T11:54:24.154581",
     "status": "completed"
    },
    "tags": []
   },
   "outputs": [
    {
     "name": "stdout",
     "output_type": "stream",
     "text": [
      "879\n"
     ]
    }
   ],
   "source": [
    "print(df_num.isna().sum().sum())\n",
    "df_num=df_num.dropna()"
   ]
  },
  {
   "cell_type": "code",
   "execution_count": 7,
   "id": "d3e390fb",
   "metadata": {
    "execution": {
     "iopub.execute_input": "2021-12-06T11:54:24.618153Z",
     "iopub.status.busy": "2021-12-06T11:54:24.617504Z",
     "iopub.status.idle": "2021-12-06T11:54:24.925820Z",
     "shell.execute_reply": "2021-12-06T11:54:24.926305Z",
     "shell.execute_reply.started": "2021-12-06T11:53:07.177218Z"
    },
    "papermill": {
     "duration": 0.337585,
     "end_time": "2021-12-06T11:54:24.926483",
     "exception": false,
     "start_time": "2021-12-06T11:54:24.588898",
     "status": "completed"
    },
    "tags": []
   },
   "outputs": [
    {
     "data": {
      "text/html": [
       "<div>\n",
       "<style scoped>\n",
       "    .dataframe tbody tr th:only-of-type {\n",
       "        vertical-align: middle;\n",
       "    }\n",
       "\n",
       "    .dataframe tbody tr th {\n",
       "        vertical-align: top;\n",
       "    }\n",
       "\n",
       "    .dataframe thead th {\n",
       "        text-align: right;\n",
       "    }\n",
       "</style>\n",
       "<table border=\"1\" class=\"dataframe\">\n",
       "  <thead>\n",
       "    <tr style=\"text-align: right;\">\n",
       "      <th></th>\n",
       "      <th>Source Port</th>\n",
       "      <th>Destination Port</th>\n",
       "      <th>Protocol</th>\n",
       "      <th>Flow Duration</th>\n",
       "      <th>Total Fwd Packets</th>\n",
       "      <th>Total Backward Packets</th>\n",
       "      <th>Total Length of Fwd Packets</th>\n",
       "      <th>Total Length of Bwd Packets</th>\n",
       "      <th>Fwd Packet Length Max</th>\n",
       "      <th>Fwd Packet Length Min</th>\n",
       "      <th>...</th>\n",
       "      <th>min_seg_size_forward</th>\n",
       "      <th>Active Mean</th>\n",
       "      <th>Active Std</th>\n",
       "      <th>Active Max</th>\n",
       "      <th>Active Min</th>\n",
       "      <th>Idle Mean</th>\n",
       "      <th>Idle Std</th>\n",
       "      <th>Idle Max</th>\n",
       "      <th>Idle Min</th>\n",
       "      <th>label</th>\n",
       "    </tr>\n",
       "  </thead>\n",
       "  <tbody>\n",
       "    <tr>\n",
       "      <th>315835</th>\n",
       "      <td>36942.0</td>\n",
       "      <td>443.0</td>\n",
       "      <td>6.0</td>\n",
       "      <td>46445220.0</td>\n",
       "      <td>16.0</td>\n",
       "      <td>13.0</td>\n",
       "      <td>955.0</td>\n",
       "      <td>5078.0</td>\n",
       "      <td>434.0</td>\n",
       "      <td>0.0</td>\n",
       "      <td>...</td>\n",
       "      <td>20.0</td>\n",
       "      <td>0.0</td>\n",
       "      <td>0.0</td>\n",
       "      <td>0.0</td>\n",
       "      <td>0.0</td>\n",
       "      <td>0.0</td>\n",
       "      <td>0.0</td>\n",
       "      <td>0.0</td>\n",
       "      <td>0.0</td>\n",
       "      <td>0</td>\n",
       "    </tr>\n",
       "    <tr>\n",
       "      <th>411340</th>\n",
       "      <td>61981.0</td>\n",
       "      <td>53.0</td>\n",
       "      <td>17.0</td>\n",
       "      <td>31153.0</td>\n",
       "      <td>1.0</td>\n",
       "      <td>1.0</td>\n",
       "      <td>32.0</td>\n",
       "      <td>48.0</td>\n",
       "      <td>32.0</td>\n",
       "      <td>32.0</td>\n",
       "      <td>...</td>\n",
       "      <td>32.0</td>\n",
       "      <td>0.0</td>\n",
       "      <td>0.0</td>\n",
       "      <td>0.0</td>\n",
       "      <td>0.0</td>\n",
       "      <td>0.0</td>\n",
       "      <td>0.0</td>\n",
       "      <td>0.0</td>\n",
       "      <td>0.0</td>\n",
       "      <td>0</td>\n",
       "    </tr>\n",
       "    <tr>\n",
       "      <th>78339</th>\n",
       "      <td>60378.0</td>\n",
       "      <td>80.0</td>\n",
       "      <td>6.0</td>\n",
       "      <td>62417424.0</td>\n",
       "      <td>7.0</td>\n",
       "      <td>6.0</td>\n",
       "      <td>1232.0</td>\n",
       "      <td>456.0</td>\n",
       "      <td>666.0</td>\n",
       "      <td>0.0</td>\n",
       "      <td>...</td>\n",
       "      <td>20.0</td>\n",
       "      <td>0.0</td>\n",
       "      <td>0.0</td>\n",
       "      <td>0.0</td>\n",
       "      <td>0.0</td>\n",
       "      <td>0.0</td>\n",
       "      <td>0.0</td>\n",
       "      <td>0.0</td>\n",
       "      <td>0.0</td>\n",
       "      <td>1</td>\n",
       "    </tr>\n",
       "    <tr>\n",
       "      <th>512459</th>\n",
       "      <td>50512.0</td>\n",
       "      <td>443.0</td>\n",
       "      <td>6.0</td>\n",
       "      <td>12603357.0</td>\n",
       "      <td>10.0</td>\n",
       "      <td>7.0</td>\n",
       "      <td>340.0</td>\n",
       "      <td>3112.0</td>\n",
       "      <td>214.0</td>\n",
       "      <td>0.0</td>\n",
       "      <td>...</td>\n",
       "      <td>32.0</td>\n",
       "      <td>153374.0</td>\n",
       "      <td>0.0</td>\n",
       "      <td>153374.0</td>\n",
       "      <td>153374.0</td>\n",
       "      <td>12449983.0</td>\n",
       "      <td>0.0</td>\n",
       "      <td>12449983.0</td>\n",
       "      <td>12449983.0</td>\n",
       "      <td>1</td>\n",
       "    </tr>\n",
       "    <tr>\n",
       "      <th>270850</th>\n",
       "      <td>35387.0</td>\n",
       "      <td>443.0</td>\n",
       "      <td>6.0</td>\n",
       "      <td>36769.0</td>\n",
       "      <td>1.0</td>\n",
       "      <td>1.0</td>\n",
       "      <td>0.0</td>\n",
       "      <td>0.0</td>\n",
       "      <td>0.0</td>\n",
       "      <td>0.0</td>\n",
       "      <td>...</td>\n",
       "      <td>32.0</td>\n",
       "      <td>0.0</td>\n",
       "      <td>0.0</td>\n",
       "      <td>0.0</td>\n",
       "      <td>0.0</td>\n",
       "      <td>0.0</td>\n",
       "      <td>0.0</td>\n",
       "      <td>0.0</td>\n",
       "      <td>0.0</td>\n",
       "      <td>0</td>\n",
       "    </tr>\n",
       "  </tbody>\n",
       "</table>\n",
       "<p>5 rows × 79 columns</p>\n",
       "</div>"
      ],
      "text/plain": [
       "         Source Port   Destination Port   Protocol   Flow Duration  \\\n",
       "315835       36942.0              443.0        6.0      46445220.0   \n",
       "411340       61981.0               53.0       17.0         31153.0   \n",
       "78339        60378.0               80.0        6.0      62417424.0   \n",
       "512459       50512.0              443.0        6.0      12603357.0   \n",
       "270850       35387.0              443.0        6.0         36769.0   \n",
       "\n",
       "         Total Fwd Packets   Total Backward Packets  \\\n",
       "315835                16.0                     13.0   \n",
       "411340                 1.0                      1.0   \n",
       "78339                  7.0                      6.0   \n",
       "512459                10.0                      7.0   \n",
       "270850                 1.0                      1.0   \n",
       "\n",
       "        Total Length of Fwd Packets   Total Length of Bwd Packets  \\\n",
       "315835                        955.0                        5078.0   \n",
       "411340                         32.0                          48.0   \n",
       "78339                        1232.0                         456.0   \n",
       "512459                        340.0                        3112.0   \n",
       "270850                          0.0                           0.0   \n",
       "\n",
       "         Fwd Packet Length Max   Fwd Packet Length Min  ...  \\\n",
       "315835                   434.0                     0.0  ...   \n",
       "411340                    32.0                    32.0  ...   \n",
       "78339                    666.0                     0.0  ...   \n",
       "512459                   214.0                     0.0  ...   \n",
       "270850                     0.0                     0.0  ...   \n",
       "\n",
       "         min_seg_size_forward  Active Mean   Active Std   Active Max  \\\n",
       "315835                   20.0          0.0          0.0          0.0   \n",
       "411340                   32.0          0.0          0.0          0.0   \n",
       "78339                    20.0          0.0          0.0          0.0   \n",
       "512459                   32.0     153374.0          0.0     153374.0   \n",
       "270850                   32.0          0.0          0.0          0.0   \n",
       "\n",
       "         Active Min   Idle Mean   Idle Std    Idle Max    Idle Min  label  \n",
       "315835          0.0         0.0        0.0         0.0         0.0      0  \n",
       "411340          0.0         0.0        0.0         0.0         0.0      0  \n",
       "78339           0.0         0.0        0.0         0.0         0.0      1  \n",
       "512459     153374.0  12449983.0        0.0  12449983.0  12449983.0      1  \n",
       "270850          0.0         0.0        0.0         0.0         0.0      0  \n",
       "\n",
       "[5 rows x 79 columns]"
      ]
     },
     "execution_count": 7,
     "metadata": {},
     "output_type": "execute_result"
    }
   ],
   "source": [
    "df_num[\"label\"]=df_num[\"Class\"]\n",
    "df_num.loc[df_num.label == \"Benign\", 'label'] = 0\n",
    "df_num.loc[df_num.label == \"Keylogger\", 'label'] = 1\n",
    "df_num.drop('Class', axis=1, inplace=True)\n",
    "df_num.sample(5)"
   ]
  },
  {
   "cell_type": "markdown",
   "id": "0bb68a7b",
   "metadata": {
    "papermill": {
     "duration": 0.024914,
     "end_time": "2021-12-06T11:54:24.977476",
     "exception": false,
     "start_time": "2021-12-06T11:54:24.952562",
     "status": "completed"
    },
    "tags": []
   },
   "source": [
    "# Distribution Classes"
   ]
  },
  {
   "cell_type": "code",
   "execution_count": 8,
   "id": "d354eaa4",
   "metadata": {
    "execution": {
     "iopub.execute_input": "2021-12-06T11:54:25.031073Z",
     "iopub.status.busy": "2021-12-06T11:54:25.030327Z",
     "iopub.status.idle": "2021-12-06T11:54:25.190360Z",
     "shell.execute_reply": "2021-12-06T11:54:25.189814Z",
     "shell.execute_reply.started": "2021-12-06T11:53:07.499084Z"
    },
    "papermill": {
     "duration": 0.188058,
     "end_time": "2021-12-06T11:54:25.190495",
     "exception": false,
     "start_time": "2021-12-06T11:54:25.002437",
     "status": "completed"
    },
    "tags": []
   },
   "outputs": [],
   "source": [
    "df_num=df_num.sample(n=200000)"
   ]
  },
  {
   "cell_type": "code",
   "execution_count": 9,
   "id": "a064debd",
   "metadata": {
    "execution": {
     "iopub.execute_input": "2021-12-06T11:54:25.264436Z",
     "iopub.status.busy": "2021-12-06T11:54:25.246790Z",
     "iopub.status.idle": "2021-12-06T11:54:25.271602Z",
     "shell.execute_reply": "2021-12-06T11:54:25.272059Z",
     "shell.execute_reply.started": "2021-12-06T11:53:07.669051Z"
    },
    "papermill": {
     "duration": 0.05542,
     "end_time": "2021-12-06T11:54:25.272201",
     "exception": false,
     "start_time": "2021-12-06T11:54:25.216781",
     "status": "completed"
    },
    "tags": []
   },
   "outputs": [
    {
     "data": {
      "text/plain": [
       "label\n",
       "0    117687\n",
       "1     82313\n",
       "dtype: int64"
      ]
     },
     "execution_count": 9,
     "metadata": {},
     "output_type": "execute_result"
    }
   ],
   "source": [
    "df_num.groupby('label').size()"
   ]
  },
  {
   "cell_type": "markdown",
   "id": "cd7aee48",
   "metadata": {
    "papermill": {
     "duration": 0.025066,
     "end_time": "2021-12-06T11:54:25.322817",
     "exception": false,
     "start_time": "2021-12-06T11:54:25.297751",
     "status": "completed"
    },
    "tags": []
   },
   "source": [
    "# Remove Useless Features"
   ]
  },
  {
   "cell_type": "code",
   "execution_count": 10,
   "id": "e7cc37a9",
   "metadata": {
    "execution": {
     "iopub.execute_input": "2021-12-06T11:54:25.417253Z",
     "iopub.status.busy": "2021-12-06T11:54:25.416308Z",
     "iopub.status.idle": "2021-12-06T11:54:25.899713Z",
     "shell.execute_reply": "2021-12-06T11:54:25.900209Z",
     "shell.execute_reply.started": "2021-12-06T11:53:07.699705Z"
    },
    "papermill": {
     "duration": 0.552565,
     "end_time": "2021-12-06T11:54:25.900370",
     "exception": false,
     "start_time": "2021-12-06T11:54:25.347805",
     "status": "completed"
    },
    "tags": []
   },
   "outputs": [],
   "source": [
    "for col in (df_num.iloc[:,:-1].columns):\n",
    "    if(df_num[col].min()==df_num[col].max()):\n",
    "            df_num.drop(col, axis=1, inplace=True)"
   ]
  },
  {
   "cell_type": "markdown",
   "id": "edcec1ff",
   "metadata": {
    "papermill": {
     "duration": 0.026026,
     "end_time": "2021-12-06T11:54:25.951687",
     "exception": false,
     "start_time": "2021-12-06T11:54:25.925661",
     "status": "completed"
    },
    "tags": []
   },
   "source": [
    "# Feature Scaling"
   ]
  },
  {
   "cell_type": "code",
   "execution_count": 11,
   "id": "9a83b297",
   "metadata": {
    "execution": {
     "iopub.execute_input": "2021-12-06T11:54:26.042388Z",
     "iopub.status.busy": "2021-12-06T11:54:26.041412Z",
     "iopub.status.idle": "2021-12-06T11:54:26.262655Z",
     "shell.execute_reply": "2021-12-06T11:54:26.263104Z",
     "shell.execute_reply.started": "2021-12-06T11:53:08.222905Z"
    },
    "papermill": {
     "duration": 0.285292,
     "end_time": "2021-12-06T11:54:26.263263",
     "exception": false,
     "start_time": "2021-12-06T11:54:25.977971",
     "status": "completed"
    },
    "tags": []
   },
   "outputs": [
    {
     "data": {
      "text/html": [
       "<div>\n",
       "<style scoped>\n",
       "    .dataframe tbody tr th:only-of-type {\n",
       "        vertical-align: middle;\n",
       "    }\n",
       "\n",
       "    .dataframe tbody tr th {\n",
       "        vertical-align: top;\n",
       "    }\n",
       "\n",
       "    .dataframe thead th {\n",
       "        text-align: right;\n",
       "    }\n",
       "</style>\n",
       "<table border=\"1\" class=\"dataframe\">\n",
       "  <thead>\n",
       "    <tr style=\"text-align: right;\">\n",
       "      <th></th>\n",
       "      <th>Source Port</th>\n",
       "      <th>Destination Port</th>\n",
       "      <th>Protocol</th>\n",
       "      <th>Flow Duration</th>\n",
       "      <th>Total Fwd Packets</th>\n",
       "      <th>Total Backward Packets</th>\n",
       "      <th>Total Length of Fwd Packets</th>\n",
       "      <th>Total Length of Bwd Packets</th>\n",
       "      <th>Fwd Packet Length Max</th>\n",
       "      <th>Fwd Packet Length Min</th>\n",
       "      <th>...</th>\n",
       "      <th>min_seg_size_forward</th>\n",
       "      <th>Active Mean</th>\n",
       "      <th>Active Std</th>\n",
       "      <th>Active Max</th>\n",
       "      <th>Active Min</th>\n",
       "      <th>Idle Mean</th>\n",
       "      <th>Idle Std</th>\n",
       "      <th>Idle Max</th>\n",
       "      <th>Idle Min</th>\n",
       "      <th>label</th>\n",
       "    </tr>\n",
       "  </thead>\n",
       "  <tbody>\n",
       "    <tr>\n",
       "      <th>39061</th>\n",
       "      <td>173.568257</td>\n",
       "      <td>1.726554</td>\n",
       "      <td>90.0</td>\n",
       "      <td>1.104869</td>\n",
       "      <td>0.036892</td>\n",
       "      <td>0.000000</td>\n",
       "      <td>0.000000</td>\n",
       "      <td>0.000000</td>\n",
       "      <td>0.000000</td>\n",
       "      <td>0.0</td>\n",
       "      <td>...</td>\n",
       "      <td>254.999993</td>\n",
       "      <td>0.0</td>\n",
       "      <td>0.0</td>\n",
       "      <td>0.0</td>\n",
       "      <td>0.0</td>\n",
       "      <td>0.0</td>\n",
       "      <td>0.0</td>\n",
       "      <td>0.0</td>\n",
       "      <td>0.0</td>\n",
       "      <td>0</td>\n",
       "    </tr>\n",
       "    <tr>\n",
       "      <th>334718</th>\n",
       "      <td>218.543078</td>\n",
       "      <td>1.726554</td>\n",
       "      <td>90.0</td>\n",
       "      <td>26.965508</td>\n",
       "      <td>0.295139</td>\n",
       "      <td>0.119056</td>\n",
       "      <td>0.013392</td>\n",
       "      <td>0.062028</td>\n",
       "      <td>55.541096</td>\n",
       "      <td>0.0</td>\n",
       "      <td>...</td>\n",
       "      <td>254.999993</td>\n",
       "      <td>0.0</td>\n",
       "      <td>0.0</td>\n",
       "      <td>0.0</td>\n",
       "      <td>0.0</td>\n",
       "      <td>0.0</td>\n",
       "      <td>0.0</td>\n",
       "      <td>0.0</td>\n",
       "      <td>0.0</td>\n",
       "      <td>0</td>\n",
       "    </tr>\n",
       "    <tr>\n",
       "      <th>242451</th>\n",
       "      <td>222.212507</td>\n",
       "      <td>0.311793</td>\n",
       "      <td>90.0</td>\n",
       "      <td>1.096054</td>\n",
       "      <td>0.073785</td>\n",
       "      <td>0.051024</td>\n",
       "      <td>0.016504</td>\n",
       "      <td>0.003732</td>\n",
       "      <td>113.003425</td>\n",
       "      <td>0.0</td>\n",
       "      <td>...</td>\n",
       "      <td>254.999993</td>\n",
       "      <td>0.0</td>\n",
       "      <td>0.0</td>\n",
       "      <td>0.0</td>\n",
       "      <td>0.0</td>\n",
       "      <td>0.0</td>\n",
       "      <td>0.0</td>\n",
       "      <td>0.0</td>\n",
       "      <td>0.0</td>\n",
       "      <td>0</td>\n",
       "    </tr>\n",
       "    <tr>\n",
       "      <th>253740</th>\n",
       "      <td>172.618797</td>\n",
       "      <td>1.726554</td>\n",
       "      <td>90.0</td>\n",
       "      <td>0.000627</td>\n",
       "      <td>0.036892</td>\n",
       "      <td>0.000000</td>\n",
       "      <td>0.000000</td>\n",
       "      <td>0.000000</td>\n",
       "      <td>0.000000</td>\n",
       "      <td>0.0</td>\n",
       "      <td>...</td>\n",
       "      <td>254.999993</td>\n",
       "      <td>0.0</td>\n",
       "      <td>0.0</td>\n",
       "      <td>0.0</td>\n",
       "      <td>0.0</td>\n",
       "      <td>0.0</td>\n",
       "      <td>0.0</td>\n",
       "      <td>0.0</td>\n",
       "      <td>0.0</td>\n",
       "      <td>0</td>\n",
       "    </tr>\n",
       "    <tr>\n",
       "      <th>221843</th>\n",
       "      <td>131.325078</td>\n",
       "      <td>1.726554</td>\n",
       "      <td>90.0</td>\n",
       "      <td>0.260872</td>\n",
       "      <td>0.036892</td>\n",
       "      <td>0.000000</td>\n",
       "      <td>0.000000</td>\n",
       "      <td>0.000000</td>\n",
       "      <td>0.000000</td>\n",
       "      <td>0.0</td>\n",
       "      <td>...</td>\n",
       "      <td>254.999995</td>\n",
       "      <td>0.0</td>\n",
       "      <td>0.0</td>\n",
       "      <td>0.0</td>\n",
       "      <td>0.0</td>\n",
       "      <td>0.0</td>\n",
       "      <td>0.0</td>\n",
       "      <td>0.0</td>\n",
       "      <td>0.0</td>\n",
       "      <td>1</td>\n",
       "    </tr>\n",
       "  </tbody>\n",
       "</table>\n",
       "<p>5 rows × 68 columns</p>\n",
       "</div>"
      ],
      "text/plain": [
       "         Source Port   Destination Port   Protocol   Flow Duration  \\\n",
       "39061     173.568257           1.726554       90.0        1.104869   \n",
       "334718    218.543078           1.726554       90.0       26.965508   \n",
       "242451    222.212507           0.311793       90.0        1.096054   \n",
       "253740    172.618797           1.726554       90.0        0.000627   \n",
       "221843    131.325078           1.726554       90.0        0.260872   \n",
       "\n",
       "         Total Fwd Packets   Total Backward Packets  \\\n",
       "39061             0.036892                 0.000000   \n",
       "334718            0.295139                 0.119056   \n",
       "242451            0.073785                 0.051024   \n",
       "253740            0.036892                 0.000000   \n",
       "221843            0.036892                 0.000000   \n",
       "\n",
       "        Total Length of Fwd Packets   Total Length of Bwd Packets  \\\n",
       "39061                      0.000000                      0.000000   \n",
       "334718                     0.013392                      0.062028   \n",
       "242451                     0.016504                      0.003732   \n",
       "253740                     0.000000                      0.000000   \n",
       "221843                     0.000000                      0.000000   \n",
       "\n",
       "         Fwd Packet Length Max   Fwd Packet Length Min  ...  \\\n",
       "39061                 0.000000                     0.0  ...   \n",
       "334718               55.541096                     0.0  ...   \n",
       "242451              113.003425                     0.0  ...   \n",
       "253740                0.000000                     0.0  ...   \n",
       "221843                0.000000                     0.0  ...   \n",
       "\n",
       "         min_seg_size_forward  Active Mean   Active Std   Active Max  \\\n",
       "39061              254.999993          0.0          0.0          0.0   \n",
       "334718             254.999993          0.0          0.0          0.0   \n",
       "242451             254.999993          0.0          0.0          0.0   \n",
       "253740             254.999993          0.0          0.0          0.0   \n",
       "221843             254.999995          0.0          0.0          0.0   \n",
       "\n",
       "         Active Min  Idle Mean   Idle Std   Idle Max   Idle Min  label  \n",
       "39061           0.0        0.0        0.0        0.0        0.0      0  \n",
       "334718          0.0        0.0        0.0        0.0        0.0      0  \n",
       "242451          0.0        0.0        0.0        0.0        0.0      0  \n",
       "253740          0.0        0.0        0.0        0.0        0.0      0  \n",
       "221843          0.0        0.0        0.0        0.0        0.0      1  \n",
       "\n",
       "[5 rows x 68 columns]"
      ]
     },
     "execution_count": 11,
     "metadata": {},
     "output_type": "execute_result"
    }
   ],
   "source": [
    "# Normalization OR Standardization\n",
    "def standardize(df,col):\n",
    "    #df[col]= (df[col]-df[col].mean())/(df[col].std()) # Standardization\n",
    "    df[col]= 255*(df[col]-df[col].min())/(df[col].max()-df[col].min()) #Normalization\n",
    "\n",
    "for i in (df_num.iloc[:,:-1].columns):\n",
    "    standardize (df_num,i)\n",
    "\n",
    "df_num.head()"
   ]
  },
  {
   "cell_type": "code",
   "execution_count": 12,
   "id": "02d7a793",
   "metadata": {
    "execution": {
     "iopub.execute_input": "2021-12-06T11:54:26.320095Z",
     "iopub.status.busy": "2021-12-06T11:54:26.319194Z",
     "iopub.status.idle": "2021-12-06T11:54:27.322111Z",
     "shell.execute_reply": "2021-12-06T11:54:27.321639Z",
     "shell.execute_reply.started": "2021-12-06T11:53:08.491867Z"
    },
    "papermill": {
     "duration": 1.033035,
     "end_time": "2021-12-06T11:54:27.322240",
     "exception": false,
     "start_time": "2021-12-06T11:54:26.289205",
     "status": "completed"
    },
    "tags": []
   },
   "outputs": [
    {
     "name": "stderr",
     "output_type": "stream",
     "text": [
      "C:\\Users\\HP\\AppData\\Local\\Programs\\Python\\Python37\\opencv\\lib\\site-packages\\ipykernel_launcher.py:3: PerformanceWarning: DataFrame is highly fragmented.  This is usually the result of calling `frame.insert` many times, which has poor performance.  Consider joining all columns at once using pd.concat(axis=1) instead.  To get a de-fragmented frame, use `newframe = frame.copy()`\n",
      "  This is separate from the ipykernel package so we can avoid doing imports until\n"
     ]
    },
    {
     "data": {
      "text/plain": [
       "(200000, 1025)"
      ]
     },
     "execution_count": 12,
     "metadata": {},
     "output_type": "execute_result"
    }
   ],
   "source": [
    "for i in range(957):\n",
    "    col=\"A\"+str(i)\n",
    "    df_num[col]=0\n",
    "\n",
    "df_num.shape\n"
   ]
  },
  {
   "cell_type": "code",
   "execution_count": 13,
   "id": "9ec7367f",
   "metadata": {
    "execution": {
     "iopub.execute_input": "2021-12-06T11:54:27.379000Z",
     "iopub.status.busy": "2021-12-06T11:54:27.378223Z",
     "iopub.status.idle": "2021-12-06T11:54:27.380633Z",
     "shell.execute_reply": "2021-12-06T11:54:27.380232Z",
     "shell.execute_reply.started": "2021-12-06T11:53:09.542245Z"
    },
    "papermill": {
     "duration": 0.032249,
     "end_time": "2021-12-06T11:54:27.380736",
     "exception": false,
     "start_time": "2021-12-06T11:54:27.348487",
     "status": "completed"
    },
    "tags": []
   },
   "outputs": [],
   "source": [
    "target=['label']\n",
    "features = [c for c in df_num.columns if c!=\"label\"]"
   ]
  },
  {
   "cell_type": "code",
   "execution_count": 14,
   "id": "d9a316be",
   "metadata": {
    "execution": {
     "iopub.execute_input": "2021-12-06T11:54:27.448834Z",
     "iopub.status.busy": "2021-12-06T11:54:27.448280Z",
     "iopub.status.idle": "2021-12-06T11:54:29.229393Z",
     "shell.execute_reply": "2021-12-06T11:54:29.228825Z",
     "shell.execute_reply.started": "2021-12-06T11:53:09.551968Z"
    },
    "papermill": {
     "duration": 1.821385,
     "end_time": "2021-12-06T11:54:29.229532",
     "exception": false,
     "start_time": "2021-12-06T11:54:27.408147",
     "status": "completed"
    },
    "tags": []
   },
   "outputs": [
    {
     "name": "stdout",
     "output_type": "stream",
     "text": [
      "<class 'numpy.ndarray'>\n"
     ]
    },
    {
     "data": {
      "image/png": "[encoded data removed]",
      "text/plain": [
       "<Figure size 432x288 with 1 Axes>"
      ]
     },
     "metadata": {
      "needs_background": "light"
     },
     "output_type": "display_data"
    }
   ],
   "source": [
    "row_1=df_num[features].iloc[0].to_numpy()\n",
    "row_1.shape\n",
    "row_2=row_1.reshape(32, 32)\n",
    "row_2=row_2.astype(int)\n",
    "print(type(row_2))\n",
    "from matplotlib import pyplot as plt\n",
    "plt.imshow(row_2,cmap='gray')\n",
    "plt.show()"
   ]
  },
  {
   "cell_type": "markdown",
   "id": "b2bdddc0",
   "metadata": {
    "papermill": {
     "duration": 0.027455,
     "end_time": "2021-12-06T11:54:29.284851",
     "exception": false,
     "start_time": "2021-12-06T11:54:29.257396",
     "status": "completed"
    },
    "tags": []
   },
   "source": [
    "# Split DataSet"
   ]
  },
  {
   "cell_type": "code",
   "execution_count": 15,
   "id": "08a69a1c",
   "metadata": {
    "execution": {
     "iopub.execute_input": "2021-12-06T11:54:29.805766Z",
     "iopub.status.busy": "2021-12-06T11:54:29.343788Z",
     "iopub.status.idle": "2021-12-06T11:54:30.648652Z",
     "shell.execute_reply": "2021-12-06T11:54:30.647694Z",
     "shell.execute_reply.started": "2021-12-06T11:53:11.542972Z"
    },
    "papermill": {
     "duration": 1.337297,
     "end_time": "2021-12-06T11:54:30.648804",
     "exception": false,
     "start_time": "2021-12-06T11:54:29.311507",
     "status": "completed"
    },
    "tags": []
   },
   "outputs": [
    {
     "data": {
      "text/plain": [
       "((200000, 1024), (200000, 1))"
      ]
     },
     "execution_count": 15,
     "metadata": {},
     "output_type": "execute_result"
    }
   ],
   "source": [
    "X = df_num[features].values # Features\n",
    "y = df_num[target].values # Target\n",
    "\n",
    "X=X.astype(np.float32)\n",
    "y=y.astype(np.float32)\n",
    "\n",
    "X.shape,y.shape,"
   ]
  },
  {
   "cell_type": "code",
   "execution_count": 16,
   "id": "49508abd",
   "metadata": {
    "execution": {
     "iopub.execute_input": "2021-12-06T11:54:30.713153Z",
     "iopub.status.busy": "2021-12-06T11:54:30.712081Z",
     "iopub.status.idle": "2021-12-06T11:54:32.962282Z",
     "shell.execute_reply": "2021-12-06T11:54:32.963281Z",
     "shell.execute_reply.started": "2021-12-06T11:53:13.016463Z"
    },
    "papermill": {
     "duration": 2.287227,
     "end_time": "2021-12-06T11:54:32.963537",
     "exception": false,
     "start_time": "2021-12-06T11:54:30.676310",
     "status": "completed"
    },
    "tags": []
   },
   "outputs": [],
   "source": [
    "from sklearn.model_selection import train_test_split\n",
    "X_train, X_test, y_train, y_test = train_test_split(X, y, test_size=0.2, random_state=12)"
   ]
  },
  {
   "cell_type": "code",
   "execution_count": 17,
   "id": "c10959f0",
   "metadata": {
    "execution": {
     "iopub.execute_input": "2021-12-06T11:54:33.131200Z",
     "iopub.status.busy": "2021-12-06T11:54:33.130363Z",
     "iopub.status.idle": "2021-12-06T11:54:33.134734Z",
     "shell.execute_reply": "2021-12-06T11:54:33.135344Z",
     "shell.execute_reply.started": "2021-12-06T11:53:15.203191Z"
    },
    "papermill": {
     "duration": 0.106785,
     "end_time": "2021-12-06T11:54:33.135543",
     "exception": false,
     "start_time": "2021-12-06T11:54:33.028758",
     "status": "completed"
    },
    "tags": []
   },
   "outputs": [
    {
     "data": {
      "text/plain": [
       "((160000, 1024), (40000, 1024), (160000, 1), (40000, 1))"
      ]
     },
     "execution_count": 17,
     "metadata": {},
     "output_type": "execute_result"
    }
   ],
   "source": [
    "X_train.shape,X_test.shape,y_train.shape,y_test.shape"
   ]
  },
  {
   "cell_type": "markdown",
   "id": "ed2a2ad8",
   "metadata": {
    "papermill": {
     "duration": 0.102975,
     "end_time": "2021-12-06T11:54:33.395474",
     "exception": false,
     "start_time": "2021-12-06T11:54:33.292499",
     "status": "completed"
    },
    "tags": []
   },
   "source": [
    "# To Build Machine Learning Model"
   ]
  },
  {
   "cell_type": "code",
   "execution_count": 18,
   "id": "0a765b3c",
   "metadata": {},
   "outputs": [],
   "source": [
    "#importing models:\n",
    "from sklearn.svm import SVC\n",
    "from sklearn.neural_network import MLPClassifier\n",
    "from sklearn.neighbors import KNeighborsClassifier\n",
    "from sklearn.linear_model import LogisticRegression\n",
    "from sklearn.naive_bayes import CategoricalNB\n",
    "from sklearn.tree import DecisionTreeClassifier\n",
    "from sklearn.metrics import accuracy_score,confusion_matrix,classification_report"
   ]
  },
  {
   "cell_type": "code",
   "execution_count": 19,
   "id": "162b0f41",
   "metadata": {},
   "outputs": [],
   "source": [
    "classifiers = []\n",
    "\n",
    "model1 = SVC(max_iter=700)\n",
    "classifiers.append(model1)\n",
    "\n",
    "model2 = MLPClassifier(max_iter = 700, activation = 'relu')\n",
    "classifiers.append(model2)\n",
    "\n",
    "model3 = KNeighborsClassifier()\n",
    "classifiers.append(model3)\n",
    "\n",
    "model4 = LogisticRegression(solver='lbfgs', max_iter=700)\n",
    "classifiers.append(model4)\n",
    "\n",
    "model5 = DecisionTreeClassifier(criterion='entropy')\n",
    "classifiers.append(model5)"
   ]
  },
  {
   "cell_type": "code",
   "execution_count": 20,
   "id": "434125ba",
   "metadata": {},
   "outputs": [
    {
     "name": "stdout",
     "output_type": "stream",
     "text": [
      "(160000,)\n",
      "[0. 0. 0. ... 0. 0. 0.]\n"
     ]
    }
   ],
   "source": [
    "y_train=y_train.reshape(1,-1)\n",
    "y_train=y_train[0]\n",
    "print(y_train.shape)\n",
    "print(y_train)\n",
    "#model1.fit(X_train,y_train.ravel)"
   ]
  },
  {
   "cell_type": "code",
   "execution_count": null,
   "id": "4cf09b54",
   "metadata": {},
   "outputs": [],
   "source": [
    "model2.fit(X_train, y_train)"
   ]
  },
  {
   "cell_type": "code",
   "execution_count": null,
   "id": "283867da",
   "metadata": {},
   "outputs": [],
   "source": [
    "y_pred= model2.predict(X_test)\n"
   ]
  },
  {
   "cell_type": "code",
   "execution_count": null,
   "id": "f1024221",
   "metadata": {},
   "outputs": [],
   "source": [
    "acc = accuracy_score(y_test, y_pred)\n",
    "print(\"Accuracy of %s is %s\"%(model2, acc))\n",
    "cm = confusion_matrix(y_test, y_pred, labels=model1.classes_)\n",
    "print(\"Confusion Matrix of %s is %s\"%(model2, cm))\n",
    "print(\"\\n\")"
   ]
  },
  {
   "cell_type": "code",
   "execution_count": 21,
   "id": "0b0025e6",
   "metadata": {},
   "outputs": [
    {
     "name": "stderr",
     "output_type": "stream",
     "text": [
      "C:\\Users\\HP\\AppData\\Local\\Programs\\Python\\Python37\\opencv\\lib\\site-packages\\sklearn\\svm\\_base.py:289: ConvergenceWarning: Solver terminated early (max_iter=700).  Consider pre-processing your data with StandardScaler or MinMaxScaler.\n",
      "  ConvergenceWarning,\n"
     ]
    },
    {
     "name": "stdout",
     "output_type": "stream",
     "text": [
      "Accuracy of SVC(max_iter=700) is 0.561275\n",
      "Confusion Matrix of SVC(max_iter=700) is [[17817  5852]\n",
      " [11697  4634]]\n",
      "\n",
      "\n",
      "Accuracy of MLPClassifier(max_iter=700) is 0.63505\n",
      "Confusion Matrix of MLPClassifier(max_iter=700) is [[21214  2455]\n",
      " [12143  4188]]\n",
      "\n",
      "\n",
      "Accuracy of KNeighborsClassifier() is 0.74025\n",
      "Confusion Matrix of KNeighborsClassifier() is [[18934  4735]\n",
      " [ 5655 10676]]\n",
      "\n",
      "\n"
     ]
    },
    {
     "name": "stderr",
     "output_type": "stream",
     "text": [
      "C:\\Users\\HP\\AppData\\Local\\Programs\\Python\\Python37\\opencv\\lib\\site-packages\\sklearn\\linear_model\\_logistic.py:818: ConvergenceWarning: lbfgs failed to converge (status=1):\n",
      "STOP: TOTAL NO. of ITERATIONS REACHED LIMIT.\n",
      "\n",
      "Increase the number of iterations (max_iter) or scale the data as shown in:\n",
      "    https://scikit-learn.org/stable/modules/preprocessing.html\n",
      "Please also refer to the documentation for alternative solver options:\n",
      "    https://scikit-learn.org/stable/modules/linear_model.html#logistic-regression\n",
      "  extra_warning_msg=_LOGISTIC_SOLVER_CONVERGENCE_MSG,\n"
     ]
    },
    {
     "name": "stdout",
     "output_type": "stream",
     "text": [
      "Accuracy of LogisticRegression(max_iter=700) is 0.600675\n",
      "Confusion Matrix of LogisticRegression(max_iter=700) is [[21864  1805]\n",
      " [14168  2163]]\n",
      "\n",
      "\n",
      "Accuracy of DecisionTreeClassifier(criterion='entropy') is 0.88195\n",
      "Confusion Matrix of DecisionTreeClassifier(criterion='entropy') is [[21304  2365]\n",
      " [ 2357 13974]]\n",
      "\n",
      "\n"
     ]
    }
   ],
   "source": [
    "for clf in classifiers:\n",
    "    clf.fit(X_train, y_train)\n",
    "    y_pred= clf.predict(X_test)\n",
    "    acc = accuracy_score(y_test, y_pred)\n",
    "    print(\"Accuracy of %s is %s\"%(clf, acc))\n",
    "    cm = confusion_matrix(y_test, y_pred, labels=clf.classes_)\n",
    "    print(\"Confusion Matrix of %s is %s\"%(clf, cm))\n",
    "    print(\"\\n\")"
   ]
  },
  {
   "cell_type": "markdown",
   "id": "4eaaebc5",
   "metadata": {},
   "source": [
    "For the above segment of code, we have created a classifier array, where in we will store all the trained model objects, and using a for loop we will \"fit\" them to our train and test them with our test data.\n",
    "\n",
    "Considering the above metrics, logistic regression gives the highest precision."
   ]
  },
  {
   "cell_type": "code",
   "execution_count": 26,
   "id": "c58010df",
   "metadata": {},
   "outputs": [],
   "source": [
    "#finalising the model as logistic regression\n",
    "model5.fit(X_train,y_train)\n",
    "y_pred = model5.predict(X_test)\n",
    "acc = accuracy_score(y_test, y_pred)\n",
    "cm = confusion_matrix(y_test, y_pred, labels=model5.classes_)"
   ]
  },
  {
   "cell_type": "code",
   "execution_count": 27,
   "id": "e19f4171",
   "metadata": {},
   "outputs": [
    {
     "data": {
      "text/plain": [
       "0.881325"
      ]
     },
     "execution_count": 27,
     "metadata": {},
     "output_type": "execute_result"
    }
   ],
   "source": [
    "acc"
   ]
  },
  {
   "cell_type": "code",
   "execution_count": 28,
   "id": "9908747c",
   "metadata": {},
   "outputs": [
    {
     "data": {
      "text/plain": [
       "array([[21313,  2356],\n",
       "       [ 2391, 13940]], dtype=int64)"
      ]
     },
     "execution_count": 28,
     "metadata": {},
     "output_type": "execute_result"
    }
   ],
   "source": [
    "cm"
   ]
  },
  {
   "cell_type": "markdown",
   "id": "4e298ef9",
   "metadata": {},
   "source": [
    "## Visualizing the Metrics of our model"
   ]
  },
  {
   "cell_type": "code",
   "execution_count": 30,
   "id": "cd535c4c",
   "metadata": {},
   "outputs": [
    {
     "data": {
      "image/png": "[encoded data removed]",
      "text/plain": [
       "<Figure size 360x360 with 1 Axes>"
      ]
     },
     "metadata": {
      "needs_background": "light"
     },
     "output_type": "display_data"
    }
   ],
   "source": [
    "%matplotlib inline\n",
    "import matplotlib.pyplot as plt\n",
    "\n",
    "from IPython.display import Image, display\n",
    "\n",
    "classes = [0.0,1.0]\n",
    "\n",
    "actual_classes = []\n",
    "for c in model5.classes_:\n",
    "    actual_classes.append(classes[int(c)])\n",
    "\n",
    "fig, ax = plt.subplots(figsize=(5, 5))\n",
    "ax.matshow(cm, cmap=plt.cm.Reds, alpha=0.3)\n",
    "for i in range(cm.shape[0]):\n",
    "     for j in range(cm.shape[1]):\n",
    "            ax.text(x=j, y=i,\n",
    "                s=cm[i, j], \n",
    "                va='center', ha='center')\n",
    "plt.yticks(range(len(actual_classes)), actual_classes)\n",
    "plt.xlabel('Predicted Values', )\n",
    "plt.ylabel('Actual Values')\n",
    "plt.show()"
   ]
  },
  {
   "cell_type": "code",
   "execution_count": 31,
   "id": "6f27a36a",
   "metadata": {},
   "outputs": [
    {
     "name": "stdout",
     "output_type": "stream",
     "text": [
      "              precision    recall  f1-score   support\n",
      "\n",
      "         0.0       0.90      0.90      0.90     23669\n",
      "         1.0       0.86      0.85      0.85     16331\n",
      "\n",
      "    accuracy                           0.88     40000\n",
      "   macro avg       0.88      0.88      0.88     40000\n",
      "weighted avg       0.88      0.88      0.88     40000\n",
      "\n"
     ]
    }
   ],
   "source": [
    "from sklearn.metrics import classification_report\n",
    "print(classification_report(y_test, y_pred))"
   ]
  },
  {
   "cell_type": "code",
   "execution_count": 32,
   "id": "0252b74b",
   "metadata": {
    "execution": {
     "iopub.execute_input": "2021-12-06T11:54:33.495989Z",
     "iopub.status.busy": "2021-12-06T11:54:33.495189Z",
     "iopub.status.idle": "2021-12-06T11:54:33.498343Z",
     "shell.execute_reply": "2021-12-06T11:54:33.498962Z",
     "shell.execute_reply.started": "2021-12-06T11:53:15.223665Z"
    },
    "papermill": {
     "duration": 0.061505,
     "end_time": "2021-12-06T11:54:33.499143",
     "exception": false,
     "start_time": "2021-12-06T11:54:33.437638",
     "status": "completed"
    },
    "tags": []
   },
   "outputs": [],
   "source": [
    "learning_rate=0.0001\n",
    "batch_size=1024\n",
    "epochs = 50\n",
    "\n",
    "model_save = ModelCheckpoint('./Keylogging.h5', \n",
    "                             save_best_only = True, \n",
    "                             save_weights_only = True,\n",
    "                             monitor = 'val_loss', \n",
    "                             mode = 'min', verbose = 1)\n",
    "early_stop = EarlyStopping(monitor = 'val_loss', min_delta = 0.0001, \n",
    "                           patience = 10, mode = 'min', verbose = 1,\n",
    "                           restore_best_weights = True)\n",
    "reduce_lr = ReduceLROnPlateau(monitor = 'val_loss', factor = 0.75, \n",
    "                              patience = 10, min_delta = 0.0001, \n",
    "                              mode = 'min', verbose = 1)"
   ]
  },
  {
   "cell_type": "code",
   "execution_count": 33,
   "id": "fd6f0496",
   "metadata": {},
   "outputs": [
    {
     "name": "stdout",
     "output_type": "stream",
     "text": [
      "R^2 score: 0.51\n",
      "MAE score: 0.12\n",
      "EVS score: 0.51\n"
     ]
    }
   ],
   "source": [
    "#Other metrics:\n",
    "from sklearn.metrics import r2_score, explained_variance_score, mean_absolute_error\n",
    "print(f'R^2 score: {r2_score(y_true=y_test, y_pred=y_pred):.2f}')\n",
    "print(f'MAE score: {mean_absolute_error(y_true=y_test, y_pred=y_pred):.2f}')\n",
    "print(f'EVS score: {explained_variance_score(y_true=y_test, y_pred=y_pred):.2f}')"
   ]
  },
  {
   "cell_type": "markdown",
   "id": "309fc488",
   "metadata": {},
   "source": [
    "## Pickling the model"
   ]
  },
  {
   "cell_type": "code",
   "execution_count": 35,
   "id": "c2630a64",
   "metadata": {},
   "outputs": [],
   "source": [
    "import pickle\n",
    "with open('KeyloggingMLModel.pkl', 'wb') as file:\n",
    "    pickle.dump(model, file)"
   ]
  },
  {
   "cell_type": "code",
   "execution_count": null,
   "id": "39095a84",
   "metadata": {},
   "outputs": [],
   "source": []
  }
 ],
 "metadata": {
  "kernelspec": {
   "display_name": "Python 3 (ipykernel)",
   "language": "python",
   "name": "python3"
  },
  "language_info": {
   "codemirror_mode": {
    "name": "ipython",
    "version": 3
   },
   "file_extension": ".py",
   "mimetype": "text/x-python",
   "name": "python",
   "nbconvert_exporter": "python",
   "pygments_lexer": "ipython3",
   "version": "3.7.4"
  },
  "papermill": {
   "default_parameters": {},
   "duration": 347.146395,
   "end_time": "2021-12-06T11:59:46.248535",
   "environment_variables": {},
   "exception": null,
   "input_path": "__notebook__.ipynb",
   "output_path": "__notebook__.ipynb",
   "parameters": {},
   "start_time": "2021-12-06T11:53:59.102140",
   "version": "2.3.3"
  }
 },
 "nbformat": 4,
 "nbformat_minor": 5
}
